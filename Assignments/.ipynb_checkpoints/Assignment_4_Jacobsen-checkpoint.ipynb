{
 "cells": [
  {
   "cell_type": "code",
   "execution_count": 1,
   "id": "ba3ed3c0-276e-4c1e-a700-7063f8592d82",
   "metadata": {},
   "outputs": [],
   "source": [
    "# Tara Jacobsen\n",
    "# DSSA \n",
    "# Professor Laurino\n",
    "# 27 February 2025"
   ]
  },
  {
   "cell_type": "code",
   "execution_count": 8,
   "id": "c008542d-271a-4307-ac74-87ec706d474a",
   "metadata": {},
   "outputs": [],
   "source": [
    "import sqlalchemy\n",
    "from sqlalchemy import create_engine\n",
    "import pandas as pd"
   ]
  },
  {
   "cell_type": "code",
   "execution_count": 9,
   "id": "b40e23ac-c795-4ad6-af0d-60d5aa50972e",
   "metadata": {},
   "outputs": [],
   "source": [
    "engine = create_engine('sqlite:///sql-murder-mystery.db')"
   ]
  },
  {
   "cell_type": "code",
   "execution_count": null,
   "id": "dab210bd-d8a4-4ece-b915-cb9e6a6f4655",
   "metadata": {},
   "outputs": [],
   "source": []
  }
 ],
 "metadata": {
  "kernelspec": {
   "display_name": "Python 3 (ipykernel)",
   "language": "python",
   "name": "python3"
  },
  "language_info": {
   "codemirror_mode": {
    "name": "ipython",
    "version": 3
   },
   "file_extension": ".py",
   "mimetype": "text/x-python",
   "name": "python",
   "nbconvert_exporter": "python",
   "pygments_lexer": "ipython3",
   "version": "3.13.2"
  }
 },
 "nbformat": 4,
 "nbformat_minor": 5
}
