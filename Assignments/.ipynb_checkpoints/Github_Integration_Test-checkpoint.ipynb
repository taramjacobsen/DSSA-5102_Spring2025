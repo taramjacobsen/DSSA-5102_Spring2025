{
 "cells": [
  {
   "cell_type": "markdown",
   "id": "5ea6f388-d5ba-4397-9e50-7cf38ad19017",
   "metadata": {},
   "source": [
    "I followed the Blackboard tutorial for integrating Jupyter notebook with Github, and now I am publishing my first .ipynb via the terminal :) "
   ]
  }
 ],
 "metadata": {
  "kernelspec": {
   "display_name": "Python [conda env:base] *",
   "language": "python",
   "name": "conda-base-py"
  },
  "language_info": {
   "codemirror_mode": {
    "name": "ipython",
    "version": 3
   },
   "file_extension": ".py",
   "mimetype": "text/x-python",
   "name": "python",
   "nbconvert_exporter": "python",
   "pygments_lexer": "ipython3",
   "version": "3.9.21"
  }
 },
 "nbformat": 4,
 "nbformat_minor": 5
}
