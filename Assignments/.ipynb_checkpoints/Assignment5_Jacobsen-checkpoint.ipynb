{
 "cells": [
  {
   "cell_type": "markdown",
   "id": "ae743577-a970-451b-948f-d528d21c63d8",
   "metadata": {},
   "source": [
    "# In Class Activity - Spotify Database - SQL Practice"
   ]
  },
  {
   "cell_type": "markdown",
   "id": "648408a3-f1b6-4f97-9cc2-2d740b59d5d2",
   "metadata": {},
   "source": [
    "<b>Instructor:</b> Melissa Laurino</br>\n",
    "Spring 2025</br>\n",
    "\n",
    "<b>Name:</b> Tara Jacobsen\n",
    "</br>\n",
    "<b>Date:</b> 22 Feb 2025\n",
    "<br>\n",
    "<br>"
   ]
  },
  {
   "cell_type": "code",
   "execution_count": 146,
   "id": "c93e0d77-aebd-4c66-a2b2-6b9cd7933bc8",
   "metadata": {
    "tags": []
   },
   "outputs": [],
   "source": [
    "# Load necessary packages:\n",
    "from sqlalchemy import create_engine, inspect, text # Database navigation\n",
    "import sqlite3 # A second option for working with databases\n",
    "import pandas as pd # Python data manilpulation"
   ]
  },
  {
   "cell_type": "code",
   "execution_count": 147,
   "id": "51763e7c-c15f-496d-9bdf-3b03e81a4189",
   "metadata": {
    "tags": []
   },
   "outputs": [],
   "source": [
    "# Set working directory (If needed)\n",
    "import os\n",
    "os.chdir('/Users/workschool/Documents/dssa-dg/DSSA/Assignments')"
   ]
  },
  {
   "cell_type": "code",
   "execution_count": null,
   "id": "eaf795b9-3bac-42e6-b51d-8fa035e85d55",
   "metadata": {},
   "outputs": [],
   "source": [
    "# Print the columns in the database:"
   ]
  },
  {
   "cell_type": "code",
   "execution_count": 148,
   "id": "09436b30-c735-4629-8bb3-6a5a2925046a",
   "metadata": {
    "tags": []
   },
   "outputs": [],
   "source": [
    "# Create a SQLite database and engine\n",
    "db_file = \"spotify_data.db\"\n",
    "engine = create_engine(f\"sqlite:///{db_file}\")"
   ]
  },
  {
   "cell_type": "code",
   "execution_count": 149,
   "id": "74700106-a8d3-48b5-8eb5-2acf9c8a5450",
   "metadata": {
    "tags": []
   },
   "outputs": [
    {
     "name": "stdout",
     "output_type": "stream",
     "text": [
      "Columns in spotify_history table:\n",
      "ts - TEXT\n",
      "platform - TEXT\n",
      "ms_played - BIGINT\n",
      "conn_country - TEXT\n",
      "ip_addr - TEXT\n",
      "master_metadata_track_name - TEXT\n",
      "master_metadata_album_artist_name - TEXT\n",
      "master_metadata_album_album_name - TEXT\n",
      "spotify_track_uri - TEXT\n",
      "episode_name - FLOAT\n",
      "episode_show_name - FLOAT\n",
      "spotify_episode_uri - FLOAT\n",
      "audiobook_title - FLOAT\n",
      "audiobook_uri - FLOAT\n",
      "audiobook_chapter_uri - FLOAT\n",
      "audiobook_chapter_title - FLOAT\n",
      "reason_start - TEXT\n",
      "reason_end - TEXT\n",
      "shuffle - BOOLEAN\n",
      "skipped - BOOLEAN\n",
      "offline - BOOLEAN\n",
      "offline_timestamp - FLOAT\n",
      "incognito_mode - BOOLEAN\n",
      "year - BIGINT\n"
     ]
    }
   ],
   "source": [
    "# Inspect the database to list the fields\n",
    "inspector = inspect(engine)\n",
    "columns = inspector.get_columns(\"spotify_history\")\n",
    "# Print column names\n",
    "print(\"Columns in spotify_history table:\")\n",
    "for col in columns:\n",
    "    print(col[\"name\"], \"-\", col[\"type\"])"
   ]
  },
  {
   "cell_type": "markdown",
   "id": "1946d38f-3421-4284-9e97-767f24ae729b",
   "metadata": {},
   "source": [
    "For practice, there are not multiple tables in this database. There is only one table named spotify_history."
   ]
  },
  {
   "cell_type": "markdown",
   "id": "f4ef2d42-d445-4d96-983a-444c09e97e97",
   "metadata": {},
   "source": [
    "Metadata for this database can be found here: https://github.com/MelissaLaurino/SpotifyStreamingHistory"
   ]
  },
  {
   "cell_type": "markdown",
   "id": "29ea3225-6c20-46aa-881b-556a754089f6",
   "metadata": {},
   "source": [
    "We can use COUNT( * ) to summarize and count occurrences in SQL. Use COUNT( * ) below:"
   ]
  },
  {
   "cell_type": "markdown",
   "id": "fbb4cf6b-4b9c-4345-ac1c-d7836078ab50",
   "metadata": {},
   "source": [
    "<b>Query 1:</b> <br>\n",
    "Find the top 30 artists listened to in the year 2024."
   ]
  },
  {
   "cell_type": "code",
   "execution_count": 150,
   "id": "8363df2a-72b0-4371-ab65-ca108448d835",
   "metadata": {
    "tags": []
   },
   "outputs": [
    {
     "data": {
      "text/html": [
       "<div>\n",
       "<style scoped>\n",
       "    .dataframe tbody tr th:only-of-type {\n",
       "        vertical-align: middle;\n",
       "    }\n",
       "\n",
       "    .dataframe tbody tr th {\n",
       "        vertical-align: top;\n",
       "    }\n",
       "\n",
       "    .dataframe thead th {\n",
       "        text-align: right;\n",
       "    }\n",
       "</style>\n",
       "<table border=\"1\" class=\"dataframe\">\n",
       "  <thead>\n",
       "    <tr style=\"text-align: right;\">\n",
       "      <th></th>\n",
       "      <th>artist</th>\n",
       "      <th>minutes_played</th>\n",
       "    </tr>\n",
       "  </thead>\n",
       "  <tbody>\n",
       "    <tr>\n",
       "      <th>0</th>\n",
       "      <td>Miley Cyrus</td>\n",
       "      <td>182615</td>\n",
       "    </tr>\n",
       "    <tr>\n",
       "      <th>1</th>\n",
       "      <td>Marian Hill</td>\n",
       "      <td>104027</td>\n",
       "    </tr>\n",
       "    <tr>\n",
       "      <th>2</th>\n",
       "      <td>Hozier</td>\n",
       "      <td>93339</td>\n",
       "    </tr>\n",
       "    <tr>\n",
       "      <th>3</th>\n",
       "      <td>Ariana Grande</td>\n",
       "      <td>72598</td>\n",
       "    </tr>\n",
       "    <tr>\n",
       "      <th>4</th>\n",
       "      <td>Noah Cyrus</td>\n",
       "      <td>68474</td>\n",
       "    </tr>\n",
       "    <tr>\n",
       "      <th>5</th>\n",
       "      <td>Lana Del Rey</td>\n",
       "      <td>67470</td>\n",
       "    </tr>\n",
       "    <tr>\n",
       "      <th>6</th>\n",
       "      <td>Nashville Cast</td>\n",
       "      <td>60764</td>\n",
       "    </tr>\n",
       "    <tr>\n",
       "      <th>7</th>\n",
       "      <td>Ed Sheeran</td>\n",
       "      <td>56812</td>\n",
       "    </tr>\n",
       "    <tr>\n",
       "      <th>8</th>\n",
       "      <td>Meghan Trainor</td>\n",
       "      <td>55093</td>\n",
       "    </tr>\n",
       "    <tr>\n",
       "      <th>9</th>\n",
       "      <td>Lady Gaga</td>\n",
       "      <td>51627</td>\n",
       "    </tr>\n",
       "    <tr>\n",
       "      <th>10</th>\n",
       "      <td>Mumford &amp; Sons</td>\n",
       "      <td>50921</td>\n",
       "    </tr>\n",
       "    <tr>\n",
       "      <th>11</th>\n",
       "      <td>Panic! At The Disco</td>\n",
       "      <td>48674</td>\n",
       "    </tr>\n",
       "    <tr>\n",
       "      <th>12</th>\n",
       "      <td>Lord Huron</td>\n",
       "      <td>48077</td>\n",
       "    </tr>\n",
       "    <tr>\n",
       "      <th>13</th>\n",
       "      <td>Billie Eilish</td>\n",
       "      <td>44978</td>\n",
       "    </tr>\n",
       "    <tr>\n",
       "      <th>14</th>\n",
       "      <td>Taylor Swift</td>\n",
       "      <td>44387</td>\n",
       "    </tr>\n",
       "    <tr>\n",
       "      <th>15</th>\n",
       "      <td>Eminem</td>\n",
       "      <td>42305</td>\n",
       "    </tr>\n",
       "    <tr>\n",
       "      <th>16</th>\n",
       "      <td>Britney Spears</td>\n",
       "      <td>42022</td>\n",
       "    </tr>\n",
       "    <tr>\n",
       "      <th>17</th>\n",
       "      <td>The Civil Wars</td>\n",
       "      <td>40729</td>\n",
       "    </tr>\n",
       "    <tr>\n",
       "      <th>18</th>\n",
       "      <td>Fleet Foxes</td>\n",
       "      <td>39522</td>\n",
       "    </tr>\n",
       "    <tr>\n",
       "      <th>19</th>\n",
       "      <td>Amy Winehouse</td>\n",
       "      <td>36843</td>\n",
       "    </tr>\n",
       "    <tr>\n",
       "      <th>20</th>\n",
       "      <td>Kesha</td>\n",
       "      <td>33505</td>\n",
       "    </tr>\n",
       "    <tr>\n",
       "      <th>21</th>\n",
       "      <td>Scott Bradlee's Postmodern Jukebox</td>\n",
       "      <td>31721</td>\n",
       "    </tr>\n",
       "    <tr>\n",
       "      <th>22</th>\n",
       "      <td>Adele</td>\n",
       "      <td>31049</td>\n",
       "    </tr>\n",
       "    <tr>\n",
       "      <th>23</th>\n",
       "      <td>Demi Lovato</td>\n",
       "      <td>28890</td>\n",
       "    </tr>\n",
       "    <tr>\n",
       "      <th>24</th>\n",
       "      <td>Camila Cabello</td>\n",
       "      <td>28197</td>\n",
       "    </tr>\n",
       "    <tr>\n",
       "      <th>25</th>\n",
       "      <td>Christina Aguilera</td>\n",
       "      <td>27438</td>\n",
       "    </tr>\n",
       "    <tr>\n",
       "      <th>26</th>\n",
       "      <td>The Lumineers</td>\n",
       "      <td>26052</td>\n",
       "    </tr>\n",
       "    <tr>\n",
       "      <th>27</th>\n",
       "      <td>Rihanna</td>\n",
       "      <td>22084</td>\n",
       "    </tr>\n",
       "    <tr>\n",
       "      <th>28</th>\n",
       "      <td>Meg &amp; Dia</td>\n",
       "      <td>21426</td>\n",
       "    </tr>\n",
       "    <tr>\n",
       "      <th>29</th>\n",
       "      <td>Nickelback</td>\n",
       "      <td>19033</td>\n",
       "    </tr>\n",
       "  </tbody>\n",
       "</table>\n",
       "</div>"
      ],
      "text/plain": [
       "                                artist  minutes_played\n",
       "0                          Miley Cyrus          182615\n",
       "1                          Marian Hill          104027\n",
       "2                               Hozier           93339\n",
       "3                        Ariana Grande           72598\n",
       "4                           Noah Cyrus           68474\n",
       "5                         Lana Del Rey           67470\n",
       "6                       Nashville Cast           60764\n",
       "7                           Ed Sheeran           56812\n",
       "8                       Meghan Trainor           55093\n",
       "9                            Lady Gaga           51627\n",
       "10                      Mumford & Sons           50921\n",
       "11                 Panic! At The Disco           48674\n",
       "12                          Lord Huron           48077\n",
       "13                       Billie Eilish           44978\n",
       "14                        Taylor Swift           44387\n",
       "15                              Eminem           42305\n",
       "16                      Britney Spears           42022\n",
       "17                      The Civil Wars           40729\n",
       "18                         Fleet Foxes           39522\n",
       "19                       Amy Winehouse           36843\n",
       "20                               Kesha           33505\n",
       "21  Scott Bradlee's Postmodern Jukebox           31721\n",
       "22                               Adele           31049\n",
       "23                         Demi Lovato           28890\n",
       "24                      Camila Cabello           28197\n",
       "25                  Christina Aguilera           27438\n",
       "26                       The Lumineers           26052\n",
       "27                             Rihanna           22084\n",
       "28                           Meg & Dia           21426\n",
       "29                          Nickelback           19033"
      ]
     },
     "execution_count": 150,
     "metadata": {},
     "output_type": "execute_result"
    }
   ],
   "source": [
    "with engine.connect() as connection:  # Establish a connection\n",
    "    query = text(\"\"\"SELECT master_metadata_album_artist_name AS artist,\n",
    "                        SUM(ms_played) / 6000 AS minutes_played\n",
    "                    FROM spotify_history\n",
    "                    GROUP BY artist\n",
    "                    ORDER BY minutes_played DESC\n",
    "                    LIMIT 30\n",
    "                    \"\"\")                      # SELECT artist name (FROM spotify hist) AS artist and convert ms to minutes\n",
    "    # GROUP BY the artist and ORDER BY mins played, limiting to top 30\n",
    "    top_artists = pd.read_sql(query, connection) #Use pandas to read the sql query with the connection to the database\n",
    "    \n",
    "# Print the results\n",
    "top_artists"
   ]
  },
  {
   "cell_type": "markdown",
   "id": "91126135-9a29-4b71-8fc5-3244714b2df5",
   "metadata": {},
   "source": [
    "<b>Query 2:</b> <br>\n",
    "Find the top 30 songs listened to in the year 2017."
   ]
  },
  {
   "cell_type": "code",
   "execution_count": 151,
   "id": "113f1b54-f671-42db-89ab-f06994a841b4",
   "metadata": {
    "tags": []
   },
   "outputs": [
    {
     "data": {
      "text/html": [
       "<div>\n",
       "<style scoped>\n",
       "    .dataframe tbody tr th:only-of-type {\n",
       "        vertical-align: middle;\n",
       "    }\n",
       "\n",
       "    .dataframe tbody tr th {\n",
       "        vertical-align: top;\n",
       "    }\n",
       "\n",
       "    .dataframe thead th {\n",
       "        text-align: right;\n",
       "    }\n",
       "</style>\n",
       "<table border=\"1\" class=\"dataframe\">\n",
       "  <thead>\n",
       "    <tr style=\"text-align: right;\">\n",
       "      <th></th>\n",
       "      <th>track</th>\n",
       "      <th>minutes_played</th>\n",
       "    </tr>\n",
       "  </thead>\n",
       "  <tbody>\n",
       "    <tr>\n",
       "      <th>0</th>\n",
       "      <td>When the Night is Over</td>\n",
       "      <td>16997</td>\n",
       "    </tr>\n",
       "    <tr>\n",
       "      <th>1</th>\n",
       "      <td>River</td>\n",
       "      <td>13132</td>\n",
       "    </tr>\n",
       "    <tr>\n",
       "      <th>2</th>\n",
       "      <td>Malibu</td>\n",
       "      <td>12830</td>\n",
       "    </tr>\n",
       "    <tr>\n",
       "      <th>3</th>\n",
       "      <td>Take Me to Church</td>\n",
       "      <td>10954</td>\n",
       "    </tr>\n",
       "    <tr>\n",
       "      <th>4</th>\n",
       "      <td>Fade Into You</td>\n",
       "      <td>9947</td>\n",
       "    </tr>\n",
       "    <tr>\n",
       "      <th>5</th>\n",
       "      <td>7 rings</td>\n",
       "      <td>9577</td>\n",
       "    </tr>\n",
       "    <tr>\n",
       "      <th>6</th>\n",
       "      <td>It Ain’t Me (with Selena Gomez)</td>\n",
       "      <td>9458</td>\n",
       "    </tr>\n",
       "    <tr>\n",
       "      <th>7</th>\n",
       "      <td>White Blank Page</td>\n",
       "      <td>8566</td>\n",
       "    </tr>\n",
       "    <tr>\n",
       "      <th>8</th>\n",
       "      <td>All About That Bass</td>\n",
       "      <td>8191</td>\n",
       "    </tr>\n",
       "    <tr>\n",
       "      <th>9</th>\n",
       "      <td>Down</td>\n",
       "      <td>8095</td>\n",
       "    </tr>\n",
       "    <tr>\n",
       "      <th>10</th>\n",
       "      <td>Shape of You</td>\n",
       "      <td>8015</td>\n",
       "    </tr>\n",
       "    <tr>\n",
       "      <th>11</th>\n",
       "      <td>Slide Away</td>\n",
       "      <td>7837</td>\n",
       "    </tr>\n",
       "    <tr>\n",
       "      <th>12</th>\n",
       "      <td>Hallelujah</td>\n",
       "      <td>7231</td>\n",
       "    </tr>\n",
       "    <tr>\n",
       "      <th>13</th>\n",
       "      <td>Work Song</td>\n",
       "      <td>7089</td>\n",
       "    </tr>\n",
       "    <tr>\n",
       "      <th>14</th>\n",
       "      <td>Too Sweet</td>\n",
       "      <td>6964</td>\n",
       "    </tr>\n",
       "    <tr>\n",
       "      <th>15</th>\n",
       "      <td>From Eden</td>\n",
       "      <td>6742</td>\n",
       "    </tr>\n",
       "    <tr>\n",
       "      <th>16</th>\n",
       "      <td>One Time</td>\n",
       "      <td>6066</td>\n",
       "    </tr>\n",
       "    <tr>\n",
       "      <th>17</th>\n",
       "      <td>I Want You</td>\n",
       "      <td>5941</td>\n",
       "    </tr>\n",
       "    <tr>\n",
       "      <th>18</th>\n",
       "      <td>We Can't Stop</td>\n",
       "      <td>5880</td>\n",
       "    </tr>\n",
       "    <tr>\n",
       "      <th>19</th>\n",
       "      <td>I Burned LA Down</td>\n",
       "      <td>5810</td>\n",
       "    </tr>\n",
       "    <tr>\n",
       "      <th>20</th>\n",
       "      <td>Nothing Breaks Like a Heart (feat. Miley Cyrus)</td>\n",
       "      <td>5737</td>\n",
       "    </tr>\n",
       "    <tr>\n",
       "      <th>21</th>\n",
       "      <td>What Baking Can Do</td>\n",
       "      <td>5694</td>\n",
       "    </tr>\n",
       "    <tr>\n",
       "      <th>22</th>\n",
       "      <td>Love On The Brain</td>\n",
       "      <td>5633</td>\n",
       "    </tr>\n",
       "    <tr>\n",
       "      <th>23</th>\n",
       "      <td>The Night We Met (feat. Phoebe Bridgers)</td>\n",
       "      <td>5617</td>\n",
       "    </tr>\n",
       "    <tr>\n",
       "      <th>24</th>\n",
       "      <td>Somebody That I Used to Know</td>\n",
       "      <td>5559</td>\n",
       "    </tr>\n",
       "    <tr>\n",
       "      <th>25</th>\n",
       "      <td>Angels Like You</td>\n",
       "      <td>5511</td>\n",
       "    </tr>\n",
       "    <tr>\n",
       "      <th>26</th>\n",
       "      <td>Don't</td>\n",
       "      <td>5500</td>\n",
       "    </tr>\n",
       "    <tr>\n",
       "      <th>27</th>\n",
       "      <td>Flowers</td>\n",
       "      <td>5495</td>\n",
       "    </tr>\n",
       "    <tr>\n",
       "      <th>28</th>\n",
       "      <td>Havana (feat. Young Thug)</td>\n",
       "      <td>5454</td>\n",
       "    </tr>\n",
       "    <tr>\n",
       "      <th>29</th>\n",
       "      <td>I Just Want a Lover</td>\n",
       "      <td>5420</td>\n",
       "    </tr>\n",
       "  </tbody>\n",
       "</table>\n",
       "</div>"
      ],
      "text/plain": [
       "                                              track  minutes_played\n",
       "0                            When the Night is Over           16997\n",
       "1                                             River           13132\n",
       "2                                            Malibu           12830\n",
       "3                                 Take Me to Church           10954\n",
       "4                                     Fade Into You            9947\n",
       "5                                           7 rings            9577\n",
       "6                   It Ain’t Me (with Selena Gomez)            9458\n",
       "7                                  White Blank Page            8566\n",
       "8                               All About That Bass            8191\n",
       "9                                              Down            8095\n",
       "10                                     Shape of You            8015\n",
       "11                                       Slide Away            7837\n",
       "12                                       Hallelujah            7231\n",
       "13                                        Work Song            7089\n",
       "14                                        Too Sweet            6964\n",
       "15                                        From Eden            6742\n",
       "16                                         One Time            6066\n",
       "17                                       I Want You            5941\n",
       "18                                    We Can't Stop            5880\n",
       "19                                 I Burned LA Down            5810\n",
       "20  Nothing Breaks Like a Heart (feat. Miley Cyrus)            5737\n",
       "21                               What Baking Can Do            5694\n",
       "22                                Love On The Brain            5633\n",
       "23         The Night We Met (feat. Phoebe Bridgers)            5617\n",
       "24                     Somebody That I Used to Know            5559\n",
       "25                                  Angels Like You            5511\n",
       "26                                            Don't            5500\n",
       "27                                          Flowers            5495\n",
       "28                        Havana (feat. Young Thug)            5454\n",
       "29                              I Just Want a Lover            5420"
      ]
     },
     "execution_count": 151,
     "metadata": {},
     "output_type": "execute_result"
    }
   ],
   "source": [
    "with engine.connect() as connection:  # Establish a connection\n",
    "    query = text(\"\"\"SELECT master_metadata_track_name AS track,\n",
    "                        SUM(ms_played) / 6000 AS minutes_played\n",
    "                    FROM spotify_history\n",
    "                    GROUP BY track\n",
    "                    ORDER BY minutes_played DESC\n",
    "                    LIMIT 30\n",
    "                    \"\"\")                      # SELECT track name (FROM spotify hist) AS track and convert ms to minutes\n",
    "    # GROUP BY the track and ORDER BY mins played, limiting to top 30\n",
    "    top_tracks = pd.read_sql(query, connection) #Use pandas to read the sql query with the connection to the database\n",
    "    \n",
    "top_tracks # Print the results"
   ]
  },
  {
   "cell_type": "markdown",
   "id": "5f792c1f-239e-4836-b101-60fc51ec2883",
   "metadata": {},
   "source": [
    "<b>Query 3:</b> <br>\n",
    "What are the top 5 albums played? <br>"
   ]
  },
  {
   "cell_type": "code",
   "execution_count": 152,
   "id": "ce1081b7-3242-4e33-92da-ea7d267c8df1",
   "metadata": {
    "tags": []
   },
   "outputs": [
    {
     "data": {
      "text/html": [
       "<div>\n",
       "<style scoped>\n",
       "    .dataframe tbody tr th:only-of-type {\n",
       "        vertical-align: middle;\n",
       "    }\n",
       "\n",
       "    .dataframe tbody tr th {\n",
       "        vertical-align: top;\n",
       "    }\n",
       "\n",
       "    .dataframe thead th {\n",
       "        text-align: right;\n",
       "    }\n",
       "</style>\n",
       "<table border=\"1\" class=\"dataframe\">\n",
       "  <thead>\n",
       "    <tr style=\"text-align: right;\">\n",
       "      <th></th>\n",
       "      <th>album</th>\n",
       "      <th>minutes_played</th>\n",
       "    </tr>\n",
       "  </thead>\n",
       "  <tbody>\n",
       "    <tr>\n",
       "      <th>0</th>\n",
       "      <td>ACT ONE</td>\n",
       "      <td>50873</td>\n",
       "    </tr>\n",
       "    <tr>\n",
       "      <th>1</th>\n",
       "      <td>Hozier</td>\n",
       "      <td>35630</td>\n",
       "    </tr>\n",
       "    <tr>\n",
       "      <th>2</th>\n",
       "      <td>Waitress (Original Broadway Cast Recording)</td>\n",
       "      <td>32348</td>\n",
       "    </tr>\n",
       "    <tr>\n",
       "      <th>3</th>\n",
       "      <td>Rainbow</td>\n",
       "      <td>28347</td>\n",
       "    </tr>\n",
       "    <tr>\n",
       "      <th>4</th>\n",
       "      <td>Bangerz (Deluxe Version)</td>\n",
       "      <td>28330</td>\n",
       "    </tr>\n",
       "  </tbody>\n",
       "</table>\n",
       "</div>"
      ],
      "text/plain": [
       "                                         album  minutes_played\n",
       "0                                      ACT ONE           50873\n",
       "1                                       Hozier           35630\n",
       "2  Waitress (Original Broadway Cast Recording)           32348\n",
       "3                                      Rainbow           28347\n",
       "4                     Bangerz (Deluxe Version)           28330"
      ]
     },
     "execution_count": 152,
     "metadata": {},
     "output_type": "execute_result"
    }
   ],
   "source": [
    "with engine.connect() as connection:  # Establish a connection\n",
    "    query = text(\"\"\"SELECT master_metadata_album_album_name AS album,\n",
    "                        SUM(ms_played) / 6000 AS minutes_played\n",
    "                    FROM spotify_history\n",
    "                    GROUP BY album\n",
    "                    ORDER BY minutes_played DESC\n",
    "                    LIMIT 5\n",
    "                    \"\"\")                      # SELECT album name (FROM spotify hist) AS album and convert ms to minutes\n",
    "    # GROUP BY the album and ORDER BY mins played, limiting to top 30 \n",
    "    top_albums = pd.read_sql(query, connection) #Use pandas to read the sql query with the connection to the database\n",
    "    \n",
    "# Print the results\n",
    "top_albums"
   ]
  },
  {
   "cell_type": "code",
   "execution_count": 153,
   "id": "d4de87d1-d51e-4830-a09c-55775b3cc644",
   "metadata": {
    "tags": []
   },
   "outputs": [],
   "source": [
    "#Disconnect from the database. Always remember to disconnect :) \n",
    "connection.close() # Disconnect "
   ]
  },
  {
   "cell_type": "markdown",
   "id": "76827fdb",
   "metadata": {},
   "source": [
    "# Assignment #5 - Data Gathering and Warehousing - DSSA-5102\n",
    "\n",
    "<b>Only Murders in the...Database?</b><br>\n",
    "An introduction to navigating SQL databases using R and Jupyter Notebook. <br>\n",
    "<br>\n",
    "Congrats! You have solved the murder from Assignment #4, let's practice more queries in SQL City! <br>\n",
    "<br>\n",
    "Your task for <b>Assignment #5</b> is to complete the following objectives:<br>\n",
    "You are a data scientist that was hired by SQL City. Your objectives are as follows:<br>\n",
    "- Objective 1: The town is willing to fund more training for officers in SQL City based on the type of crime that is most committed. The training would help them identify the clues that indicate these two types upon arrival on a crime scene. As a data scientist, what crime type would you advise needs more training for officers in SQL city? What crime was committed the most in SQL City within the database date range? Save your query as a dataframe and quickly add a ggplot2 bar graph visual to support your recommendation.<br>\n",
    "- Objective 2: The town has also received more funding to encourage DOUBLE overtime for officers in SQL City during the month with the highest crime rate through out the date range of the database. What month would you advise the town to encourage officer overtime? <br>\n",
    "- Objective 3: To thank the officers for their extra training and overtime, the town will pay for their monthly gym membership. They want to give the officers the membership that the least amount of civilians have to avoid being recognized daily as the town heros. The membership can be used in any town. What membership does the town give them?<br><br>\n",
    "<b>--</b>Add detailed comments to explain EVERY query or SQL command you use while we are still learning and practicing. I have my steps outlined, but please add more cells inbetween for additional queries! There is no limit on the number of queries you can use. <br>\n",
    "<b>--</b>For each query include comments such as \"SELECT all records FROM table WHERE column name = X\"<br>\n",
    "<b>--</b>Answer the prompts in markdown cells. Justify your response. A simple yes/no answer will receive no credit.<br>\n",
    "\n",
    "Recommended Readings: Chapters 4-7 in Getting Started with SQL by Thomas Nield<br><br>\n",
    "\n",
    "SQL Dictionary: https://www.w3schools.com/sql/sql_ref_join.asp\n",
    "\n",
    "This fabulous database was created by @NUKnightLab on Github and can be found here: https://github.com/NUKnightLab/sql-mysteries\n"
   ]
  },
  {
   "cell_type": "code",
   "execution_count": 154,
   "id": "5e4ae281",
   "metadata": {
    "tags": []
   },
   "outputs": [],
   "source": [
    "# Load necessary libraries\n",
    "from sqlalchemy import create_engine, inspect, text # Database navigation\n",
    "import pandas as pd # Python data manilpulation\n",
    "import matplotlib.pyplot as plt # Graphing"
   ]
  },
  {
   "cell_type": "code",
   "execution_count": 155,
   "id": "89bc8e32",
   "metadata": {
    "tags": []
   },
   "outputs": [
    {
     "data": {
      "text/plain": [
       "Engine(sqlite:///sql-murder-mystery.db)"
      ]
     },
     "execution_count": 155,
     "metadata": {},
     "output_type": "execute_result"
    }
   ],
   "source": [
    "# Connect to our .db file\n",
    "db_path = \"sql-murder-mystery.db\"  # Define variable\n",
    "engine = create_engine(f\"sqlite:///{db_path}\") # Use the create_engine function to connect to the database\n",
    "engine # The f is the connection string, so if we print it we can see below"
   ]
  },
  {
   "cell_type": "code",
   "execution_count": 156,
   "id": "3850f72a",
   "metadata": {
    "tags": []
   },
   "outputs": [
    {
     "data": {
      "text/plain": [
       "['crime_scene_report',\n",
       " 'drivers_license',\n",
       " 'facebook_event_checkin',\n",
       " 'get_fit_now_check_in',\n",
       " 'get_fit_now_member',\n",
       " 'income',\n",
       " 'interview',\n",
       " 'person',\n",
       " 'solution']"
      ]
     },
     "execution_count": 156,
     "metadata": {},
     "output_type": "execute_result"
    }
   ],
   "source": [
    "# For a quick reference for tables and columns, refer to schema on Blackboard, or list the tables and fields below:\n",
    "# List the tables in our database:\n",
    "inspector = inspect(engine) # Define inspector as inspect engine\n",
    "tables = inspector.get_table_names() # Get tables\n",
    "tables # Print tables"
   ]
  },
  {
   "cell_type": "markdown",
   "id": "25e53d9b",
   "metadata": {},
   "source": [
    "We can use the COUNT command to explore our queries further. COUNT will count the number of records that meet the specified criteria.\n",
    "Additional examples using COUNT: https://www.w3schools.com/sql/sql_count.asp"
   ]
  },
  {
   "cell_type": "markdown",
   "id": "93702940",
   "metadata": {},
   "source": [
    "<b>Objective 1:</b> The town is willing to fund more training for officers in SQL City based on the type of crime that is most committed. The training would help them identify the clues that indicate these two types upon arrival on a crime scene. As a data scientist, what crime type would you advise needs more training for officers in SQL city? What crime was committed the most in SQL City within the database date range? Save your query as a dataframe and quickly add a bar graph visual to support your recommendation."
   ]
  },
  {
   "cell_type": "code",
   "execution_count": 160,
   "id": "2079946e",
   "metadata": {
    "tags": []
   },
   "outputs": [
    {
     "data": {
      "text/html": [
       "<div>\n",
       "<style scoped>\n",
       "    .dataframe tbody tr th:only-of-type {\n",
       "        vertical-align: middle;\n",
       "    }\n",
       "\n",
       "    .dataframe tbody tr th {\n",
       "        vertical-align: top;\n",
       "    }\n",
       "\n",
       "    .dataframe thead th {\n",
       "        text-align: right;\n",
       "    }\n",
       "</style>\n",
       "<table border=\"1\" class=\"dataframe\">\n",
       "  <thead>\n",
       "    <tr style=\"text-align: right;\">\n",
       "      <th></th>\n",
       "      <th>type</th>\n",
       "      <th>count</th>\n",
       "    </tr>\n",
       "  </thead>\n",
       "  <tbody>\n",
       "    <tr>\n",
       "      <th>0</th>\n",
       "      <td>murder</td>\n",
       "      <td>148</td>\n",
       "    </tr>\n",
       "    <tr>\n",
       "      <th>1</th>\n",
       "      <td>arson</td>\n",
       "      <td>148</td>\n",
       "    </tr>\n",
       "    <tr>\n",
       "      <th>2</th>\n",
       "      <td>assault</td>\n",
       "      <td>145</td>\n",
       "    </tr>\n",
       "    <tr>\n",
       "      <th>3</th>\n",
       "      <td>theft</td>\n",
       "      <td>141</td>\n",
       "    </tr>\n",
       "    <tr>\n",
       "      <th>4</th>\n",
       "      <td>bribery</td>\n",
       "      <td>135</td>\n",
       "    </tr>\n",
       "    <tr>\n",
       "      <th>5</th>\n",
       "      <td>robbery</td>\n",
       "      <td>134</td>\n",
       "    </tr>\n",
       "    <tr>\n",
       "      <th>6</th>\n",
       "      <td>fraud</td>\n",
       "      <td>130</td>\n",
       "    </tr>\n",
       "    <tr>\n",
       "      <th>7</th>\n",
       "      <td>blackmail</td>\n",
       "      <td>130</td>\n",
       "    </tr>\n",
       "    <tr>\n",
       "      <th>8</th>\n",
       "      <td>smuggling</td>\n",
       "      <td>117</td>\n",
       "    </tr>\n",
       "  </tbody>\n",
       "</table>\n",
       "</div>"
      ],
      "text/plain": [
       "        type  count\n",
       "0     murder    148\n",
       "1      arson    148\n",
       "2    assault    145\n",
       "3      theft    141\n",
       "4    bribery    135\n",
       "5    robbery    134\n",
       "6      fraud    130\n",
       "7  blackmail    130\n",
       "8  smuggling    117"
      ]
     },
     "execution_count": 160,
     "metadata": {},
     "output_type": "execute_result"
    }
   ],
   "source": [
    "with engine.connect() as connection:  # Establish a connection\n",
    "    query = text(\"\"\"SELECT type, COUNT(*) as count\n",
    "                    FROM crime_scene_report\n",
    "                    GROUP BY type\n",
    "                    ORDER BY count DESC\n",
    "                    \"\"\")         # SELECT crime type and COUNT the number of occurences in crime_scene_report\n",
    "    # Group by type of crime\n",
    "    df = pd.read_sql(query, connection) #Use pandas to read the sql query with the connection to the database. \n",
    "    # Save result as df\n",
    "\n",
    "# Print the results\n",
    "df"
   ]
  },
  {
   "cell_type": "code",
   "execution_count": 161,
   "id": "e99bfad0",
   "metadata": {
    "tags": []
   },
   "outputs": [
    {
     "data": {
      "image/png": "[encoded data removed]",
      "text/plain": [
       "<Figure size 1000x600 with 1 Axes>"
      ]
     },
     "metadata": {},
     "output_type": "display_data"
    }
   ],
   "source": [
    "# Graph your results:\n",
    "\n",
    "plt.figure(figsize=(10, 6))  # Set the plot size\n",
    "plt.bar(df['type'], df['count'], color='maroon')  # Bar plot where x var is type and y var is count, color is maroon\n",
    "\n",
    "# Add title and labels. Font size is adjusted because the labels were not easily distinguishable with the default\n",
    "plt.title('Crime Counts in SQL City', fontsize = 16)\n",
    "plt.xlabel('Crime', fontsize=15)\n",
    "plt.ylabel('Case Count', fontsize=15)\n",
    "\n",
    "plt.show() # Display"
   ]
  },
  {
   "cell_type": "markdown",
   "id": "a8007ef0",
   "metadata": {},
   "source": [
    "<b>Answer:</b> Murder and arson are tied for the top crime, so these are the crimes I would reccomend more training. However, I would note that assault, theft, bribery, robbery, fraud, and blackmail are not signifigantly less common than murder and arson. "
   ]
  },
  {
   "cell_type": "markdown",
   "id": "f8df6bf8",
   "metadata": {},
   "source": [
    "<b>Objective 2:</b> The town has also received more funding to encourage DOUBLE overtime for officers in SQL City during the month with the highest crime rate through out the date range of the database. What month would you advise the town to encourage officer overtime?"
   ]
  },
  {
   "cell_type": "code",
   "execution_count": 163,
   "id": "02dcba2e",
   "metadata": {
    "tags": []
   },
   "outputs": [
    {
     "data": {
      "text/html": [
       "<div>\n",
       "<style scoped>\n",
       "    .dataframe tbody tr th:only-of-type {\n",
       "        vertical-align: middle;\n",
       "    }\n",
       "\n",
       "    .dataframe tbody tr th {\n",
       "        vertical-align: top;\n",
       "    }\n",
       "\n",
       "    .dataframe thead th {\n",
       "        text-align: right;\n",
       "    }\n",
       "</style>\n",
       "<table border=\"1\" class=\"dataframe\">\n",
       "  <thead>\n",
       "    <tr style=\"text-align: right;\">\n",
       "      <th></th>\n",
       "      <th>month</th>\n",
       "      <th>count</th>\n",
       "    </tr>\n",
       "  </thead>\n",
       "  <tbody>\n",
       "    <tr>\n",
       "      <th>0</th>\n",
       "      <td>01</td>\n",
       "      <td>179</td>\n",
       "    </tr>\n",
       "    <tr>\n",
       "      <th>1</th>\n",
       "      <td>04</td>\n",
       "      <td>159</td>\n",
       "    </tr>\n",
       "    <tr>\n",
       "      <th>2</th>\n",
       "      <td>03</td>\n",
       "      <td>147</td>\n",
       "    </tr>\n",
       "    <tr>\n",
       "      <th>3</th>\n",
       "      <td>02</td>\n",
       "      <td>134</td>\n",
       "    </tr>\n",
       "    <tr>\n",
       "      <th>4</th>\n",
       "      <td>06</td>\n",
       "      <td>89</td>\n",
       "    </tr>\n",
       "    <tr>\n",
       "      <th>5</th>\n",
       "      <td>11</td>\n",
       "      <td>88</td>\n",
       "    </tr>\n",
       "    <tr>\n",
       "      <th>6</th>\n",
       "      <td>09</td>\n",
       "      <td>85</td>\n",
       "    </tr>\n",
       "    <tr>\n",
       "      <th>7</th>\n",
       "      <td>10</td>\n",
       "      <td>75</td>\n",
       "    </tr>\n",
       "    <tr>\n",
       "      <th>8</th>\n",
       "      <td>05</td>\n",
       "      <td>74</td>\n",
       "    </tr>\n",
       "    <tr>\n",
       "      <th>9</th>\n",
       "      <td>12</td>\n",
       "      <td>71</td>\n",
       "    </tr>\n",
       "    <tr>\n",
       "      <th>10</th>\n",
       "      <td>07</td>\n",
       "      <td>67</td>\n",
       "    </tr>\n",
       "    <tr>\n",
       "      <th>11</th>\n",
       "      <td>08</td>\n",
       "      <td>60</td>\n",
       "    </tr>\n",
       "  </tbody>\n",
       "</table>\n",
       "</div>"
      ],
      "text/plain": [
       "   month  count\n",
       "0     01    179\n",
       "1     04    159\n",
       "2     03    147\n",
       "3     02    134\n",
       "4     06     89\n",
       "5     11     88\n",
       "6     09     85\n",
       "7     10     75\n",
       "8     05     74\n",
       "9     12     71\n",
       "10    07     67\n",
       "11    08     60"
      ]
     },
     "execution_count": 163,
     "metadata": {},
     "output_type": "execute_result"
    }
   ],
   "source": [
    "with engine.connect() as connection:  # Establish a connection\n",
    "    query = text(\"\"\" SELECT\n",
    "                strftime('%m', \n",
    "                \n",
    "                substr(CAST(date AS TEXT), 1, 4) || '-' || \n",
    "                substr(CAST(date AS TEXT), 5, 2) || '-' || \n",
    "                substr(CAST(date AS TEXT), 7, 2))\n",
    "                \n",
    "                AS month, COUNT(*) as count\n",
    "                FROM crime_scene_report\n",
    "                GROUP BY month\n",
    "                ORDER BY count DESC\n",
    "                    \"\"\")                      # SELECT month as 2 digit integer from converted date integer from crime_scene_report in the following steps:\n",
    "    # Cast is applied first. It changes the date column from int to string. Then, substr pulls out positions 1-4 (the year). Then, || '-' || adds a - at the end.  \n",
    "    # Cast is applied first. It changes the date column from int to string. Then, substr pulls out positions 5-7 (the month). Then, || '-' || adds a - at the end.  \n",
    "    # Cast is applied first. It changes the date column from int to string. Then, substr pulls out positions 7-9 (the day).\n",
    "    # 3 strings are combinedat the || || step. Our result looks like 2018-01-15, for example. \n",
    "    # Then, the strftime('%m') function is extracting only the month from this string as a 2 digit integer. \n",
    "    # COUNT(*) occurences of each month as count. \n",
    "    # GROUP BY month and ORDER BY count desc\n",
    "    dates = pd.read_sql(query, connection) #Use pandas to read the sql query with the connection to the database. \n",
    "\n",
    "# Print the results\n",
    "dates"
   ]
  },
  {
   "cell_type": "code",
   "execution_count": 171,
   "id": "c2a2661a-2f43-4a8d-97c9-4ffb0cea41a9",
   "metadata": {
    "tags": []
   },
   "outputs": [
    {
     "data": {
      "image/png": "[encoded data removed]",
      "text/plain": [
       "<Figure size 1000x600 with 1 Axes>"
      ]
     },
     "metadata": {},
     "output_type": "display_data"
    }
   ],
   "source": [
    "plt.figure(figsize=(10, 6))  # Set the plot size\n",
    "plt.bar(dates['month'], dates['count'], color='mediumpurple')  # Bar plot where x var is month and y var is count, color is mediumpurple\n",
    "\n",
    "# Add title and labels. Font size is adjusted because the labels were not easily distinguishable with the default\n",
    "plt.title('Crime Counts by Month in SQL City', fontsize = 16)\n",
    "plt.xlabel('Crime', fontsize=15)\n",
    "plt.ylabel('Count', fontsize=15)\n",
    "\n",
    "plt.show() # Display"
   ]
  },
  {
   "cell_type": "markdown",
   "id": "b5524834",
   "metadata": {},
   "source": [
    "<b>Answer:</b> January is the month with the most occurences. If the budget is DOUBLING, I would make sure to mention that April and March and not that far behind. "
   ]
  },
  {
   "cell_type": "markdown",
   "id": "51313b07",
   "metadata": {},
   "source": [
    "<b>Objective 3:</b> To thank the officers for their extra training and overtime, the town will pay for their monthly gym membership. They want to give the officers the membership that the least amount of civilians have to avoid being recognized daily as the town heros. The membership can be used in any town. What membership does the town give them?"
   ]
  },
  {
   "cell_type": "code",
   "execution_count": 164,
   "id": "317f86a1",
   "metadata": {
    "tags": []
   },
   "outputs": [
    {
     "data": {
      "text/html": [
       "<div>\n",
       "<style scoped>\n",
       "    .dataframe tbody tr th:only-of-type {\n",
       "        vertical-align: middle;\n",
       "    }\n",
       "\n",
       "    .dataframe tbody tr th {\n",
       "        vertical-align: top;\n",
       "    }\n",
       "\n",
       "    .dataframe thead th {\n",
       "        text-align: right;\n",
       "    }\n",
       "</style>\n",
       "<table border=\"1\" class=\"dataframe\">\n",
       "  <thead>\n",
       "    <tr style=\"text-align: right;\">\n",
       "      <th></th>\n",
       "      <th>membership_status</th>\n",
       "      <th>count</th>\n",
       "    </tr>\n",
       "  </thead>\n",
       "  <tbody>\n",
       "    <tr>\n",
       "      <th>0</th>\n",
       "      <td>gold</td>\n",
       "      <td>68</td>\n",
       "    </tr>\n",
       "    <tr>\n",
       "      <th>1</th>\n",
       "      <td>silver</td>\n",
       "      <td>63</td>\n",
       "    </tr>\n",
       "    <tr>\n",
       "      <th>2</th>\n",
       "      <td>regular</td>\n",
       "      <td>53</td>\n",
       "    </tr>\n",
       "  </tbody>\n",
       "</table>\n",
       "</div>"
      ],
      "text/plain": [
       "  membership_status  count\n",
       "0              gold     68\n",
       "1            silver     63\n",
       "2           regular     53"
      ]
     },
     "execution_count": 164,
     "metadata": {},
     "output_type": "execute_result"
    }
   ],
   "source": [
    "with engine.connect() as connection:  # Establish a connection\n",
    "    query = text(\"\"\"SELECT membership_status, COUNT(*) AS count\n",
    "                    FROM get_fit_now_member\n",
    "                    GROUP BY membership_status\n",
    "                    ORDER BY count DESC\n",
    "                    \"\"\")                      # SELECT membership type column from get fit now member, assign COUNT as count. GROUP BY status and ORDER BY count desc\n",
    "    # Don't need a limit here because there are only a small amount of types\n",
    "    mb = pd.read_sql(query, connection) #Use pandas to read the sql query with the connection to the database. \n",
    "\n",
    "# Print the results\n",
    "mb"
   ]
  },
  {
   "cell_type": "code",
   "execution_count": 172,
   "id": "721295c5-2a1f-40aa-986e-14201145a307",
   "metadata": {
    "tags": []
   },
   "outputs": [
    {
     "data": {
      "image/png": "[encoded data removed]",
      "text/plain": [
       "<Figure size 1000x600 with 1 Axes>"
      ]
     },
     "metadata": {},
     "output_type": "display_data"
    }
   ],
   "source": [
    "plt.figure(figsize=(10, 6))  # Set the plot size\n",
    "plt.bar(mb['membership_status'], mb['count'], color='cadetblue')  # Bar plot where x var is type and y var is count, color is cadetblue\n",
    "\n",
    "# Add title and labels. Font size is adjusted because the labels were not easily distinguishable with the default\n",
    "plt.title('Membership Types at Get Fit Now', fontsize = 16)\n",
    "plt.xlabel('Type', fontsize=15)\n",
    "plt.ylabel('Count', fontsize=15)\n",
    "\n",
    "plt.show() # Display"
   ]
  },
  {
   "cell_type": "markdown",
   "id": "d3519f15",
   "metadata": {},
   "source": [
    "<b>Answer:</b> The least prevalent membership type is \"regular\". I would say the \"town heroes\" maybe should be given gold, though... lol. There is not a dramatic difference between the amount of people with each type of membership. "
   ]
  },
  {
   "cell_type": "code",
   "execution_count": null,
   "id": "68e82785",
   "metadata": {},
   "outputs": [],
   "source": [
    "#Disconnect from the database. Always remember to disconnect :) \n",
    "\n",
    "connection.close() # Disconnect "
   ]
  }
 ],
 "metadata": {
  "kernelspec": {
   "display_name": "Python 3 (ipykernel)",
   "language": "python",
   "name": "python3"
  },
  "language_info": {
   "codemirror_mode": {
    "name": "ipython",
    "version": 3
   },
   "file_extension": ".py",
   "mimetype": "text/x-python",
   "name": "python",
   "nbconvert_exporter": "python",
   "pygments_lexer": "ipython3",
   "version": "3.11.4"
  }
 },
 "nbformat": 4,
 "nbformat_minor": 5
}
