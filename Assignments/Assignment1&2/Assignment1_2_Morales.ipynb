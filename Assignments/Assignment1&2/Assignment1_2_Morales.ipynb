{
 "cells": [
  {
   "cell_type": "markdown",
   "id": "c825ca7c",
   "metadata": {},
   "source": [
    "# Assignment #1 - Data Gathering and Warehousing - DSSA-5102"
   ]
  },
  {
   "cell_type": "markdown",
   "id": "3e792669",
   "metadata": {},
   "source": [
    "Instructor: Melissa Laurino<br>\n",
    "Spring 2025"
   ]
  },
  {
   "cell_type": "markdown",
   "id": "db9fe204",
   "metadata": {},
   "source": [
    "Name:\n",
    "<br>\n",
    "Date:"
   ]
  },
  {
   "cell_type": "markdown",
   "id": "292e9143",
   "metadata": {},
   "source": [
    "<b>Data. Is. Everywhere.</b> <br>\n",
    "Our first objective is to locate and explore <b>TWO</b> datasets about something you are passionate about, or related to a field you would like to work in. Our semester plan is <i>try</i> to work with the same dataset through out the semester. You can find and explore as many datasets as you wish, but Assignment #2 will focus on the one you like the best.\n",
    "There are many great websites that offer public datasets avaialable to download. Examples include but are not limited to:\n",
    "<br>\n",
    "Data.gov - https://data.gov/ - has many government owened public datasets.<br>\n",
    "World Bank Data - https://data.worldbank.org/ - has world economic, social, and environmental data.<br>\n",
    "Google Dataset Search - https://datasetsearch.research.google.com/ - many of these available datasets link to published studies available on Google Scholar in many fields.<br>\n",
    "Kaggle Datasets - https://www.kaggle.com/datasets - a platform for sharing datasets. Anyone can upload to this website.<br>\n",
    "U.S. Census Bureau - https://www.census.gov/ - data on people, places and econoy for the United States.\n",
    "GitHub - https://github.com/ - hosts datasets and completed projects.<br>\n",
    "Federal Reserve Economic Data (FRED) - https://fred.stlouisfed.org/ - Financial and economic data.<br>\n",
    "CDC - https://data.cdc.gov/ - Explore the various data collected by the CDC.<br>\n",
    "NOAA - https://www.ncei.noaa.gov/cdo-web/ - NOAA climate and ocean data. <br>\n",
    "<br>\n",
    "In addition to these resources, occasionally local organizations may be able to provide you with data, or maybe even your own company! Your data source can come from a personal connection, but please be mindful of any data agreements or approvals you may need. If you need approval to use data from your place of employment, please specify that with the instructor so we can ensure no violations to your data agreement will be made this semester.\n",
    "<br>\n",
    "<br>\n",
    "Resources for learning Python:\n",
    "- Data camp - https://www.datacamp.com/category/python - Contact Professor Baldwin for access.<br>\n",
    "- Data Science from Scratch: First Principles with Python - Check Blackboard <br>\n",
    "- Python for Data Analysis Data Wrangling with pandas, NumPy & Jupyter - Check Blackboard"
   ]
  },
  {
   "cell_type": "markdown",
   "id": "712dad64-6ed8-4680-90b7-4e47833e6887",
   "metadata": {},
   "source": [
    "For Assignment #1, our objective is to locate and explore two different datasets using Python. We will choose one of these datasets to clean to prepare for our future database. For each dataset include: <br>\n",
    "- The dataset name, company/organization resonsible for data collection, the download link, and date of access. <br>\n",
    "- Load neccessary packages <br>\n",
    "- Obtain the general info for your data such as size, number of rows/columns, column names, describing the data etc. <br>\n",
    "- What are the unique columns or variables present in your dataset? <br>\n",
    "- Create one quick plot to visualize your data. It is okay if it is messy since your data has not been cleaned yet, but still make sure you are practicing good graphins with a title, axis labels, and anything else needed for your graph.  <br>\n",
    "\n",
    "Comment ALL code to recieve full credit. The above bullet points are to help guide you in your process, but extensive exploration is expected for each data set. <br>\n",
    "<br>\n",
    "Explore various markdown font settings: https://ingeh.medium.com/markdown-for-jupyter-notebooks-cheatsheet-386c05aeebed"
   ]
  },
  {
   "cell_type": "markdown",
   "id": "6c5eadb4",
   "metadata": {},
   "source": [
    "## Dataset #1"
   ]
  },
  {
   "cell_type": "markdown",
   "id": "0bf03c2c",
   "metadata": {},
   "source": [
    "<b>Dataset name: triaging_healthcare_dataset  </b><br> \n",
    "<b>Company/Government Organization:  Kaggle</b><br>\n",
    "Download link: https://www.kaggle.com/datasets/subhro1530/triaging-healthcare-dataset?resource=download <br>\n",
    "Date of Access: 02/03/2025"
   ]
  },
  {
   "cell_type": "markdown",
   "id": "55a352bf",
   "metadata": {},
   "source": [
    "Popular packages to load in working with Python: <br>\n",
    "pandas: https://pandas.pydata.org/about/index.html <br>\n",
    "numpy: https://numpy.org/learn/ <br>\n",
    "matplotlib: https://matplotlib.org/stable/api/pyplot_summary.html"
   ]
  },
  {
   "cell_type": "code",
   "execution_count": 211,
   "id": "f274f2ae",
   "metadata": {
    "scrolled": true
   },
   "outputs": [],
   "source": [
    "# My examples are below, but edit as needed to fit your dataset:\n",
    "import pandas as pd # Reads, writes, shapes, manipulates data\n",
    "import numpy as np # Basic stats and numerical operations\n",
    "import matplotlib.pyplot as plt # Creating basic graphs\n",
    "from matplotlib.ticker import MaxNLocator\n"
   ]
  },
  {
   "cell_type": "markdown",
   "id": "79c86913",
   "metadata": {},
   "source": [
    "Importing a library as an abbreviation is beneficial to shorten your code and make it more concise. <br>\n",
    "For example, when referencing your data frame without the abbreviation you would write: pandas.DataFrame <br>\n",
    "With an abbreviation, you can just write: pd.DataFrame"
   ]
  },
  {
   "cell_type": "markdown",
   "id": "de7e9968-efb1-482d-b7f7-c309228fbbde",
   "metadata": {},
   "source": [
    "Load your chosen dataset into the notebook below:"
   ]
  },
  {
   "cell_type": "code",
   "execution_count": 45,
   "id": "8dbcdffd",
   "metadata": {},
   "outputs": [],
   "source": [
    "# Be sure to document each line of code like the above example.\n",
    "# Documenting each line of code is helpful when revisiting assignments later in the semester.\n",
    "\n"
   ]
  },
  {
   "cell_type": "code",
   "execution_count": 134,
   "id": "2fc0d288",
   "metadata": {},
   "outputs": [],
   "source": [
    "# Load the locally stored CSV file as a dataframe\n",
    "\n",
    "df = pd.read_csv('triaging_healthcare_dataset.csv')\n",
    "\n"
   ]
  },
  {
   "cell_type": "markdown",
   "id": "2d345116-947c-4fa3-ac6f-435a8ea06fcb",
   "metadata": {},
   "source": [
    "We can run df.info() to see how large the dataframe is:"
   ]
  },
  {
   "cell_type": "code",
   "execution_count": 136,
   "id": "bfe1d023-2f96-48af-945a-95ce54d937e5",
   "metadata": {},
   "outputs": [
    {
     "name": "stdout",
     "output_type": "stream",
     "text": [
      "<class 'pandas.core.frame.DataFrame'>\n",
      "RangeIndex: 790 entries, 0 to 789\n",
      "Data columns (total 10 columns):\n",
      " #   Column     Non-Null Count  Dtype  \n",
      "---  ------     --------------  -----  \n",
      " 0   Disease    790 non-null    object \n",
      " 1   Age        790 non-null    int64  \n",
      " 2   Gender     790 non-null    object \n",
      " 3   Latitude   790 non-null    float64\n",
      " 4   Longitude  790 non-null    float64\n",
      " 5   Symptom_1  790 non-null    object \n",
      " 6   Symptom_2  784 non-null    object \n",
      " 7   Symptom_3  486 non-null    object \n",
      " 8   Symptom_4  269 non-null    float64\n",
      " 9   Severity   521 non-null    float64\n",
      "dtypes: float64(4), int64(1), object(5)\n",
      "memory usage: 61.8+ KB\n"
     ]
    }
   ],
   "source": [
    "df.info()"
   ]
  },
  {
   "cell_type": "markdown",
   "id": "7959c595-f3be-4277-8b84-e0aaa92bfd53",
   "metadata": {},
   "source": [
    "I have X columns in my dataset. \n",
    "I have X rows in my dataset."
   ]
  },
  {
   "cell_type": "code",
   "execution_count": null,
   "id": "f944fe78-56d8-43af-9677-819b6ead3c10",
   "metadata": {},
   "outputs": [],
   "source": []
  },
  {
   "cell_type": "code",
   "execution_count": null,
   "id": "0b7c5040-0da2-4c7a-8877-faec68d16c5a",
   "metadata": {},
   "outputs": [],
   "source": []
  },
  {
   "cell_type": "code",
   "execution_count": null,
   "id": "0124b1b5-b9ce-41eb-8833-9c109f3c7b2d",
   "metadata": {},
   "outputs": [],
   "source": []
  },
  {
   "cell_type": "code",
   "execution_count": 101,
   "id": "987f5f28-923c-4687-96d8-27867ea6a27b",
   "metadata": {},
   "outputs": [],
   "source": []
  },
  {
   "cell_type": "code",
   "execution_count": 207,
   "id": "49dd7a12-f482-497d-9d1a-703932ec7730",
   "metadata": {},
   "outputs": [],
   "source": []
  },
  {
   "cell_type": "markdown",
   "id": "741d90c8",
   "metadata": {},
   "source": [
    "What are the unique columns or variables present in your dataset? How many rows are there?"
   ]
  },
  {
   "cell_type": "code",
   "execution_count": 138,
   "id": "4b0ba15e-1210-4114-992b-157d5ebfa9f5",
   "metadata": {},
   "outputs": [
    {
     "name": "stdout",
     "output_type": "stream",
     "text": [
      "These Are the Column Names: Disease, Age, Gender, Latitude, Longitude, Symptom_1, Symptom_2, Symptom_3, Symptom_4, Severity\n",
      "I have 10 columns in my dataset\n",
      "I have 790 rows in my dataset\n"
     ]
    }
   ],
   "source": [
    "# What are the unique column names?\n",
    "columns = df.columns.tolist()\n",
    "print(f\"These Are the Column Names: {', '.join(columns)}\")\n",
    "# Find and print the total number of columns\n",
    "num_col = df.shape[1]\n",
    "print(f\"I have {num_col} columns in my dataset\") \n",
    "\n",
    "# Find and print the total number of rows\n",
    "print(f\"I have {df.shape[0]} rows in my dataset\") \n",
    "\n"
   ]
  },
  {
   "cell_type": "markdown",
   "id": "e24b6448-b634-4b7a-9c69-f9a9353cb354",
   "metadata": {},
   "source": [
    "Use print(\" \") statements in python to print text or variables in the output. <br>\n",
    "Use \\n in the print statement to skip a line. Without skipping a line, everything prints close together."
   ]
  },
  {
   "cell_type": "code",
   "execution_count": 140,
   "id": "26525152-01c2-43ce-8b4d-1720a337892f",
   "metadata": {},
   "outputs": [
    {
     "data": {
      "text/html": [
       "<div>\n",
       "<style scoped>\n",
       "    .dataframe tbody tr th:only-of-type {\n",
       "        vertical-align: middle;\n",
       "    }\n",
       "\n",
       "    .dataframe tbody tr th {\n",
       "        vertical-align: top;\n",
       "    }\n",
       "\n",
       "    .dataframe thead th {\n",
       "        text-align: right;\n",
       "    }\n",
       "</style>\n",
       "<table border=\"1\" class=\"dataframe\">\n",
       "  <thead>\n",
       "    <tr style=\"text-align: right;\">\n",
       "      <th></th>\n",
       "      <th>Age</th>\n",
       "      <th>Latitude</th>\n",
       "      <th>Longitude</th>\n",
       "      <th>Symptom_4</th>\n",
       "      <th>Severity</th>\n",
       "    </tr>\n",
       "  </thead>\n",
       "  <tbody>\n",
       "    <tr>\n",
       "      <th>count</th>\n",
       "      <td>790.000000</td>\n",
       "      <td>790.000000</td>\n",
       "      <td>790.000000</td>\n",
       "      <td>269.000000</td>\n",
       "      <td>521.000000</td>\n",
       "    </tr>\n",
       "    <tr>\n",
       "      <th>mean</th>\n",
       "      <td>44.948101</td>\n",
       "      <td>44.845775</td>\n",
       "      <td>-96.930827</td>\n",
       "      <td>73.141264</td>\n",
       "      <td>80.019194</td>\n",
       "    </tr>\n",
       "    <tr>\n",
       "      <th>std</th>\n",
       "      <td>13.501672</td>\n",
       "      <td>2.019071</td>\n",
       "      <td>1.740883</td>\n",
       "      <td>11.657525</td>\n",
       "      <td>8.682410</td>\n",
       "    </tr>\n",
       "    <tr>\n",
       "      <th>min</th>\n",
       "      <td>5.000000</td>\n",
       "      <td>41.396000</td>\n",
       "      <td>-99.937000</td>\n",
       "      <td>50.000000</td>\n",
       "      <td>50.000000</td>\n",
       "    </tr>\n",
       "    <tr>\n",
       "      <th>25%</th>\n",
       "      <td>35.000000</td>\n",
       "      <td>42.893000</td>\n",
       "      <td>-98.405000</td>\n",
       "      <td>70.000000</td>\n",
       "      <td>75.000000</td>\n",
       "    </tr>\n",
       "    <tr>\n",
       "      <th>50%</th>\n",
       "      <td>45.000000</td>\n",
       "      <td>44.903000</td>\n",
       "      <td>-96.781000</td>\n",
       "      <td>75.000000</td>\n",
       "      <td>80.000000</td>\n",
       "    </tr>\n",
       "    <tr>\n",
       "      <th>75%</th>\n",
       "      <td>55.000000</td>\n",
       "      <td>46.491000</td>\n",
       "      <td>-95.548000</td>\n",
       "      <td>80.000000</td>\n",
       "      <td>85.000000</td>\n",
       "    </tr>\n",
       "    <tr>\n",
       "      <th>max</th>\n",
       "      <td>75.000000</td>\n",
       "      <td>49.168000</td>\n",
       "      <td>-94.012000</td>\n",
       "      <td>95.000000</td>\n",
       "      <td>95.000000</td>\n",
       "    </tr>\n",
       "  </tbody>\n",
       "</table>\n",
       "</div>"
      ],
      "text/plain": [
       "              Age    Latitude   Longitude   Symptom_4    Severity\n",
       "count  790.000000  790.000000  790.000000  269.000000  521.000000\n",
       "mean    44.948101   44.845775  -96.930827   73.141264   80.019194\n",
       "std     13.501672    2.019071    1.740883   11.657525    8.682410\n",
       "min      5.000000   41.396000  -99.937000   50.000000   50.000000\n",
       "25%     35.000000   42.893000  -98.405000   70.000000   75.000000\n",
       "50%     45.000000   44.903000  -96.781000   75.000000   80.000000\n",
       "75%     55.000000   46.491000  -95.548000   80.000000   85.000000\n",
       "max     75.000000   49.168000  -94.012000   95.000000   95.000000"
      ]
     },
     "execution_count": 140,
     "metadata": {},
     "output_type": "execute_result"
    }
   ],
   "source": [
    "# Describe the numerical columns\n",
    "df.describe()"
   ]
  },
  {
   "cell_type": "code",
   "execution_count": 47,
   "id": "65652edf",
   "metadata": {},
   "outputs": [
    {
     "data": {
      "text/plain": [
       "Disease       object\n",
       "Age            int64\n",
       "Gender        object\n",
       "Latitude     float64\n",
       "Longitude    float64\n",
       "Symptom_1     object\n",
       "Symptom_2     object\n",
       "Symptom_3     object\n",
       "Symptom_4    float64\n",
       "Severity     float64\n",
       "dtype: object"
      ]
     },
     "execution_count": 47,
     "metadata": {},
     "output_type": "execute_result"
    }
   ],
   "source": [
    "# Look more closely at the data types\n",
    "df.dtypes"
   ]
  },
  {
   "cell_type": "code",
   "execution_count": 59,
   "id": "e554c1a0-9002-4b0a-98fd-02e52156ca38",
   "metadata": {},
   "outputs": [
    {
     "data": {
      "text/plain": [
       "Symptom_1\n",
       "Abdominal pain               80\n",
       "Fatigue                      47\n",
       "Fever                        44\n",
       "Joint pain                   42\n",
       "Headache                     32\n",
       "                             ..\n",
       "Sudden weakness               1\n",
       "Unusual vaginal discharge     1\n",
       "Severe coughing fits          1\n",
       "Skin rash                     1\n",
       "Short stature                 1\n",
       "Name: count, Length: 120, dtype: int64"
      ]
     },
     "execution_count": 59,
     "metadata": {},
     "output_type": "execute_result"
    }
   ],
   "source": [
    "# Explore the values of a category column:\n",
    "df['Symptom_1'].value_counts()\n"
   ]
  },
  {
   "cell_type": "code",
   "execution_count": 61,
   "id": "f819183d-5a2b-4b4d-8982-8274812f4000",
   "metadata": {},
   "outputs": [
    {
     "data": {
      "text/plain": [
       "array(['Runny nose', 'Fever', 'Cough', 'Headache', 'Itchy eyes',\n",
       "       'Shortness of breath', 'Frequent urination', 'Nausea', 'Fatigue',\n",
       "       'High blood pressure', 'Abdominal pain', 'Joint pain', 'Jaundice',\n",
       "       'Sudden weakness', 'Chest pain', 'Flank pain', 'Itchy skin',\n",
       "       'Red eyes', 'Ear pain', 'Heartburn', 'Bone pain', 'Back pain',\n",
       "       'Loud snoring', 'Neck lump', 'Leg swelling', 'Irregular heartbeat',\n",
       "       'Pelvic pain', 'Gradual vision loss', 'Rectal bleeding',\n",
       "       'Red patches', 'Memory loss', 'Facial droop', 'Seizures',\n",
       "       'Chronic pain', 'Bladder pain', 'Chronic cough', 'Hot flashes',\n",
       "       'Severe headache', 'Excessive daytime sleepiness',\n",
       "       'Abdominal bloating', 'Uncomfortable sensations in legs',\n",
       "       'Weakness', 'Itching', 'Pimples', 'Itching between toes',\n",
       "       'Mood swings', 'Painful urination', 'Sadness', 'Genital warts',\n",
       "       'Skin changes', 'Bone fractures', 'Urinary issues', 'Delusions',\n",
       "       'Painful rash', 'Ringing in ears', 'Dizziness', 'Skin growths',\n",
       "       'Blood in urine', 'Skin inflammation', 'Difficulty swallowing',\n",
       "       'Heavy menstrual bleeding', 'Abdominal bulge', 'Skin rash',\n",
       "       'Yellowing of skin and eyes', 'Overgrown scar', 'Bloating',\n",
       "       'Swelling', 'Weight gain', 'Lower back pain', 'Toothache',\n",
       "       'Abnormal vaginal bleeding', 'Severe coughing fits',\n",
       "       'Unusual vaginal discharge', 'Skin redness', 'Numbness',\n",
       "       'Inattention', 'Drinking problems', 'Sneezing',\n",
       "       'Extreme weight loss', 'Excessive worrying',\n",
       "       'Difficulty in social interaction', 'Lump in breast',\n",
       "       'Binge eating', 'Change in bowel habits', 'Depressed mood',\n",
       "       'Increased thirst', 'Intellectual disability', 'Weight loss',\n",
       "       'Difficulty hearing', 'Difficulty falling asleep', 'Blurry vision',\n",
       "       'Muscle weakness', 'Obsessive thoughts', 'Tremors',\n",
       "       'Irregular periods', 'Flashbacks', 'Redness', 'Sore throat',\n",
       "       'Testicular lump', 'Chronic vulvar pain',\n",
       "       'Abnormal copper accumulation', 'Hearing loss',\n",
       "       'Fear of public places', 'Episodic overeating', 'Severe pain',\n",
       "       'Heart murmur', 'Mental decline', 'Heart palpitations',\n",
       "       'Swelling (edema)', 'Neurological problems', 'Mouth sore',\n",
       "       'Frequent bone fractures', 'Recurrent panic attacks', 'Knee pain',\n",
       "       'Stiffness', 'Uncomfortable sensation in legs', 'Dry eyes',\n",
       "       'Jaw pain', 'Tics (involuntary movements or sounds)',\n",
       "       'Short stature'], dtype=object)"
      ]
     },
     "execution_count": 61,
     "metadata": {},
     "output_type": "execute_result"
    }
   ],
   "source": [
    "# Explore the values of a category column using unique:\n",
    "df['Symptom_1'].unique()"
   ]
  },
  {
   "cell_type": "markdown",
   "id": "b913643b",
   "metadata": {},
   "source": [
    "Create one graph to quickly visualize your data using matplotlib. <br>\n",
    "Matplotlib color guide: https://i.sstatic.net/lFZum.png <br><br>\n",
    "It's okay if it is not visualy appealing or contains outliers, because we have not cleaned our data yet! Did you get any errors? If so, what were they? Would the errors have been avoided if you had cleaned the data first?<br>\n",
    "Data cleaning and transforming is very important when storing your data in a warehouse...ready for Assignment #2?"
   ]
  },
  {
   "cell_type": "code",
   "execution_count": 158,
   "id": "bbc10fe6-e720-46db-8f5c-0b7c096ff442",
   "metadata": {},
   "outputs": [
    {
     "data": {
      "image/png": "[encoded data removed]",
      "text/plain": [
       "<Figure size 640x480 with 1 Axes>"
      ]
     },
     "metadata": {},
     "output_type": "display_data"
    }
   ],
   "source": [
    "\n",
    "# Scatter plot: Age (x-axis) vs. Severity (y-axis)\n",
    "fig = plt.figure()\n",
    "ax = fig.add_subplot(111)\n",
    "\n",
    "plt.title('Age VS Severity')\n",
    "plt.xlabel('Age')\n",
    "plt.ylabel('Severity')\n",
    "\n",
    "# Plotting each case's age on the scatter plot\n",
    "ax.scatter(df['Age'], df['Severity'])\n",
    "\n",
    "# Show the plot\n",
    "plt.show()"
   ]
  },
  {
   "cell_type": "code",
   "execution_count": 152,
   "id": "e9a3c8f4-88fe-4d0c-bcfb-1fa52cf10582",
   "metadata": {},
   "outputs": [
    {
     "data": {
      "image/png": "[encoded data removed]",
      "text/plain": [
       "<Figure size 640x480 with 1 Axes>"
      ]
     },
     "metadata": {},
     "output_type": "display_data"
    }
   ],
   "source": [
    "gender_counts = df['Gender'].value_counts()\n",
    "\n",
    "# Create a pie chart\n",
    "fig = plt.figure()\n",
    "ax = fig.add_subplot(111)\n",
    "\n",
    "# Set plot title\n",
    "plt.title('Gender Distribution')\n",
    "\n",
    "# Create the pie chart\n",
    "ax.pie(gender_counts, labels=gender_counts.index, autopct='%1.1f%%', startangle=90)\n",
    "\n",
    "# Equal aspect ratio ensures that pie is drawn as a circle\n",
    "ax.axis('equal')\n",
    "\n",
    "# Show the plot\n",
    "plt.show()"
   ]
  },
  {
   "cell_type": "markdown",
   "id": "251688bc-3597-4eec-b1e1-c1e24e090b93",
   "metadata": {},
   "source": [
    "## Dataset #2"
   ]
  },
  {
   "cell_type": "markdown",
   "id": "17ba6fbf-6c3e-469e-bf3a-49fb9d16fc84",
   "metadata": {},
   "source": [
    "<b>Dataset name: Nutrition, Physical Activity, and Obesity - Policy and Environmental Data\n",
    " </b><br>\n",
    "<b>Company/Government Organization:  CDC </b><br>\n",
    "Download link:https://data.cdc.gov/Nutrition-Physical-Activity-and-Obesity/Nutrition-Physical-Activity-and-Obesity-Policy-and/k8w5-7ju6/about_data  <br>\n",
    "Date of Access: 02/07/2025"
   ]
  },
  {
   "cell_type": "code",
   "execution_count": 171,
   "id": "b4f74168-7ca6-4c93-8f2b-2b6892c7a8cb",
   "metadata": {},
   "outputs": [],
   "source": [
    "df = pd.read_csv('Nutrition__Physical_Activity.csv')"
   ]
  },
  {
   "cell_type": "code",
   "execution_count": 173,
   "id": "4efa3d9f-e6ae-4c62-8517-1ef603939315",
   "metadata": {},
   "outputs": [
    {
     "data": {
      "text/plain": [
       "<bound method DataFrame.info of       YearStart  YearEnd LocationAbbr LocationDesc  \\\n",
       "0          2020     2020           AK       Alaska   \n",
       "1          2020     2020           AK       Alaska   \n",
       "2          2020     2020           AK       Alaska   \n",
       "3          2020     2020           AL      Alabama   \n",
       "4          2020     2020           AL      Alabama   \n",
       "...         ...      ...          ...          ...   \n",
       "6290       2018     2018           WY      Wyoming   \n",
       "6291       2015     2015           NM   New Mexico   \n",
       "6292       2016     2016           NM   New Mexico   \n",
       "6293       2015     2015           MS  Mississippi   \n",
       "6294       2012     2012           CO     Colorado   \n",
       "\n",
       "                                      Datasource                  Class  \\\n",
       "0                                            SHP  Fruits and Vegetables   \n",
       "1                                            SHP           Sugar Drinks   \n",
       "2                                            SHP           Sugar Drinks   \n",
       "3                                            SHP  Fruits and Vegetables   \n",
       "4                                            SHP           Sugar Drinks   \n",
       "...                                          ...                    ...   \n",
       "6290                    ECE Surveillance Sources  Fruits and Vegetables   \n",
       "6291          Breastfeeding Surveillance Sources          Breastfeeding   \n",
       "6292                    ECE Surveillance Sources  Fruits and Vegetables   \n",
       "6293          Breastfeeding Surveillance Sources          Breastfeeding   \n",
       "6294  Fruits and Vegetables Surveillance Sources  Fruits and Vegetables   \n",
       "\n",
       "                                                  Topic  \\\n",
       "0     Fruits and Vegetables - Environmental or Polic...   \n",
       "1       Sugar Drinks - Environmental or Policy Supports   \n",
       "2       Sugar Drinks - Environmental or Policy Supports   \n",
       "3     Fruits and Vegetables - Environmental or Polic...   \n",
       "4       Sugar Drinks - Environmental or Policy Supports   \n",
       "...                                                 ...   \n",
       "6290  Fruits and Vegetables - Environmental or Polic...   \n",
       "6291   Breastfeeding - Environmental or Policy Supports   \n",
       "6292  Fruits and Vegetables - Environmental or Polic...   \n",
       "6293   Breastfeeding - Environmental or Policy Supports   \n",
       "6294  Fruits and Vegetables - Environmental or Polic...   \n",
       "\n",
       "                                               Question  Data_Value_Unit  \\\n",
       "0     Percent of secondary schools that offered a se...              NaN   \n",
       "1     Percent of secondary schools that allowed stud...              NaN   \n",
       "2     Percent of secondary schools that allowed stud...              NaN   \n",
       "3     Percent of secondary schools that offered a se...              NaN   \n",
       "4     Percent of secondary schools that allowed stud...              NaN   \n",
       "...                                                 ...              ...   \n",
       "6290  State child care regulations align with nation...              NaN   \n",
       "6291  Percent of live births occurring at facilities...              NaN   \n",
       "6292  State child care regulations align with nation...              NaN   \n",
       "6293  Percent of live births occurring at facilities...              NaN   \n",
       "6294  Percent of farmers markets that accept WIC Far...              NaN   \n",
       "\n",
       "     Data_Value_Type  ...                               GeoLocation  ClassID  \\\n",
       "0              Value  ...         (64.845079957001, -147.722059036)       FV   \n",
       "1              Value  ...         (64.845079957001, -147.722059036)       SD   \n",
       "2              Value  ...         (64.845079957001, -147.722059036)       SD   \n",
       "3              Value  ...             (32.840571122, -86.631860762)       FV   \n",
       "4              Value  ...             (32.840571122, -86.631860762)       SD   \n",
       "...              ...  ...                                       ...      ...   \n",
       "6290           Value  ...  (43.23554134300048, -108.10983035299967)       FV   \n",
       "6291           Value  ...            (34.520880952, -106.240580985)       BF   \n",
       "6292           Value  ...            (34.520880952, -106.240580985)       FV   \n",
       "6293           Value  ...             (32.745510099, -89.538030825)       BF   \n",
       "6294           Value  ...            (38.843840757, -106.133610921)       FV   \n",
       "\n",
       "     TopicID QuestionID DataValueTypeID LocationID StratificationCategory1  \\\n",
       "0        FV2       Q061           VALUE          2                   Total   \n",
       "1        SD2       Q062           VALUE          2                   Total   \n",
       "2        SD2       Q063           VALUE          2                   Total   \n",
       "3        FV2       Q061           VALUE          1                   Total   \n",
       "4        SD2       Q062           VALUE          1                   Total   \n",
       "...      ...        ...             ...        ...                     ...   \n",
       "6290     FV2       Q033           VALUE         56                   Total   \n",
       "6291     BF2       Q016           VALUE         35                   Total   \n",
       "6292     FV2       Q032           VALUE         35                   Total   \n",
       "6293     BF2       Q016           VALUE         28                   Total   \n",
       "6294     FV2       Q030           VALUE          8                   Total   \n",
       "\n",
       "     Stratification1 StratificationCategoryId1 StratificationID1  \n",
       "0              Total                       OVR           OVERALL  \n",
       "1              Total                       OVR           OVERALL  \n",
       "2              Total                       OVR           OVERALL  \n",
       "3              Total                       OVR           OVERALL  \n",
       "4              Total                       OVR           OVERALL  \n",
       "...              ...                       ...               ...  \n",
       "6290           Total                       OVR           OVERALL  \n",
       "6291           Total                       OVR           OVERALL  \n",
       "6292           Total                       OVR           OVERALL  \n",
       "6293           Total                       OVR           OVERALL  \n",
       "6294           Total                       OVR           OVERALL  \n",
       "\n",
       "[6295 rows x 25 columns]>"
      ]
     },
     "execution_count": 173,
     "metadata": {},
     "output_type": "execute_result"
    }
   ],
   "source": [
    "df.info"
   ]
  },
  {
   "cell_type": "code",
   "execution_count": 175,
   "id": "4ddf3b8b-b39a-4785-952b-f271b226c8c3",
   "metadata": {},
   "outputs": [
    {
     "name": "stdout",
     "output_type": "stream",
     "text": [
      "The columns in this dataset are YearStart, YearEnd, LocationAbbr, LocationDesc, Datasource, Class, Topic, Question, Data_Value_Unit, Data_Value_Type, Data_Value, Data_Value_Alt, Data_Value_Footnote_Symbol, Data_Value_Footnote, Total, GeoLocation, ClassID, TopicID, QuestionID, DataValueTypeID, LocationID, StratificationCategory1, Stratification1, StratificationCategoryId1, StratificationID1\n",
      "\n",
      "I have 25 columns in my dataset\n",
      "\n",
      "I have 6295 rows in my dataset\n"
     ]
    }
   ],
   "source": [
    "# What are the unique column names?\n",
    "columns = df.columns.tolist()\n",
    "print(f\"The columns in this dataset are {', '.join(columns)}\\n\")\n",
    "\n",
    "# Find and print the total number of columns\n",
    "print(f\"I have {df.shape[1]} columns in my dataset\\n\")\n",
    "# Find and print the total number of rows\n",
    "print(f\"I have {df.shape[0]} rows in my dataset\")"
   ]
  },
  {
   "cell_type": "code",
   "execution_count": 177,
   "id": "3fbfba8d-8065-4def-978d-0d5cf33b825f",
   "metadata": {},
   "outputs": [
    {
     "data": {
      "text/html": [
       "<div>\n",
       "<style scoped>\n",
       "    .dataframe tbody tr th:only-of-type {\n",
       "        vertical-align: middle;\n",
       "    }\n",
       "\n",
       "    .dataframe tbody tr th {\n",
       "        vertical-align: top;\n",
       "    }\n",
       "\n",
       "    .dataframe thead th {\n",
       "        text-align: right;\n",
       "    }\n",
       "</style>\n",
       "<table border=\"1\" class=\"dataframe\">\n",
       "  <thead>\n",
       "    <tr style=\"text-align: right;\">\n",
       "      <th></th>\n",
       "      <th>YearStart</th>\n",
       "      <th>YearEnd</th>\n",
       "      <th>Data_Value_Unit</th>\n",
       "      <th>Data_Value_Alt</th>\n",
       "      <th>LocationID</th>\n",
       "    </tr>\n",
       "  </thead>\n",
       "  <tbody>\n",
       "    <tr>\n",
       "      <th>count</th>\n",
       "      <td>6295.000000</td>\n",
       "      <td>6295.000000</td>\n",
       "      <td>0.0</td>\n",
       "      <td>6276.000000</td>\n",
       "      <td>6295.000000</td>\n",
       "    </tr>\n",
       "    <tr>\n",
       "      <th>mean</th>\n",
       "      <td>2014.909452</td>\n",
       "      <td>2015.033360</td>\n",
       "      <td>NaN</td>\n",
       "      <td>6280.384975</td>\n",
       "      <td>29.843209</td>\n",
       "    </tr>\n",
       "    <tr>\n",
       "      <th>std</th>\n",
       "      <td>3.524583</td>\n",
       "      <td>3.326646</td>\n",
       "      <td>NaN</td>\n",
       "      <td>4825.296873</td>\n",
       "      <td>16.315887</td>\n",
       "    </tr>\n",
       "    <tr>\n",
       "      <th>min</th>\n",
       "      <td>2002.000000</td>\n",
       "      <td>2007.000000</td>\n",
       "      <td>NaN</td>\n",
       "      <td>0.000000</td>\n",
       "      <td>1.000000</td>\n",
       "    </tr>\n",
       "    <tr>\n",
       "      <th>25%</th>\n",
       "      <td>2012.000000</td>\n",
       "      <td>2012.000000</td>\n",
       "      <td>NaN</td>\n",
       "      <td>31.700000</td>\n",
       "      <td>17.000000</td>\n",
       "    </tr>\n",
       "    <tr>\n",
       "      <th>50%</th>\n",
       "      <td>2015.000000</td>\n",
       "      <td>2015.000000</td>\n",
       "      <td>NaN</td>\n",
       "      <td>10002.000000</td>\n",
       "      <td>30.000000</td>\n",
       "    </tr>\n",
       "    <tr>\n",
       "      <th>75%</th>\n",
       "      <td>2018.000000</td>\n",
       "      <td>2018.000000</td>\n",
       "      <td>NaN</td>\n",
       "      <td>10002.000000</td>\n",
       "      <td>44.000000</td>\n",
       "    </tr>\n",
       "    <tr>\n",
       "      <th>max</th>\n",
       "      <td>2021.000000</td>\n",
       "      <td>2021.000000</td>\n",
       "      <td>NaN</td>\n",
       "      <td>10002.000000</td>\n",
       "      <td>78.000000</td>\n",
       "    </tr>\n",
       "  </tbody>\n",
       "</table>\n",
       "</div>"
      ],
      "text/plain": [
       "         YearStart      YearEnd  Data_Value_Unit  Data_Value_Alt   LocationID\n",
       "count  6295.000000  6295.000000              0.0     6276.000000  6295.000000\n",
       "mean   2014.909452  2015.033360              NaN     6280.384975    29.843209\n",
       "std       3.524583     3.326646              NaN     4825.296873    16.315887\n",
       "min    2002.000000  2007.000000              NaN        0.000000     1.000000\n",
       "25%    2012.000000  2012.000000              NaN       31.700000    17.000000\n",
       "50%    2015.000000  2015.000000              NaN    10002.000000    30.000000\n",
       "75%    2018.000000  2018.000000              NaN    10002.000000    44.000000\n",
       "max    2021.000000  2021.000000              NaN    10002.000000    78.000000"
      ]
     },
     "execution_count": 177,
     "metadata": {},
     "output_type": "execute_result"
    }
   ],
   "source": [
    "# Describe the numerical columns\n",
    "df.describe()"
   ]
  },
  {
   "cell_type": "code",
   "execution_count": 179,
   "id": "50932d62-30f3-4ed6-9d80-af56240bec7a",
   "metadata": {},
   "outputs": [
    {
     "data": {
      "text/plain": [
       "YearStart                       int64\n",
       "YearEnd                         int64\n",
       "LocationAbbr                   object\n",
       "LocationDesc                   object\n",
       "Datasource                     object\n",
       "Class                          object\n",
       "Topic                          object\n",
       "Question                       object\n",
       "Data_Value_Unit               float64\n",
       "Data_Value_Type                object\n",
       "Data_Value                     object\n",
       "Data_Value_Alt                float64\n",
       "Data_Value_Footnote_Symbol     object\n",
       "Data_Value_Footnote            object\n",
       "Total                          object\n",
       "GeoLocation                    object\n",
       "ClassID                        object\n",
       "TopicID                        object\n",
       "QuestionID                     object\n",
       "DataValueTypeID                object\n",
       "LocationID                      int64\n",
       "StratificationCategory1        object\n",
       "Stratification1                object\n",
       "StratificationCategoryId1      object\n",
       "StratificationID1              object\n",
       "dtype: object"
      ]
     },
     "execution_count": 179,
     "metadata": {},
     "output_type": "execute_result"
    }
   ],
   "source": [
    "# Look more closely at the data types\n",
    "df.dtypes"
   ]
  },
  {
   "cell_type": "code",
   "execution_count": 181,
   "id": "8a4d3430-3001-4a06-a7e6-2a9728fa0b0d",
   "metadata": {},
   "outputs": [
    {
     "data": {
      "text/plain": [
       "array(['SHP', 'Breastfeeding Surveillance Sources',\n",
       "       'School Health Profiles (Profiles)', 'ECE Surveillance Sources',\n",
       "       'Fruits and Vegetables Surveillance Sources',\n",
       "       'National Complete Streets Coalition',\n",
       "       'National Environmental Public Health Tracking Network',\n",
       "       'CDC Maternity Practices in Infant Nutrition and Care Survey',\n",
       "       \"National Survey of Children's Health\"], dtype=object)"
      ]
     },
     "execution_count": 181,
     "metadata": {},
     "output_type": "execute_result"
    }
   ],
   "source": [
    "# Explore the values of a category column using unique:\n",
    "df['Datasource'].unique()"
   ]
  },
  {
   "cell_type": "code",
   "execution_count": 189,
   "id": "9ce986ef-0427-41d8-8e7f-edccc11fef22",
   "metadata": {},
   "outputs": [
    {
     "name": "stdout",
     "output_type": "stream",
     "text": [
      "Datasource\n",
      "ECE Surveillance Sources                                       3432\n",
      "Breastfeeding Surveillance Sources                              794\n",
      "School Health Profiles (Profiles)                               671\n",
      "Fruits and Vegetables Surveillance Sources                      571\n",
      "National Complete Streets Coalition                             477\n",
      "SHP                                                             138\n",
      "CDC Maternity Practices in Infant Nutrition and Care Survey     108\n",
      "National Environmental Public Health Tracking Network            52\n",
      "National Survey of Children's Health                             52\n",
      "Name: count, dtype: int64\n"
     ]
    }
   ],
   "source": [
    "# Explore the values of a category column:\n",
    "print(df['Datasource'].value_counts())"
   ]
  },
  {
   "cell_type": "code",
   "execution_count": 197,
   "id": "fd7f937a-70fc-4b92-9a2a-2402a09b9d24",
   "metadata": {},
   "outputs": [
    {
     "name": "stdout",
     "output_type": "stream",
     "text": [
      "ClassID\n",
      "FV    1952\n",
      "PA    1153\n",
      "SD    1144\n",
      "TV    1144\n",
      "BF     902\n",
      "Name: count, dtype: int64\n"
     ]
    },
    {
     "data": {
      "image/png": "[encoded data removed]",
      "text/plain": [
       "<Figure size 640x480 with 1 Axes>"
      ]
     },
     "metadata": {},
     "output_type": "display_data"
    }
   ],
   "source": [
    "ds_counts = df['ClassID'].value_counts()\n",
    "fig = plt.figure()\n",
    "ax = fig.add_subplot(111)\n",
    "\n",
    "#assign title and labels\n",
    "plt.title('ClassID counts')\n",
    "plt.xlabel('ClassID')\n",
    "plt.ylabel('Count')\n",
    "\n",
    "# Plotting each case's age on the bar plot\n",
    "ax.bar(ds_counts.index, ds_counts.values)\n",
    "\n",
    "#Tilt x axis\n",
    "plt.xticks(rotation=45)  # You can change 45 to any angle you prefer\n",
    "\n",
    "# Show the plot\n",
    "plt.show()\n"
   ]
  },
  {
   "cell_type": "code",
   "execution_count": 215,
   "id": "0b817704-977a-4818-bbfa-77b9d749f7d5",
   "metadata": {},
   "outputs": [
    {
     "name": "stdout",
     "output_type": "stream",
     "text": [
      "YearStart\n",
      "2002     52\n",
      "2007     52\n",
      "2008     52\n",
      "2009    104\n",
      "2010    464\n",
      "2011    364\n",
      "2012    763\n",
      "2013    417\n",
      "2014    564\n",
      "2015    469\n",
      "2016    621\n",
      "2017    574\n",
      "2018    713\n",
      "2019    420\n",
      "2020    611\n",
      "2021     55\n",
      "Name: count, dtype: int64\n"
     ]
    },
    {
     "data": {
      "image/png": "[encoded data removed]",
      "text/plain": [
       "<Figure size 640x480 with 1 Axes>"
      ]
     },
     "metadata": {},
     "output_type": "display_data"
    }
   ],
   "source": [
    "\n",
    "# Getting the counts of each unique value in the 'YearStart' column\n",
    "ds_counts = df['YearStart'].value_counts().sort_index()  # Sort the years in ascending order\n",
    "\n",
    "# Plotting\n",
    "fig = plt.figure()\n",
    "ax = fig.add_subplot(111)\n",
    "\n",
    "# Printing the counts for debugging purposes\n",
    "print(ds_counts)\n",
    "\n",
    "# Assign title and labels\n",
    "plt.title('Year counts')\n",
    "plt.xlabel('Year')\n",
    "plt.ylabel('Count')\n",
    "\n",
    "# Plotting a line plot\n",
    "ax.plot(ds_counts.index, ds_counts.values, marker='o', linestyle='-', color='b')\n",
    "\n",
    "# Ensuring the y-axis labels are whole numbers\n",
    "ax.xaxis.set_major_locator(MaxNLocator(integer=True))\n",
    "\n",
    "# Show the plot\n",
    "plt.show()"
   ]
  },
  {
   "cell_type": "markdown",
   "id": "8ce67fcf",
   "metadata": {},
   "source": [
    "# Assignment #2 - Data Gathering and Warehousing - DSSA-5102\n",
    "\n",
    "Instructor: Melissa Laurino</br>\n",
    "Spring 2025</br>\n",
    "\n",
    "Our next objective is to choose <b>ONE</b> of the datasets from our previous assignment to explore further. The datasets we have chose for Assignment #1 can be cleaned by practicing our Python skills. Depending on your data, and especially the size of it, it may be more beneficial to clean in a language you are comfortable working in already instead of cleaning our data with a new language like SQL. SQL may be needed for cleaning of databases that are very large or hundreds of terabytes in size. We will clean our datasets first before we attempt to load them into our SQL databases. </br>\n",
    "Not only is data everywhere, but it can also be messy. Messy data can originate in the data collection process, whether this is occurring with manual data entry and typos, or with outdated collection forms that hold multiple variables that mean the same thing. For example, while collecting data on marine mammals, it is important to note who the observer is. With Python and R, reading excel or csv files, these languages will take the same variable written as, \"Melissa Laurino\" and \"melissa laurino\" as two separate observers because they are case sensitive. However, this is not accurate because they are meant to be the same person within the observer column or category.</br>\n",
    "Clean data is important for consistency that leads to accurate results and analysis. If we are using our data to make informed decisions in our field, we need it to be clean. We do not want to omit rows that may make a difference to our dataset because they do not fit a certain criteria due to typos, but how much should the original dataset be altered? Depending on your field, there may be regulations and compliance standards regarding data quality. Protocols may state if the data does not read exactly how it should be, then it should be ommitted. </br>\n",
    "For our learning objectives in this class, we will clean our data. Our first assignment in our warehousing journey was important because it allowed us to gain a better understanding of a dataset that we personally did not collect. Now that we have that understanding, we can explore it in greater depth and clean it as necessary.<br>\n",
    "<br>\n",
    "For Assignment #2, our objective is to clean one of the datasets explored above using Python to prepare for our future database from scratch. Include at a minimum:\n",
    "\n",
    "- The chosen dataset name, company/organization resonsible for data collection, the download link, and date of access.\n",
    "- Load neccessary packages and data (Only if you start a new session in Jupyter, not if you are continuing from above).\n",
    "- Make all column names lower case, contain no spaces, and no special characters (SQL will not like this otherwise).\n",
    "- *Make detailed comments with your code* <br>\n",
    "- *Record EVERYTHING ommitted and changed if necessary* <br>\n",
    "- Since we are exploring and learning without a specific organization policy, use your best judgement when ommitting records. If you have chosen to ommit data, please explain why.</br>\n",
    "- Save your new CLEAN data as a .csv file. \n",
    "\n",
    "\n",
    "Comment ALL code to recieve full credit. The above bullet points are to help guide you in your process, but extensive cleaning is expected for your data set (This will also save you a lot of time down the line!). \n",
    "<br>\n",
    "\n",
    "<br>\n",
    "<b>The code that I have written below is just to give you ideas on exploring and cleaning data. It is encouraged that you explore and clean it in greater detail than what I have written below for full credit.</b><br>"
   ]
  },
  {
   "cell_type": "markdown",
   "id": "b07cb638-34d9-4342-92bb-f405ae1789cd",
   "metadata": {},
   "source": [
    "<b>Dataset name: Nutrition, Physical Activity, and Obesity - Policy and Environmental Data\n",
    " </b><br>\n",
    "<b>Company/Government Organization:  CDC </b><br>\n",
    "Download link:https://data.cdc.gov/Nutrition-Physical-Activity-and-Obesity/Nutrition-Physical-Activity-and-Obesity-Policy-and/k8w5-7ju6/about_data  <br>\n",
    "Date of Access: 02/07/2025\n"
   ]
  },
  {
   "cell_type": "markdown",
   "id": "a707f9e0-68fe-4304-8bbe-a13921b7bf78",
   "metadata": {},
   "source": [
    "Why did you choose to continue working with this dataset? <br>\n",
    "This data set had more metadata available. I also liked that it came from the source website instead of Kaggle.  <br>\n",
    "<br>"
   ]
  },
  {
   "cell_type": "markdown",
   "id": "671734a8-46a4-4d71-81e7-ce3c62f716b4",
   "metadata": {},
   "source": [
    "Make all column names lowercase, with no spaces or special characters:"
   ]
  },
  {
   "cell_type": "code",
   "execution_count": 222,
   "id": "79bf2359",
   "metadata": {
    "scrolled": true
   },
   "outputs": [],
   "source": [
    "# Make column names lowercase\n",
    "df.columns = [col.lower() for col in df.columns]\n"
   ]
  },
  {
   "cell_type": "code",
   "execution_count": 36,
   "id": "e6ab7e05",
   "metadata": {},
   "outputs": [],
   "source": [
    "# Happy Cleaning :) "
   ]
  },
  {
   "cell_type": "code",
   "execution_count": 224,
   "id": "96de4afc",
   "metadata": {},
   "outputs": [
    {
     "data": {
      "text/html": [
       "<div>\n",
       "<style scoped>\n",
       "    .dataframe tbody tr th:only-of-type {\n",
       "        vertical-align: middle;\n",
       "    }\n",
       "\n",
       "    .dataframe tbody tr th {\n",
       "        vertical-align: top;\n",
       "    }\n",
       "\n",
       "    .dataframe thead th {\n",
       "        text-align: right;\n",
       "    }\n",
       "</style>\n",
       "<table border=\"1\" class=\"dataframe\">\n",
       "  <thead>\n",
       "    <tr style=\"text-align: right;\">\n",
       "      <th></th>\n",
       "      <th>locationabbr</th>\n",
       "      <th>locationdesc</th>\n",
       "      <th>datasource</th>\n",
       "      <th>class</th>\n",
       "      <th>topic</th>\n",
       "      <th>question</th>\n",
       "      <th>data_value_type</th>\n",
       "      <th>data_value</th>\n",
       "      <th>data_value_footnote_symbol</th>\n",
       "      <th>data_value_footnote</th>\n",
       "      <th>total</th>\n",
       "      <th>geolocation</th>\n",
       "      <th>classid</th>\n",
       "      <th>topicid</th>\n",
       "      <th>questionid</th>\n",
       "      <th>datavaluetypeid</th>\n",
       "      <th>stratificationcategory1</th>\n",
       "      <th>stratification1</th>\n",
       "      <th>stratificationcategoryid1</th>\n",
       "      <th>stratificationid1</th>\n",
       "    </tr>\n",
       "  </thead>\n",
       "  <tbody>\n",
       "    <tr>\n",
       "      <th>count</th>\n",
       "      <td>6295</td>\n",
       "      <td>6295</td>\n",
       "      <td>6295</td>\n",
       "      <td>6295</td>\n",
       "      <td>6295</td>\n",
       "      <td>6295</td>\n",
       "      <td>6295</td>\n",
       "      <td>6276</td>\n",
       "      <td>5</td>\n",
       "      <td>19</td>\n",
       "      <td>6294</td>\n",
       "      <td>6190</td>\n",
       "      <td>6295</td>\n",
       "      <td>6295</td>\n",
       "      <td>6295</td>\n",
       "      <td>6295</td>\n",
       "      <td>6295</td>\n",
       "      <td>6295</td>\n",
       "      <td>6295</td>\n",
       "      <td>6295</td>\n",
       "    </tr>\n",
       "    <tr>\n",
       "      <th>unique</th>\n",
       "      <td>55</td>\n",
       "      <td>55</td>\n",
       "      <td>9</td>\n",
       "      <td>5</td>\n",
       "      <td>5</td>\n",
       "      <td>21</td>\n",
       "      <td>1</td>\n",
       "      <td>703</td>\n",
       "      <td>1</td>\n",
       "      <td>2</td>\n",
       "      <td>1</td>\n",
       "      <td>105</td>\n",
       "      <td>5</td>\n",
       "      <td>5</td>\n",
       "      <td>21</td>\n",
       "      <td>1</td>\n",
       "      <td>1</td>\n",
       "      <td>1</td>\n",
       "      <td>1</td>\n",
       "      <td>1</td>\n",
       "    </tr>\n",
       "    <tr>\n",
       "      <th>top</th>\n",
       "      <td>AK</td>\n",
       "      <td>Alaska</td>\n",
       "      <td>ECE Surveillance Sources</td>\n",
       "      <td>Fruits and Vegetables</td>\n",
       "      <td>Fruits and Vegetables - Environmental or Polic...</td>\n",
       "      <td>Percent of live births occurring at facilities...</td>\n",
       "      <td>Value</td>\n",
       "      <td>No</td>\n",
       "      <td>~</td>\n",
       "      <td>Indicates States that did not receive WIC FMNP...</td>\n",
       "      <td>Total</td>\n",
       "      <td>(64.845079957001, -147.722059036)</td>\n",
       "      <td>FV</td>\n",
       "      <td>FV2</td>\n",
       "      <td>Q016</td>\n",
       "      <td>VALUE</td>\n",
       "      <td>Total</td>\n",
       "      <td>Total</td>\n",
       "      <td>OVR</td>\n",
       "      <td>OVERALL</td>\n",
       "    </tr>\n",
       "    <tr>\n",
       "      <th>freq</th>\n",
       "      <td>122</td>\n",
       "      <td>122</td>\n",
       "      <td>3432</td>\n",
       "      <td>1952</td>\n",
       "      <td>1952</td>\n",
       "      <td>794</td>\n",
       "      <td>6295</td>\n",
       "      <td>3400</td>\n",
       "      <td>5</td>\n",
       "      <td>14</td>\n",
       "      <td>6294</td>\n",
       "      <td>97</td>\n",
       "      <td>1952</td>\n",
       "      <td>1952</td>\n",
       "      <td>794</td>\n",
       "      <td>6295</td>\n",
       "      <td>6295</td>\n",
       "      <td>6295</td>\n",
       "      <td>6295</td>\n",
       "      <td>6295</td>\n",
       "    </tr>\n",
       "  </tbody>\n",
       "</table>\n",
       "</div>"
      ],
      "text/plain": [
       "       locationabbr locationdesc                datasource  \\\n",
       "count          6295         6295                      6295   \n",
       "unique           55           55                         9   \n",
       "top              AK       Alaska  ECE Surveillance Sources   \n",
       "freq            122          122                      3432   \n",
       "\n",
       "                        class  \\\n",
       "count                    6295   \n",
       "unique                      5   \n",
       "top     Fruits and Vegetables   \n",
       "freq                     1952   \n",
       "\n",
       "                                                    topic  \\\n",
       "count                                                6295   \n",
       "unique                                                  5   \n",
       "top     Fruits and Vegetables - Environmental or Polic...   \n",
       "freq                                                 1952   \n",
       "\n",
       "                                                 question data_value_type  \\\n",
       "count                                                6295            6295   \n",
       "unique                                                 21               1   \n",
       "top     Percent of live births occurring at facilities...           Value   \n",
       "freq                                                  794            6295   \n",
       "\n",
       "       data_value data_value_footnote_symbol  \\\n",
       "count        6276                          5   \n",
       "unique        703                          1   \n",
       "top            No                          ~   \n",
       "freq         3400                          5   \n",
       "\n",
       "                                      data_value_footnote  total  \\\n",
       "count                                                  19   6294   \n",
       "unique                                                  2      1   \n",
       "top     Indicates States that did not receive WIC FMNP...  Total   \n",
       "freq                                                   14   6294   \n",
       "\n",
       "                              geolocation classid topicid questionid  \\\n",
       "count                                6190    6295    6295       6295   \n",
       "unique                                105       5       5         21   \n",
       "top     (64.845079957001, -147.722059036)      FV     FV2       Q016   \n",
       "freq                                   97    1952    1952        794   \n",
       "\n",
       "       datavaluetypeid stratificationcategory1 stratification1  \\\n",
       "count             6295                    6295            6295   \n",
       "unique               1                       1               1   \n",
       "top              VALUE                   Total           Total   \n",
       "freq              6295                    6295            6295   \n",
       "\n",
       "       stratificationcategoryid1 stratificationid1  \n",
       "count                       6295              6295  \n",
       "unique                         1                 1  \n",
       "top                          OVR           OVERALL  \n",
       "freq                        6295              6295  "
      ]
     },
     "execution_count": 224,
     "metadata": {},
     "output_type": "execute_result"
    }
   ],
   "source": [
    "df.describe(include=['object'])\n"
   ]
  },
  {
   "cell_type": "markdown",
   "id": "90b8f020-5ce1-45f9-9519-ccb23e2bb0e4",
   "metadata": {},
   "source": [
    "<b> there seems to be a few columns that are dependant on others. ie, locationabbr and locationdesc, class and classid etc. These instances should share the same amount of unique values. If they dont then we would know that there is a typo in one of the feilds. \n"
   ]
  },
  {
   "cell_type": "code",
   "execution_count": 249,
   "id": "0463e735-7876-47fd-affc-9b67a30cd6f2",
   "metadata": {},
   "outputs": [
    {
     "data": {
      "text/html": [
       "<div>\n",
       "<style scoped>\n",
       "    .dataframe tbody tr th:only-of-type {\n",
       "        vertical-align: middle;\n",
       "    }\n",
       "\n",
       "    .dataframe tbody tr th {\n",
       "        vertical-align: top;\n",
       "    }\n",
       "\n",
       "    .dataframe thead th {\n",
       "        text-align: right;\n",
       "    }\n",
       "</style>\n",
       "<table border=\"1\" class=\"dataframe\">\n",
       "  <thead>\n",
       "    <tr style=\"text-align: right;\">\n",
       "      <th></th>\n",
       "      <th>yearstart</th>\n",
       "      <th>yearend</th>\n",
       "      <th>data_value_unit</th>\n",
       "      <th>data_value_alt</th>\n",
       "      <th>locationid</th>\n",
       "    </tr>\n",
       "  </thead>\n",
       "  <tbody>\n",
       "    <tr>\n",
       "      <th>count</th>\n",
       "      <td>6295.000000</td>\n",
       "      <td>6295.000000</td>\n",
       "      <td>0.0</td>\n",
       "      <td>6276.000000</td>\n",
       "      <td>6295.000000</td>\n",
       "    </tr>\n",
       "    <tr>\n",
       "      <th>mean</th>\n",
       "      <td>2014.909452</td>\n",
       "      <td>2015.033360</td>\n",
       "      <td>NaN</td>\n",
       "      <td>6280.384975</td>\n",
       "      <td>29.843209</td>\n",
       "    </tr>\n",
       "    <tr>\n",
       "      <th>std</th>\n",
       "      <td>3.524583</td>\n",
       "      <td>3.326646</td>\n",
       "      <td>NaN</td>\n",
       "      <td>4825.296873</td>\n",
       "      <td>16.315887</td>\n",
       "    </tr>\n",
       "    <tr>\n",
       "      <th>min</th>\n",
       "      <td>2002.000000</td>\n",
       "      <td>2007.000000</td>\n",
       "      <td>NaN</td>\n",
       "      <td>0.000000</td>\n",
       "      <td>1.000000</td>\n",
       "    </tr>\n",
       "    <tr>\n",
       "      <th>25%</th>\n",
       "      <td>2012.000000</td>\n",
       "      <td>2012.000000</td>\n",
       "      <td>NaN</td>\n",
       "      <td>31.700000</td>\n",
       "      <td>17.000000</td>\n",
       "    </tr>\n",
       "    <tr>\n",
       "      <th>50%</th>\n",
       "      <td>2015.000000</td>\n",
       "      <td>2015.000000</td>\n",
       "      <td>NaN</td>\n",
       "      <td>10002.000000</td>\n",
       "      <td>30.000000</td>\n",
       "    </tr>\n",
       "    <tr>\n",
       "      <th>75%</th>\n",
       "      <td>2018.000000</td>\n",
       "      <td>2018.000000</td>\n",
       "      <td>NaN</td>\n",
       "      <td>10002.000000</td>\n",
       "      <td>44.000000</td>\n",
       "    </tr>\n",
       "    <tr>\n",
       "      <th>max</th>\n",
       "      <td>2021.000000</td>\n",
       "      <td>2021.000000</td>\n",
       "      <td>NaN</td>\n",
       "      <td>10002.000000</td>\n",
       "      <td>78.000000</td>\n",
       "    </tr>\n",
       "  </tbody>\n",
       "</table>\n",
       "</div>"
      ],
      "text/plain": [
       "         yearstart      yearend  data_value_unit  data_value_alt   locationid\n",
       "count  6295.000000  6295.000000              0.0     6276.000000  6295.000000\n",
       "mean   2014.909452  2015.033360              NaN     6280.384975    29.843209\n",
       "std       3.524583     3.326646              NaN     4825.296873    16.315887\n",
       "min    2002.000000  2007.000000              NaN        0.000000     1.000000\n",
       "25%    2012.000000  2012.000000              NaN       31.700000    17.000000\n",
       "50%    2015.000000  2015.000000              NaN    10002.000000    30.000000\n",
       "75%    2018.000000  2018.000000              NaN    10002.000000    44.000000\n",
       "max    2021.000000  2021.000000              NaN    10002.000000    78.000000"
      ]
     },
     "execution_count": 249,
     "metadata": {},
     "output_type": "execute_result"
    }
   ],
   "source": [
    "df.describe()\n"
   ]
  },
  {
   "cell_type": "markdown",
   "id": "45a809d1-8256-432b-9302-cdbbfad77f42",
   "metadata": {},
   "source": [
    "data_value_unit appers to be all blanks this seems fine as that is just a descriptor for data value that is used as needed. Data value alt has a wide range with alot of values being at 10002. Accordint to the metedata this column is Numeric representation of data value. So it may be helpful to understand what values coorspond with what numeric output.  "
   ]
  },
  {
   "cell_type": "code",
   "execution_count": 262,
   "id": "fcc229a4-d223-43e2-9f97-57bbddc70c4f",
   "metadata": {},
   "outputs": [
    {
     "name": "stdout",
     "output_type": "stream",
     "text": [
      "['Yes' 'No' nan 'YES']\n",
      "[10001. 10002.    nan]\n"
     ]
    }
   ],
   "source": [
    "# Filter the rows where 'data_value' is non-numeric\n",
    "non_numeric_df = df[pd.to_numeric(df['data_value'], errors='coerce').isna()]\n",
    "unique_dv = non_numeric_df['data_value'].unique()\n",
    "# Get the corresponding values in the 'data_value_alt' column for those rows\n",
    "corresponding_values = non_numeric_df['data_value_alt'].unique()\n",
    "\n",
    "print(unique_dv)\n",
    "print(corresponding_values)"
   ]
  },
  {
   "cell_type": "markdown",
   "id": "0c41f199-659d-4e1e-aee3-b47f8c1f9e77",
   "metadata": {},
   "source": [
    "Looks like the yes and no values are assigned 10001 and 10002 causing the wide range in the data value alt column"
   ]
  },
  {
   "cell_type": "code",
   "execution_count": 226,
   "id": "eb86068e",
   "metadata": {},
   "outputs": [
    {
     "name": "stdout",
     "output_type": "stream",
     "text": [
      "yearstart                        0\n",
      "yearend                          0\n",
      "locationabbr                     0\n",
      "locationdesc                     0\n",
      "datasource                       0\n",
      "class                            0\n",
      "topic                            0\n",
      "question                         0\n",
      "data_value_unit               6295\n",
      "data_value_type                  0\n",
      "data_value                      19\n",
      "data_value_alt                  19\n",
      "data_value_footnote_symbol    6290\n",
      "data_value_footnote           6276\n",
      "total                            1\n",
      "geolocation                    105\n",
      "classid                          0\n",
      "topicid                          0\n",
      "questionid                       0\n",
      "datavaluetypeid                  0\n",
      "locationid                       0\n",
      "stratificationcategory1          0\n",
      "stratification1                  0\n",
      "stratificationcategoryid1        0\n",
      "stratificationid1                0\n",
      "dtype: int64\n"
     ]
    }
   ],
   "source": [
    "# Get the count of null values for each column\n",
    "null_counts = df.isnull().sum()\n",
    "\n",
    "print(null_counts)\n"
   ]
  },
  {
   "cell_type": "markdown",
   "id": "588fbfee-3fac-40f2-ad8e-7e6cb5723b20",
   "metadata": {},
   "source": [
    "As mentioned prior data_value_unit does not have any entries. Data value and data value alt have a dependancy so they should have the same nulls. They will need a closer look to see what those nulls are. Same with geolocation."
   ]
  },
  {
   "cell_type": "code",
   "execution_count": 272,
   "id": "57e6e8b1",
   "metadata": {},
   "outputs": [
    {
     "data": {
      "text/html": [
       "<div>\n",
       "<style scoped>\n",
       "    .dataframe tbody tr th:only-of-type {\n",
       "        vertical-align: middle;\n",
       "    }\n",
       "\n",
       "    .dataframe tbody tr th {\n",
       "        vertical-align: top;\n",
       "    }\n",
       "\n",
       "    .dataframe thead th {\n",
       "        text-align: right;\n",
       "    }\n",
       "</style>\n",
       "<table border=\"1\" class=\"dataframe\">\n",
       "  <thead>\n",
       "    <tr style=\"text-align: right;\">\n",
       "      <th></th>\n",
       "      <th>locationabbr</th>\n",
       "      <th>locationdesc</th>\n",
       "      <th>datasource</th>\n",
       "      <th>class</th>\n",
       "      <th>topic</th>\n",
       "      <th>question</th>\n",
       "      <th>data_value_type</th>\n",
       "      <th>data_value</th>\n",
       "      <th>data_value_footnote_symbol</th>\n",
       "      <th>data_value_footnote</th>\n",
       "      <th>total</th>\n",
       "      <th>geolocation</th>\n",
       "      <th>classid</th>\n",
       "      <th>topicid</th>\n",
       "      <th>questionid</th>\n",
       "      <th>datavaluetypeid</th>\n",
       "      <th>stratificationcategory1</th>\n",
       "      <th>stratification1</th>\n",
       "      <th>stratificationcategoryid1</th>\n",
       "      <th>stratificationid1</th>\n",
       "    </tr>\n",
       "  </thead>\n",
       "  <tbody>\n",
       "    <tr>\n",
       "      <th>count</th>\n",
       "      <td>19</td>\n",
       "      <td>19</td>\n",
       "      <td>19</td>\n",
       "      <td>19</td>\n",
       "      <td>19</td>\n",
       "      <td>19</td>\n",
       "      <td>19</td>\n",
       "      <td>0</td>\n",
       "      <td>5</td>\n",
       "      <td>19</td>\n",
       "      <td>18</td>\n",
       "      <td>19</td>\n",
       "      <td>19</td>\n",
       "      <td>19</td>\n",
       "      <td>19</td>\n",
       "      <td>19</td>\n",
       "      <td>19</td>\n",
       "      <td>19</td>\n",
       "      <td>19</td>\n",
       "      <td>19</td>\n",
       "    </tr>\n",
       "    <tr>\n",
       "      <th>unique</th>\n",
       "      <td>18</td>\n",
       "      <td>18</td>\n",
       "      <td>2</td>\n",
       "      <td>2</td>\n",
       "      <td>2</td>\n",
       "      <td>2</td>\n",
       "      <td>1</td>\n",
       "      <td>0</td>\n",
       "      <td>1</td>\n",
       "      <td>2</td>\n",
       "      <td>1</td>\n",
       "      <td>18</td>\n",
       "      <td>2</td>\n",
       "      <td>2</td>\n",
       "      <td>2</td>\n",
       "      <td>1</td>\n",
       "      <td>1</td>\n",
       "      <td>1</td>\n",
       "      <td>1</td>\n",
       "      <td>1</td>\n",
       "    </tr>\n",
       "    <tr>\n",
       "      <th>top</th>\n",
       "      <td>DC</td>\n",
       "      <td>District of Columbia</td>\n",
       "      <td>Fruits and Vegetables Surveillance Sources</td>\n",
       "      <td>Fruits and Vegetables</td>\n",
       "      <td>Fruits and Vegetables - Environmental or Polic...</td>\n",
       "      <td>Percent of farmers markets that accept WIC Far...</td>\n",
       "      <td>Value</td>\n",
       "      <td>NaN</td>\n",
       "      <td>~</td>\n",
       "      <td>Indicates States that did not receive WIC FMNP...</td>\n",
       "      <td>Total</td>\n",
       "      <td>(38.890371385, -77.031961127)</td>\n",
       "      <td>FV</td>\n",
       "      <td>FV2</td>\n",
       "      <td>Q030</td>\n",
       "      <td>VALUE</td>\n",
       "      <td>Total</td>\n",
       "      <td>Total</td>\n",
       "      <td>OVR</td>\n",
       "      <td>OVERALL</td>\n",
       "    </tr>\n",
       "    <tr>\n",
       "      <th>freq</th>\n",
       "      <td>2</td>\n",
       "      <td>2</td>\n",
       "      <td>14</td>\n",
       "      <td>14</td>\n",
       "      <td>14</td>\n",
       "      <td>14</td>\n",
       "      <td>19</td>\n",
       "      <td>NaN</td>\n",
       "      <td>5</td>\n",
       "      <td>14</td>\n",
       "      <td>18</td>\n",
       "      <td>2</td>\n",
       "      <td>14</td>\n",
       "      <td>14</td>\n",
       "      <td>14</td>\n",
       "      <td>19</td>\n",
       "      <td>19</td>\n",
       "      <td>19</td>\n",
       "      <td>19</td>\n",
       "      <td>19</td>\n",
       "    </tr>\n",
       "  </tbody>\n",
       "</table>\n",
       "</div>"
      ],
      "text/plain": [
       "       locationabbr          locationdesc  \\\n",
       "count            19                    19   \n",
       "unique           18                    18   \n",
       "top              DC  District of Columbia   \n",
       "freq              2                     2   \n",
       "\n",
       "                                        datasource                  class  \\\n",
       "count                                           19                     19   \n",
       "unique                                           2                      2   \n",
       "top     Fruits and Vegetables Surveillance Sources  Fruits and Vegetables   \n",
       "freq                                            14                     14   \n",
       "\n",
       "                                                    topic  \\\n",
       "count                                                  19   \n",
       "unique                                                  2   \n",
       "top     Fruits and Vegetables - Environmental or Polic...   \n",
       "freq                                                   14   \n",
       "\n",
       "                                                 question data_value_type  \\\n",
       "count                                                  19              19   \n",
       "unique                                                  2               1   \n",
       "top     Percent of farmers markets that accept WIC Far...           Value   \n",
       "freq                                                   14              19   \n",
       "\n",
       "       data_value data_value_footnote_symbol  \\\n",
       "count           0                          5   \n",
       "unique          0                          1   \n",
       "top           NaN                          ~   \n",
       "freq          NaN                          5   \n",
       "\n",
       "                                      data_value_footnote  total  \\\n",
       "count                                                  19     18   \n",
       "unique                                                  2      1   \n",
       "top     Indicates States that did not receive WIC FMNP...  Total   \n",
       "freq                                                   14     18   \n",
       "\n",
       "                          geolocation classid topicid questionid  \\\n",
       "count                              19      19      19         19   \n",
       "unique                             18       2       2          2   \n",
       "top     (38.890371385, -77.031961127)      FV     FV2       Q030   \n",
       "freq                                2      14      14         14   \n",
       "\n",
       "       datavaluetypeid stratificationcategory1 stratification1  \\\n",
       "count               19                      19              19   \n",
       "unique               1                       1               1   \n",
       "top              VALUE                   Total           Total   \n",
       "freq                19                      19              19   \n",
       "\n",
       "       stratificationcategoryid1 stratificationid1  \n",
       "count                         19                19  \n",
       "unique                         1                 1  \n",
       "top                          OVR           OVERALL  \n",
       "freq                          19                19  "
      ]
     },
     "execution_count": 272,
     "metadata": {},
     "output_type": "execute_result"
    }
   ],
   "source": [
    "# Filter rows where 'data_value' is null\n",
    "null_data_value_df = df[df['data_value'].isna()]\n",
    "\n",
    "null_data_value_df.describe(include = ['object'])"
   ]
  },
  {
   "cell_type": "markdown",
   "id": "1ad5abec-d546-4c93-b7f7-e067a75dfb6d",
   "metadata": {},
   "source": [
    "There seems to be a footnote added to each of these rows where data_value is null that indicates why the entry is null. No action is needed for these entries at this time. \n"
   ]
  },
  {
   "cell_type": "code",
   "execution_count": 275,
   "id": "cb333a28-a23b-40d6-b273-b2b6e2549179",
   "metadata": {},
   "outputs": [
    {
     "data": {
      "text/plain": [
       "array(['Indicates States that did not receive WIC FMNP grants in FY2012',\n",
       "       'Data not available because sample size is insufficient.'],\n",
       "      dtype=object)"
      ]
     },
     "execution_count": 275,
     "metadata": {},
     "output_type": "execute_result"
    }
   ],
   "source": [
    "null_data_value_df['data_value_footnote'].unique()"
   ]
  },
  {
   "cell_type": "code",
   "execution_count": 279,
   "id": "738acfbc-9371-4eb2-89f6-377d56bc0e69",
   "metadata": {},
   "outputs": [
    {
     "data": {
      "text/html": [
       "<div>\n",
       "<style scoped>\n",
       "    .dataframe tbody tr th:only-of-type {\n",
       "        vertical-align: middle;\n",
       "    }\n",
       "\n",
       "    .dataframe tbody tr th {\n",
       "        vertical-align: top;\n",
       "    }\n",
       "\n",
       "    .dataframe thead th {\n",
       "        text-align: right;\n",
       "    }\n",
       "</style>\n",
       "<table border=\"1\" class=\"dataframe\">\n",
       "  <thead>\n",
       "    <tr style=\"text-align: right;\">\n",
       "      <th></th>\n",
       "      <th>locationabbr</th>\n",
       "      <th>locationdesc</th>\n",
       "      <th>datasource</th>\n",
       "      <th>class</th>\n",
       "      <th>topic</th>\n",
       "      <th>question</th>\n",
       "      <th>data_value_type</th>\n",
       "      <th>data_value</th>\n",
       "      <th>data_value_footnote_symbol</th>\n",
       "      <th>data_value_footnote</th>\n",
       "      <th>total</th>\n",
       "      <th>geolocation</th>\n",
       "      <th>classid</th>\n",
       "      <th>topicid</th>\n",
       "      <th>questionid</th>\n",
       "      <th>datavaluetypeid</th>\n",
       "      <th>stratificationcategory1</th>\n",
       "      <th>stratification1</th>\n",
       "      <th>stratificationcategoryid1</th>\n",
       "      <th>stratificationid1</th>\n",
       "    </tr>\n",
       "  </thead>\n",
       "  <tbody>\n",
       "    <tr>\n",
       "      <th>count</th>\n",
       "      <td>105</td>\n",
       "      <td>105</td>\n",
       "      <td>105</td>\n",
       "      <td>105</td>\n",
       "      <td>105</td>\n",
       "      <td>105</td>\n",
       "      <td>105</td>\n",
       "      <td>105</td>\n",
       "      <td>0</td>\n",
       "      <td>0</td>\n",
       "      <td>105</td>\n",
       "      <td>0</td>\n",
       "      <td>105</td>\n",
       "      <td>105</td>\n",
       "      <td>105</td>\n",
       "      <td>105</td>\n",
       "      <td>105</td>\n",
       "      <td>105</td>\n",
       "      <td>105</td>\n",
       "      <td>105</td>\n",
       "    </tr>\n",
       "    <tr>\n",
       "      <th>unique</th>\n",
       "      <td>1</td>\n",
       "      <td>1</td>\n",
       "      <td>7</td>\n",
       "      <td>5</td>\n",
       "      <td>5</td>\n",
       "      <td>18</td>\n",
       "      <td>1</td>\n",
       "      <td>44</td>\n",
       "      <td>0</td>\n",
       "      <td>0</td>\n",
       "      <td>1</td>\n",
       "      <td>0</td>\n",
       "      <td>5</td>\n",
       "      <td>5</td>\n",
       "      <td>18</td>\n",
       "      <td>1</td>\n",
       "      <td>1</td>\n",
       "      <td>1</td>\n",
       "      <td>1</td>\n",
       "      <td>1</td>\n",
       "    </tr>\n",
       "    <tr>\n",
       "      <th>top</th>\n",
       "      <td>US</td>\n",
       "      <td>National</td>\n",
       "      <td>ECE Surveillance Sources</td>\n",
       "      <td>Fruits and Vegetables</td>\n",
       "      <td>Fruits and Vegetables - Environmental or Polic...</td>\n",
       "      <td>Percent of live births occurring at facilities...</td>\n",
       "      <td>Value</td>\n",
       "      <td>0</td>\n",
       "      <td>NaN</td>\n",
       "      <td>NaN</td>\n",
       "      <td>Total</td>\n",
       "      <td>NaN</td>\n",
       "      <td>FV</td>\n",
       "      <td>FV2</td>\n",
       "      <td>Q016</td>\n",
       "      <td>VALUE</td>\n",
       "      <td>Total</td>\n",
       "      <td>Total</td>\n",
       "      <td>OVR</td>\n",
       "      <td>OVERALL</td>\n",
       "    </tr>\n",
       "    <tr>\n",
       "      <th>freq</th>\n",
       "      <td>105</td>\n",
       "      <td>105</td>\n",
       "      <td>66</td>\n",
       "      <td>33</td>\n",
       "      <td>33</td>\n",
       "      <td>15</td>\n",
       "      <td>105</td>\n",
       "      <td>30</td>\n",
       "      <td>NaN</td>\n",
       "      <td>NaN</td>\n",
       "      <td>105</td>\n",
       "      <td>NaN</td>\n",
       "      <td>33</td>\n",
       "      <td>33</td>\n",
       "      <td>15</td>\n",
       "      <td>105</td>\n",
       "      <td>105</td>\n",
       "      <td>105</td>\n",
       "      <td>105</td>\n",
       "      <td>105</td>\n",
       "    </tr>\n",
       "  </tbody>\n",
       "</table>\n",
       "</div>"
      ],
      "text/plain": [
       "       locationabbr locationdesc                datasource  \\\n",
       "count           105          105                       105   \n",
       "unique            1            1                         7   \n",
       "top              US     National  ECE Surveillance Sources   \n",
       "freq            105          105                        66   \n",
       "\n",
       "                        class  \\\n",
       "count                     105   \n",
       "unique                      5   \n",
       "top     Fruits and Vegetables   \n",
       "freq                       33   \n",
       "\n",
       "                                                    topic  \\\n",
       "count                                                 105   \n",
       "unique                                                  5   \n",
       "top     Fruits and Vegetables - Environmental or Polic...   \n",
       "freq                                                   33   \n",
       "\n",
       "                                                 question data_value_type  \\\n",
       "count                                                 105             105   \n",
       "unique                                                 18               1   \n",
       "top     Percent of live births occurring at facilities...           Value   \n",
       "freq                                                   15             105   \n",
       "\n",
       "       data_value data_value_footnote_symbol data_value_footnote  total  \\\n",
       "count         105                          0                   0    105   \n",
       "unique         44                          0                   0      1   \n",
       "top             0                        NaN                 NaN  Total   \n",
       "freq           30                        NaN                 NaN    105   \n",
       "\n",
       "       geolocation classid topicid questionid datavaluetypeid  \\\n",
       "count            0     105     105        105             105   \n",
       "unique           0       5       5         18               1   \n",
       "top            NaN      FV     FV2       Q016           VALUE   \n",
       "freq           NaN      33      33         15             105   \n",
       "\n",
       "       stratificationcategory1 stratification1 stratificationcategoryid1  \\\n",
       "count                      105             105                       105   \n",
       "unique                       1               1                         1   \n",
       "top                      Total           Total                       OVR   \n",
       "freq                       105             105                       105   \n",
       "\n",
       "       stratificationid1  \n",
       "count                105  \n",
       "unique                 1  \n",
       "top              OVERALL  \n",
       "freq                 105  "
      ]
     },
     "execution_count": 279,
     "metadata": {},
     "output_type": "execute_result"
    }
   ],
   "source": [
    "null_geolocation_df = df[df['geolocation'].isna()]\n",
    "null_geolocation_df.describe(include = ['object'])"
   ]
  },
  {
   "cell_type": "markdown",
   "id": "7787398f-1c01-437d-afe5-667927235a49",
   "metadata": {},
   "source": [
    "It seems in the lines where geolocation is null all other areas appear normal. So in this case we will leave these in. No changes needed. "
   ]
  },
  {
   "cell_type": "code",
   "execution_count": 284,
   "id": "ea083254-a65e-4ebe-b136-b18961266f7b",
   "metadata": {},
   "outputs": [],
   "source": [
    "df.to_csv('Nutrition__Physical_Activity_Cleaned.csv', index=False)\n"
   ]
  },
  {
   "cell_type": "code",
   "execution_count": null,
   "id": "c8dd64aa-42a0-49f5-adc5-2fac9e4d105e",
   "metadata": {},
   "outputs": [],
   "source": []
  },
  {
   "cell_type": "code",
   "execution_count": null,
   "id": "cb7524c2-a52f-481d-943c-0bb4a418b5de",
   "metadata": {},
   "outputs": [],
   "source": []
  }
 ],
 "metadata": {
  "kernelspec": {
   "display_name": "Python [conda env:base] *",
   "language": "python",
   "name": "conda-base-py"
  },
  "language_info": {
   "codemirror_mode": {
    "name": "ipython",
    "version": 3
   },
   "file_extension": ".py",
   "mimetype": "text/x-python",
   "name": "python",
   "nbconvert_exporter": "python",
   "pygments_lexer": "ipython3",
   "version": "3.12.7"
  }
 },
 "nbformat": 4,
 "nbformat_minor": 5
}
