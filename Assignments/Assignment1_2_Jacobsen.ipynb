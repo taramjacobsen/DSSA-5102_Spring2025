{
 "cells": [
  {
   "cell_type": "markdown",
   "id": "c825ca7c",
   "metadata": {},
   "source": [
    "# Assignment #1 - Data Gathering and Warehousing - DSSA-5102"
   ]
  },
  {
   "cell_type": "markdown",
   "id": "3e792669",
   "metadata": {},
   "source": [
    "Instructor: Melissa Laurino<br>\n",
    "Spring 2025"
   ]
  },
  {
   "cell_type": "markdown",
   "id": "db9fe204",
   "metadata": {},
   "source": [
    "Name: Tara Jacobsen\n",
    "<br>\n",
    "Date: 12 Feb 2025"
   ]
  },
  {
   "cell_type": "markdown",
   "id": "292e9143",
   "metadata": {},
   "source": [
    "<b>Data. Is. Everywhere.</b> <br>\n",
    "Our first objective is to locate and explore <b>TWO</b> datasets about something you are passionate about, or related to a field you would like to work in. Our semester plan is <i>try</i> to work with the same dataset through out the semester. You can find and explore as many datasets as you wish, but Assignment #2 will focus on the one you like the best.\n",
    "There are many great websites that offer public datasets avaialable to download. Examples include but are not limited to:\n",
    "<br>\n",
    "Data.gov - https://data.gov/ - has many government owened public datasets.<br>\n",
    "World Bank Data - https://data.worldbank.org/ - has world economic, social, and environmental data.<br>\n",
    "Google Dataset Search - https://datasetsearch.research.google.com/ - many of these available datasets link to published studies available on Google Scholar in many fields.<br>\n",
    "Kaggle Datasets - https://www.kaggle.com/datasets - a platform for sharing datasets. Anyone can upload to this website.<br>\n",
    "U.S. Census Bureau - https://www.census.gov/ - data on people, places and econoy for the United States.\n",
    "GitHub - https://github.com/ - hosts datasets and completed projects.<br>\n",
    "Federal Reserve Economic Data (FRED) - https://fred.stlouisfed.org/ - Financial and economic data.<br>\n",
    "CDC - https://data.cdc.gov/ - Explore the various data collected by the CDC.<br>\n",
    "NOAA - https://www.ncei.noaa.gov/cdo-web/ - NOAA climate and ocean data. <br>\n",
    "<br>\n",
    "In addition to these resources, occasionally local organizations may be able to provide you with data, or maybe even your own company! Your data source can come from a personal connection, but please be mindful of any data agreements or approvals you may need. If you need approval to use data from your place of employment, please specify that with the instructor so we can ensure no violations to your data agreement will be made this semester.\n",
    "<br>\n",
    "<br>\n",
    "Resources for learning Python:\n",
    "- Data camp - https://www.datacamp.com/category/python - Contact Professor Baldwin for access.<br>\n",
    "- Data Science from Scratch: First Principles with Python - Check Blackboard <br>\n",
    "- Python for Data Analysis Data Wrangling with pandas, NumPy & Jupyter - Check Blackboard"
   ]
  },
  {
   "cell_type": "markdown",
   "id": "712dad64-6ed8-4680-90b7-4e47833e6887",
   "metadata": {},
   "source": [
    "For Assignment #1, our objective is to locate and explore two different datasets using Python. We will choose one of these datasets to clean to prepare for our future database. For each dataset include: <br>\n",
    "- The dataset name, company/organization resonsible for data collection, the download link, and date of access. <br>\n",
    "- Load neccessary packages <br>\n",
    "- Obtain the general info for your data such as size, number of rows/columns, column names, describing the data etc. <br>\n",
    "- What are the unique columns or variables present in your dataset? <br>\n",
    "- Create one quick plot to visualize your data. It is okay if it is messy since your data has not been cleaned yet, but still make sure you are practicing good graphins with a title, axis labels, and anything else needed for your graph.  <br>\n",
    "\n",
    "Comment ALL code to recieve full credit. The above bullet points are to help guide you in your process, but extensive exploration is expected for each data set. <br>\n",
    "<br>\n",
    "Explore various markdown font settings: https://ingeh.medium.com/markdown-for-jupyter-notebooks-cheatsheet-386c05aeebed"
   ]
  },
  {
   "cell_type": "markdown",
   "id": "6c5eadb4",
   "metadata": {},
   "source": [
    "## Dataset #1"
   ]
  },
  {
   "cell_type": "markdown",
   "id": "0bf03c2c",
   "metadata": {},
   "source": [
    "<b>Dataset name:</b> Confirmed Exoplanets 2024<br>\n",
    "<b>Company/Government Organization:</b> NASA, compiled by Kaggle User JamesKYChoi <br>\n",
    "Download link: https://www.kaggle.com/datasets/jameskychoi/confirmed-exoplanet-latest-update-dataset?select=confirmed_exoplanents_2024_December.csv  <br>\n",
    "Date of Access: 1/30/2025"
   ]
  },
  {
   "cell_type": "markdown",
   "id": "55a352bf",
   "metadata": {},
   "source": [
    "Popular packages to load in working with Python: <br>\n",
    "pandas: https://pandas.pydata.org/about/index.html <br>\n",
    "numpy: https://numpy.org/learn/ <br>\n",
    "matplotlib: https://matplotlib.org/stable/api/pyplot_summary.html"
   ]
  },
  {
   "cell_type": "code",
   "execution_count": 1,
   "id": "f274f2ae",
   "metadata": {
    "scrolled": true,
    "tags": []
   },
   "outputs": [],
   "source": [
    "# My examples are below, but edit as needed to fit your dataset:\n",
    "import pandas as pd # Reads, writes, shapes, manipulates data\n",
    "import numpy as np # Basic stats and numerical operations\n",
    "import matplotlib.pyplot as plt # Creating basic graphs"
   ]
  },
  {
   "cell_type": "markdown",
   "id": "79c86913",
   "metadata": {},
   "source": [
    "Importing a library as an abbreviation is beneficial to shorten your code and make it more concise. <br>\n",
    "For example, when referencing your data frame without the abbreviation you would write: pandas.DataFrame <br>\n",
    "With an abbreviation, you can just write: pd.DataFrame"
   ]
  },
  {
   "cell_type": "markdown",
   "id": "de7e9968-efb1-482d-b7f7-c309228fbbde",
   "metadata": {},
   "source": [
    "Load your chosen dataset into the notebook below:"
   ]
  },
  {
   "cell_type": "code",
   "execution_count": 2,
   "id": "8dbcdffd",
   "metadata": {},
   "outputs": [],
   "source": [
    "# Be sure to document each line of code like the above example.\n",
    "# Documenting each line of code is helpful when revisiting assignments later in the semester."
   ]
  },
  {
   "cell_type": "code",
   "execution_count": 3,
   "id": "2fc0d288",
   "metadata": {
    "tags": []
   },
   "outputs": [],
   "source": [
    "# Load the locally stored CSV file as a dataframe\n",
    "df = pd.read_csv(\"exoplanets.csv\")"
   ]
  },
  {
   "cell_type": "markdown",
   "id": "2d345116-947c-4fa3-ac6f-435a8ea06fcb",
   "metadata": {},
   "source": [
    "We can run df.info() to see how large the dataframe is:"
   ]
  },
  {
   "cell_type": "code",
   "execution_count": 4,
   "id": "bfe1d023-2f96-48af-945a-95ce54d937e5",
   "metadata": {
    "tags": []
   },
   "outputs": [
    {
     "name": "stdout",
     "output_type": "stream",
     "text": [
      "<class 'pandas.core.frame.DataFrame'>\n",
      "RangeIndex: 5788 entries, 0 to 5787\n",
      "Columns: 210 entries, planet_name to h_magnitude_2mass_lower_unc\n",
      "dtypes: float64(173), int64(17), object(20)\n",
      "memory usage: 9.3+ MB\n"
     ]
    }
   ],
   "source": [
    "df.info() # How many rows and columns, as well as datatypes"
   ]
  },
  {
   "cell_type": "markdown",
   "id": "7959c595-f3be-4277-8b84-e0aaa92bfd53",
   "metadata": {},
   "source": [
    "I have 210 columns in my dataset. \n",
    "I have 5788 rows in my dataset."
   ]
  },
  {
   "cell_type": "code",
   "execution_count": 5,
   "id": "1ed08a0e",
   "metadata": {
    "tags": []
   },
   "outputs": [
    {
     "data": {
      "text/html": [
       "<div>\n",
       "<style scoped>\n",
       "    .dataframe tbody tr th:only-of-type {\n",
       "        vertical-align: middle;\n",
       "    }\n",
       "\n",
       "    .dataframe tbody tr th {\n",
       "        vertical-align: top;\n",
       "    }\n",
       "\n",
       "    .dataframe thead th {\n",
       "        text-align: right;\n",
       "    }\n",
       "</style>\n",
       "<table border=\"1\" class=\"dataframe\">\n",
       "  <thead>\n",
       "    <tr style=\"text-align: right;\">\n",
       "      <th></th>\n",
       "      <th>planet_name</th>\n",
       "      <th>host_star_name</th>\n",
       "      <th>planet_letter</th>\n",
       "      <th>hd_id</th>\n",
       "      <th>hip_id</th>\n",
       "      <th>tic_id</th>\n",
       "      <th>gaia_id</th>\n",
       "      <th>num_stars_in_system</th>\n",
       "      <th>num_planets_in_system</th>\n",
       "      <th>num_moons_in_system</th>\n",
       "      <th>...</th>\n",
       "      <th>b_magnitude_johnson_lower_unc</th>\n",
       "      <th>v_magnitude_johnson</th>\n",
       "      <th>v_magnitude_johnson_upper_unc</th>\n",
       "      <th>v_magnitude_johnson_lower_unc</th>\n",
       "      <th>j_magnitude_2mass</th>\n",
       "      <th>j_magnitude_2mass_upper_unc</th>\n",
       "      <th>j_magnitude_2mass_lower_unc</th>\n",
       "      <th>h_magnitude_2mass</th>\n",
       "      <th>h_magnitude_2mass_upper_unc</th>\n",
       "      <th>h_magnitude_2mass_lower_unc</th>\n",
       "    </tr>\n",
       "  </thead>\n",
       "  <tbody>\n",
       "    <tr>\n",
       "      <th>0</th>\n",
       "      <td>Wolf 1061 c</td>\n",
       "      <td>Wolf 1061</td>\n",
       "      <td>c</td>\n",
       "      <td>NaN</td>\n",
       "      <td>HIP 80824</td>\n",
       "      <td>TIC 413948621</td>\n",
       "      <td>Gaia DR2 4330690742322011520</td>\n",
       "      <td>1</td>\n",
       "      <td>3</td>\n",
       "      <td>0</td>\n",
       "      <td>...</td>\n",
       "      <td>-0.157</td>\n",
       "      <td>10.100</td>\n",
       "      <td>0.100</td>\n",
       "      <td>-0.100</td>\n",
       "      <td>5.950</td>\n",
       "      <td>0.024</td>\n",
       "      <td>-0.024</td>\n",
       "      <td>5.373</td>\n",
       "      <td>0.040</td>\n",
       "      <td>-0.040</td>\n",
       "    </tr>\n",
       "    <tr>\n",
       "      <th>1</th>\n",
       "      <td>Wolf 1061 d</td>\n",
       "      <td>Wolf 1061</td>\n",
       "      <td>d</td>\n",
       "      <td>NaN</td>\n",
       "      <td>HIP 80824</td>\n",
       "      <td>TIC 413948621</td>\n",
       "      <td>Gaia DR2 4330690742322011520</td>\n",
       "      <td>1</td>\n",
       "      <td>3</td>\n",
       "      <td>0</td>\n",
       "      <td>...</td>\n",
       "      <td>-0.157</td>\n",
       "      <td>10.100</td>\n",
       "      <td>0.100</td>\n",
       "      <td>-0.100</td>\n",
       "      <td>5.950</td>\n",
       "      <td>0.024</td>\n",
       "      <td>-0.024</td>\n",
       "      <td>5.373</td>\n",
       "      <td>0.040</td>\n",
       "      <td>-0.040</td>\n",
       "    </tr>\n",
       "    <tr>\n",
       "      <th>2</th>\n",
       "      <td>Wolf 1069 b</td>\n",
       "      <td>Wolf 1069</td>\n",
       "      <td>b</td>\n",
       "      <td>NaN</td>\n",
       "      <td>NaN</td>\n",
       "      <td>TIC 352617553</td>\n",
       "      <td>Gaia DR2 2188318517720321664</td>\n",
       "      <td>1</td>\n",
       "      <td>1</td>\n",
       "      <td>0</td>\n",
       "      <td>...</td>\n",
       "      <td>-0.099</td>\n",
       "      <td>13.993</td>\n",
       "      <td>0.049</td>\n",
       "      <td>-0.049</td>\n",
       "      <td>9.029</td>\n",
       "      <td>0.039</td>\n",
       "      <td>-0.039</td>\n",
       "      <td>8.483</td>\n",
       "      <td>0.073</td>\n",
       "      <td>-0.073</td>\n",
       "    </tr>\n",
       "    <tr>\n",
       "      <th>3</th>\n",
       "      <td>Wolf 327 b</td>\n",
       "      <td>Wolf 327</td>\n",
       "      <td>b</td>\n",
       "      <td>NaN</td>\n",
       "      <td>NaN</td>\n",
       "      <td>TIC 4918918</td>\n",
       "      <td>Gaia DR2 796185407950360192</td>\n",
       "      <td>1</td>\n",
       "      <td>1</td>\n",
       "      <td>0</td>\n",
       "      <td>...</td>\n",
       "      <td>-0.070</td>\n",
       "      <td>13.018</td>\n",
       "      <td>0.062</td>\n",
       "      <td>-0.062</td>\n",
       "      <td>9.308</td>\n",
       "      <td>0.022</td>\n",
       "      <td>-0.022</td>\n",
       "      <td>8.682</td>\n",
       "      <td>0.021</td>\n",
       "      <td>-0.021</td>\n",
       "    </tr>\n",
       "    <tr>\n",
       "      <th>4</th>\n",
       "      <td>Wolf 503 b</td>\n",
       "      <td>Wolf 503</td>\n",
       "      <td>b</td>\n",
       "      <td>NaN</td>\n",
       "      <td>HIP 67285</td>\n",
       "      <td>TIC 187278212</td>\n",
       "      <td>Gaia DR2 3620325206217720320</td>\n",
       "      <td>1</td>\n",
       "      <td>1</td>\n",
       "      <td>0</td>\n",
       "      <td>...</td>\n",
       "      <td>-0.037</td>\n",
       "      <td>10.270</td>\n",
       "      <td>0.030</td>\n",
       "      <td>-0.030</td>\n",
       "      <td>8.324</td>\n",
       "      <td>0.019</td>\n",
       "      <td>-0.019</td>\n",
       "      <td>7.774</td>\n",
       "      <td>0.051</td>\n",
       "      <td>-0.051</td>\n",
       "    </tr>\n",
       "  </tbody>\n",
       "</table>\n",
       "<p>5 rows × 210 columns</p>\n",
       "</div>"
      ],
      "text/plain": [
       "   planet_name host_star_name planet_letter hd_id     hip_id         tic_id  \\\n",
       "0  Wolf 1061 c      Wolf 1061             c   NaN  HIP 80824  TIC 413948621   \n",
       "1  Wolf 1061 d      Wolf 1061             d   NaN  HIP 80824  TIC 413948621   \n",
       "2  Wolf 1069 b      Wolf 1069             b   NaN        NaN  TIC 352617553   \n",
       "3   Wolf 327 b       Wolf 327             b   NaN        NaN    TIC 4918918   \n",
       "4   Wolf 503 b       Wolf 503             b   NaN  HIP 67285  TIC 187278212   \n",
       "\n",
       "                        gaia_id  num_stars_in_system  num_planets_in_system  \\\n",
       "0  Gaia DR2 4330690742322011520                    1                      3   \n",
       "1  Gaia DR2 4330690742322011520                    1                      3   \n",
       "2  Gaia DR2 2188318517720321664                    1                      1   \n",
       "3   Gaia DR2 796185407950360192                    1                      1   \n",
       "4  Gaia DR2 3620325206217720320                    1                      1   \n",
       "\n",
       "   num_moons_in_system  ...  b_magnitude_johnson_lower_unc  \\\n",
       "0                    0  ...                         -0.157   \n",
       "1                    0  ...                         -0.157   \n",
       "2                    0  ...                         -0.099   \n",
       "3                    0  ...                         -0.070   \n",
       "4                    0  ...                         -0.037   \n",
       "\n",
       "  v_magnitude_johnson  v_magnitude_johnson_upper_unc  \\\n",
       "0              10.100                          0.100   \n",
       "1              10.100                          0.100   \n",
       "2              13.993                          0.049   \n",
       "3              13.018                          0.062   \n",
       "4              10.270                          0.030   \n",
       "\n",
       "  v_magnitude_johnson_lower_unc j_magnitude_2mass j_magnitude_2mass_upper_unc  \\\n",
       "0                        -0.100             5.950                       0.024   \n",
       "1                        -0.100             5.950                       0.024   \n",
       "2                        -0.049             9.029                       0.039   \n",
       "3                        -0.062             9.308                       0.022   \n",
       "4                        -0.030             8.324                       0.019   \n",
       "\n",
       "  j_magnitude_2mass_lower_unc h_magnitude_2mass  h_magnitude_2mass_upper_unc  \\\n",
       "0                      -0.024             5.373                        0.040   \n",
       "1                      -0.024             5.373                        0.040   \n",
       "2                      -0.039             8.483                        0.073   \n",
       "3                      -0.022             8.682                        0.021   \n",
       "4                      -0.019             7.774                        0.051   \n",
       "\n",
       "   h_magnitude_2mass_lower_unc  \n",
       "0                       -0.040  \n",
       "1                       -0.040  \n",
       "2                       -0.073  \n",
       "3                       -0.021  \n",
       "4                       -0.051  \n",
       "\n",
       "[5 rows x 210 columns]"
      ]
     },
     "execution_count": 5,
     "metadata": {},
     "output_type": "execute_result"
    }
   ],
   "source": [
    "df.head() # Column names and first 5 rows of df"
   ]
  },
  {
   "cell_type": "code",
   "execution_count": 6,
   "id": "0124b1b5-b9ce-41eb-8833-9c109f3c7b2d",
   "metadata": {
    "tags": []
   },
   "outputs": [
    {
     "name": "stdout",
     "output_type": "stream",
     "text": [
      "Index(['planet_name', 'host_star_name', 'planet_letter', 'hd_id', 'hip_id',\n",
      "       'tic_id', 'gaia_id', 'num_stars_in_system', 'num_planets_in_system',\n",
      "       'num_moons_in_system',\n",
      "       ...\n",
      "       'b_magnitude_johnson_lower_unc', 'v_magnitude_johnson',\n",
      "       'v_magnitude_johnson_upper_unc', 'v_magnitude_johnson_lower_unc',\n",
      "       'j_magnitude_2mass', 'j_magnitude_2mass_upper_unc',\n",
      "       'j_magnitude_2mass_lower_unc', 'h_magnitude_2mass',\n",
      "       'h_magnitude_2mass_upper_unc', 'h_magnitude_2mass_lower_unc'],\n",
      "      dtype='object', length=210)\n"
     ]
    }
   ],
   "source": [
    "unique_columns = pd.Index(df.columns).unique()\n",
    "print(unique_columns)"
   ]
  },
  {
   "cell_type": "code",
   "execution_count": 7,
   "id": "987f5f28-923c-4687-96d8-27867ea6a27b",
   "metadata": {
    "tags": []
   },
   "outputs": [
    {
     "name": "stdout",
     "output_type": "stream",
     "text": [
      "210\n"
     ]
    }
   ],
   "source": [
    "length_cols = len(unique_columns)\n",
    "print(length_cols)"
   ]
  },
  {
   "cell_type": "code",
   "execution_count": 8,
   "id": "49dd7a12-f482-497d-9d1a-703932ec7730",
   "metadata": {
    "tags": []
   },
   "outputs": [
    {
     "name": "stdout",
     "output_type": "stream",
     "text": [
      "5788\n"
     ]
    }
   ],
   "source": [
    "length_rows = len(df)\n",
    "print(length_rows)"
   ]
  },
  {
   "cell_type": "markdown",
   "id": "741d90c8",
   "metadata": {},
   "source": [
    "What are the unique columns or variables present in your dataset? How many rows are there?\n",
    "\n",
    "<b>A:</b> There are 210 unique columns in this data set. Part of the reason for that is the upper and lower uncertainties for each value are their own columns as well. For this reason, most numerical \"values\", as we would traditionally think of them, have 2 \"extra\" columns of data associated with them.\n",
    "There are 5788 rows in this dataset. "
   ]
  },
  {
   "cell_type": "markdown",
   "id": "e24b6448-b634-4b7a-9c69-f9a9353cb354",
   "metadata": {},
   "source": [
    "Use print(\" \") statements in python to print text or variables in the output. <br>\n",
    "Use \\n in the print statement to skip a line. Without skipping a line, everything prints close together."
   ]
  },
  {
   "cell_type": "code",
   "execution_count": 9,
   "id": "26525152-01c2-43ce-8b4d-1720a337892f",
   "metadata": {},
   "outputs": [
    {
     "data": {
      "text/html": [
       "<div>\n",
       "<style scoped>\n",
       "    .dataframe tbody tr th:only-of-type {\n",
       "        vertical-align: middle;\n",
       "    }\n",
       "\n",
       "    .dataframe tbody tr th {\n",
       "        vertical-align: top;\n",
       "    }\n",
       "\n",
       "    .dataframe thead th {\n",
       "        text-align: right;\n",
       "    }\n",
       "</style>\n",
       "<table border=\"1\" class=\"dataframe\">\n",
       "  <thead>\n",
       "    <tr style=\"text-align: right;\">\n",
       "      <th></th>\n",
       "      <th>num_stars_in_system</th>\n",
       "      <th>num_planets_in_system</th>\n",
       "      <th>num_moons_in_system</th>\n",
       "      <th>is_circumbinary</th>\n",
       "      <th>discovery_year</th>\n",
       "      <th>detected_by_radial_velocity</th>\n",
       "      <th>detected_by_pulsar_timing</th>\n",
       "      <th>detected_by_pulsation_timing_variations</th>\n",
       "      <th>detected_by_transit</th>\n",
       "      <th>detected_by_astrometry</th>\n",
       "      <th>...</th>\n",
       "      <th>b_magnitude_johnson_lower_unc</th>\n",
       "      <th>v_magnitude_johnson</th>\n",
       "      <th>v_magnitude_johnson_upper_unc</th>\n",
       "      <th>v_magnitude_johnson_lower_unc</th>\n",
       "      <th>j_magnitude_2mass</th>\n",
       "      <th>j_magnitude_2mass_upper_unc</th>\n",
       "      <th>j_magnitude_2mass_lower_unc</th>\n",
       "      <th>h_magnitude_2mass</th>\n",
       "      <th>h_magnitude_2mass_upper_unc</th>\n",
       "      <th>h_magnitude_2mass_lower_unc</th>\n",
       "    </tr>\n",
       "  </thead>\n",
       "  <tbody>\n",
       "    <tr>\n",
       "      <th>count</th>\n",
       "      <td>5788.000000</td>\n",
       "      <td>5788.000000</td>\n",
       "      <td>5788.0</td>\n",
       "      <td>5788.000000</td>\n",
       "      <td>5788.000000</td>\n",
       "      <td>5788.000000</td>\n",
       "      <td>5788.000000</td>\n",
       "      <td>5788.000000</td>\n",
       "      <td>5788.000000</td>\n",
       "      <td>5788.000000</td>\n",
       "      <td>...</td>\n",
       "      <td>5388.000000</td>\n",
       "      <td>5544.000000</td>\n",
       "      <td>5536.000000</td>\n",
       "      <td>5530.000000</td>\n",
       "      <td>5532.000000</td>\n",
       "      <td>5514.000000</td>\n",
       "      <td>5514.000000</td>\n",
       "      <td>5547.000000</td>\n",
       "      <td>5525.000000</td>\n",
       "      <td>5525.000000</td>\n",
       "    </tr>\n",
       "    <tr>\n",
       "      <th>mean</th>\n",
       "      <td>1.104008</td>\n",
       "      <td>1.765722</td>\n",
       "      <td>0.0</td>\n",
       "      <td>0.008293</td>\n",
       "      <td>2016.458017</td>\n",
       "      <td>0.376123</td>\n",
       "      <td>0.001382</td>\n",
       "      <td>0.000346</td>\n",
       "      <td>0.752764</td>\n",
       "      <td>0.019178</td>\n",
       "      <td>...</td>\n",
       "      <td>-0.078070</td>\n",
       "      <td>12.607434</td>\n",
       "      <td>0.100602</td>\n",
       "      <td>-0.102199</td>\n",
       "      <td>10.950607</td>\n",
       "      <td>0.036345</td>\n",
       "      <td>-0.035689</td>\n",
       "      <td>10.577460</td>\n",
       "      <td>0.038611</td>\n",
       "      <td>-0.038561</td>\n",
       "    </tr>\n",
       "    <tr>\n",
       "      <th>std</th>\n",
       "      <td>0.345148</td>\n",
       "      <td>1.149775</td>\n",
       "      <td>0.0</td>\n",
       "      <td>0.090695</td>\n",
       "      <td>4.673194</td>\n",
       "      <td>0.484453</td>\n",
       "      <td>0.037155</td>\n",
       "      <td>0.018587</td>\n",
       "      <td>0.431442</td>\n",
       "      <td>0.137161</td>\n",
       "      <td>...</td>\n",
       "      <td>0.094064</td>\n",
       "      <td>3.084929</td>\n",
       "      <td>0.138465</td>\n",
       "      <td>0.206681</td>\n",
       "      <td>2.961821</td>\n",
       "      <td>0.151536</td>\n",
       "      <td>0.132275</td>\n",
       "      <td>3.008339</td>\n",
       "      <td>0.123288</td>\n",
       "      <td>0.129790</td>\n",
       "    </tr>\n",
       "    <tr>\n",
       "      <th>min</th>\n",
       "      <td>1.000000</td>\n",
       "      <td>1.000000</td>\n",
       "      <td>0.0</td>\n",
       "      <td>0.000000</td>\n",
       "      <td>1992.000000</td>\n",
       "      <td>0.000000</td>\n",
       "      <td>0.000000</td>\n",
       "      <td>0.000000</td>\n",
       "      <td>0.000000</td>\n",
       "      <td>0.000000</td>\n",
       "      <td>...</td>\n",
       "      <td>-1.054000</td>\n",
       "      <td>0.872000</td>\n",
       "      <td>0.001000</td>\n",
       "      <td>-11.920000</td>\n",
       "      <td>-2.095000</td>\n",
       "      <td>0.017000</td>\n",
       "      <td>-8.888000</td>\n",
       "      <td>-2.775000</td>\n",
       "      <td>0.014000</td>\n",
       "      <td>-8.100000</td>\n",
       "    </tr>\n",
       "    <tr>\n",
       "      <th>25%</th>\n",
       "      <td>1.000000</td>\n",
       "      <td>1.000000</td>\n",
       "      <td>0.0</td>\n",
       "      <td>0.000000</td>\n",
       "      <td>2014.000000</td>\n",
       "      <td>0.000000</td>\n",
       "      <td>0.000000</td>\n",
       "      <td>0.000000</td>\n",
       "      <td>1.000000</td>\n",
       "      <td>0.000000</td>\n",
       "      <td>...</td>\n",
       "      <td>-0.078000</td>\n",
       "      <td>10.769000</td>\n",
       "      <td>0.030000</td>\n",
       "      <td>-0.126000</td>\n",
       "      <td>9.029750</td>\n",
       "      <td>0.022000</td>\n",
       "      <td>-0.027000</td>\n",
       "      <td>8.619500</td>\n",
       "      <td>0.022000</td>\n",
       "      <td>-0.033000</td>\n",
       "    </tr>\n",
       "    <tr>\n",
       "      <th>50%</th>\n",
       "      <td>1.000000</td>\n",
       "      <td>1.000000</td>\n",
       "      <td>0.0</td>\n",
       "      <td>0.000000</td>\n",
       "      <td>2016.000000</td>\n",
       "      <td>0.000000</td>\n",
       "      <td>0.000000</td>\n",
       "      <td>0.000000</td>\n",
       "      <td>1.000000</td>\n",
       "      <td>0.000000</td>\n",
       "      <td>...</td>\n",
       "      <td>-0.049000</td>\n",
       "      <td>13.401500</td>\n",
       "      <td>0.080000</td>\n",
       "      <td>-0.080000</td>\n",
       "      <td>11.786500</td>\n",
       "      <td>0.024000</td>\n",
       "      <td>-0.024000</td>\n",
       "      <td>11.423000</td>\n",
       "      <td>0.026000</td>\n",
       "      <td>-0.026000</td>\n",
       "    </tr>\n",
       "    <tr>\n",
       "      <th>75%</th>\n",
       "      <td>1.000000</td>\n",
       "      <td>2.000000</td>\n",
       "      <td>0.0</td>\n",
       "      <td>0.000000</td>\n",
       "      <td>2020.000000</td>\n",
       "      <td>1.000000</td>\n",
       "      <td>0.000000</td>\n",
       "      <td>0.000000</td>\n",
       "      <td>1.000000</td>\n",
       "      <td>0.000000</td>\n",
       "      <td>...</td>\n",
       "      <td>-0.024000</td>\n",
       "      <td>14.985250</td>\n",
       "      <td>0.126000</td>\n",
       "      <td>-0.030000</td>\n",
       "      <td>13.335250</td>\n",
       "      <td>0.027000</td>\n",
       "      <td>-0.022000</td>\n",
       "      <td>12.906500</td>\n",
       "      <td>0.033000</td>\n",
       "      <td>-0.022000</td>\n",
       "    </tr>\n",
       "    <tr>\n",
       "      <th>max</th>\n",
       "      <td>4.000000</td>\n",
       "      <td>8.000000</td>\n",
       "      <td>0.0</td>\n",
       "      <td>1.000000</td>\n",
       "      <td>2024.000000</td>\n",
       "      <td>1.000000</td>\n",
       "      <td>1.000000</td>\n",
       "      <td>1.000000</td>\n",
       "      <td>1.000000</td>\n",
       "      <td>1.000000</td>\n",
       "      <td>...</td>\n",
       "      <td>0.000000</td>\n",
       "      <td>44.610000</td>\n",
       "      <td>3.100000</td>\n",
       "      <td>-0.001000</td>\n",
       "      <td>25.340000</td>\n",
       "      <td>8.888000</td>\n",
       "      <td>-0.017000</td>\n",
       "      <td>32.340000</td>\n",
       "      <td>6.790000</td>\n",
       "      <td>-0.014000</td>\n",
       "    </tr>\n",
       "  </tbody>\n",
       "</table>\n",
       "<p>8 rows × 190 columns</p>\n",
       "</div>"
      ],
      "text/plain": [
       "       num_stars_in_system  num_planets_in_system  num_moons_in_system  \\\n",
       "count          5788.000000            5788.000000               5788.0   \n",
       "mean              1.104008               1.765722                  0.0   \n",
       "std               0.345148               1.149775                  0.0   \n",
       "min               1.000000               1.000000                  0.0   \n",
       "25%               1.000000               1.000000                  0.0   \n",
       "50%               1.000000               1.000000                  0.0   \n",
       "75%               1.000000               2.000000                  0.0   \n",
       "max               4.000000               8.000000                  0.0   \n",
       "\n",
       "       is_circumbinary  discovery_year  detected_by_radial_velocity  \\\n",
       "count      5788.000000     5788.000000                  5788.000000   \n",
       "mean          0.008293     2016.458017                     0.376123   \n",
       "std           0.090695        4.673194                     0.484453   \n",
       "min           0.000000     1992.000000                     0.000000   \n",
       "25%           0.000000     2014.000000                     0.000000   \n",
       "50%           0.000000     2016.000000                     0.000000   \n",
       "75%           0.000000     2020.000000                     1.000000   \n",
       "max           1.000000     2024.000000                     1.000000   \n",
       "\n",
       "       detected_by_pulsar_timing  detected_by_pulsation_timing_variations  \\\n",
       "count                5788.000000                              5788.000000   \n",
       "mean                    0.001382                                 0.000346   \n",
       "std                     0.037155                                 0.018587   \n",
       "min                     0.000000                                 0.000000   \n",
       "25%                     0.000000                                 0.000000   \n",
       "50%                     0.000000                                 0.000000   \n",
       "75%                     0.000000                                 0.000000   \n",
       "max                     1.000000                                 1.000000   \n",
       "\n",
       "       detected_by_transit  detected_by_astrometry  ...  \\\n",
       "count          5788.000000             5788.000000  ...   \n",
       "mean              0.752764                0.019178  ...   \n",
       "std               0.431442                0.137161  ...   \n",
       "min               0.000000                0.000000  ...   \n",
       "25%               1.000000                0.000000  ...   \n",
       "50%               1.000000                0.000000  ...   \n",
       "75%               1.000000                0.000000  ...   \n",
       "max               1.000000                1.000000  ...   \n",
       "\n",
       "       b_magnitude_johnson_lower_unc  v_magnitude_johnson  \\\n",
       "count                    5388.000000          5544.000000   \n",
       "mean                       -0.078070            12.607434   \n",
       "std                         0.094064             3.084929   \n",
       "min                        -1.054000             0.872000   \n",
       "25%                        -0.078000            10.769000   \n",
       "50%                        -0.049000            13.401500   \n",
       "75%                        -0.024000            14.985250   \n",
       "max                         0.000000            44.610000   \n",
       "\n",
       "       v_magnitude_johnson_upper_unc  v_magnitude_johnson_lower_unc  \\\n",
       "count                    5536.000000                    5530.000000   \n",
       "mean                        0.100602                      -0.102199   \n",
       "std                         0.138465                       0.206681   \n",
       "min                         0.001000                     -11.920000   \n",
       "25%                         0.030000                      -0.126000   \n",
       "50%                         0.080000                      -0.080000   \n",
       "75%                         0.126000                      -0.030000   \n",
       "max                         3.100000                      -0.001000   \n",
       "\n",
       "       j_magnitude_2mass  j_magnitude_2mass_upper_unc  \\\n",
       "count        5532.000000                  5514.000000   \n",
       "mean           10.950607                     0.036345   \n",
       "std             2.961821                     0.151536   \n",
       "min            -2.095000                     0.017000   \n",
       "25%             9.029750                     0.022000   \n",
       "50%            11.786500                     0.024000   \n",
       "75%            13.335250                     0.027000   \n",
       "max            25.340000                     8.888000   \n",
       "\n",
       "       j_magnitude_2mass_lower_unc  h_magnitude_2mass  \\\n",
       "count                  5514.000000        5547.000000   \n",
       "mean                     -0.035689          10.577460   \n",
       "std                       0.132275           3.008339   \n",
       "min                      -8.888000          -2.775000   \n",
       "25%                      -0.027000           8.619500   \n",
       "50%                      -0.024000          11.423000   \n",
       "75%                      -0.022000          12.906500   \n",
       "max                      -0.017000          32.340000   \n",
       "\n",
       "       h_magnitude_2mass_upper_unc  h_magnitude_2mass_lower_unc  \n",
       "count                  5525.000000                  5525.000000  \n",
       "mean                      0.038611                    -0.038561  \n",
       "std                       0.123288                     0.129790  \n",
       "min                       0.014000                    -8.100000  \n",
       "25%                       0.022000                    -0.033000  \n",
       "50%                       0.026000                    -0.026000  \n",
       "75%                       0.033000                    -0.022000  \n",
       "max                       6.790000                    -0.014000  \n",
       "\n",
       "[8 rows x 190 columns]"
      ]
     },
     "execution_count": 9,
     "metadata": {},
     "output_type": "execute_result"
    }
   ],
   "source": [
    "# Describe the numerical columns\n",
    "\n",
    "df.describe()\n",
    "\n",
    "# The first thing stands out to me is that there is at least one system with four stars?! I will be sure to investigate that\n",
    "# further if I continue with this dataset. "
   ]
  },
  {
   "cell_type": "code",
   "execution_count": 10,
   "id": "65652edf",
   "metadata": {},
   "outputs": [
    {
     "name": "stdout",
     "output_type": "stream",
     "text": [
      "planet_name                     object\n",
      "host_star_name                  object\n",
      "planet_letter                   object\n",
      "hd_id                           object\n",
      "hip_id                          object\n",
      "                                ...   \n",
      "j_magnitude_2mass_upper_unc    float64\n",
      "j_magnitude_2mass_lower_unc    float64\n",
      "h_magnitude_2mass              float64\n",
      "h_magnitude_2mass_upper_unc    float64\n",
      "h_magnitude_2mass_lower_unc    float64\n",
      "Length: 210, dtype: object\n"
     ]
    }
   ],
   "source": [
    "# Look more closely at the data types\n",
    "print(df.dtypes) # dtypes gives the type of data in each column"
   ]
  },
  {
   "cell_type": "code",
   "execution_count": 11,
   "id": "e554c1a0-9002-4b0a-98fd-02e52156ca38",
   "metadata": {},
   "outputs": [
    {
     "name": "stdout",
     "output_type": "stream",
     "text": [
      "KOI-351       8\n",
      "TRAPPIST-1    7\n",
      "TOI-178       6\n",
      "Kepler-11     6\n",
      "HD 110067     6\n",
      "             ..\n",
      "GJ 514        1\n",
      "GJ 536        1\n",
      "GJ 625        1\n",
      "GJ 649        1\n",
      "K2-383        1\n",
      "Name: host_star_name, Length: 4326, dtype: int64\n",
      "\n",
      "Therefore, there are 4326 unique star systems being explored in this data.\n"
     ]
    }
   ],
   "source": [
    "# Explore the values of a category column:\n",
    "host_counts = df['host_star_name'].value_counts() # Exploring the column host_star_name and printing and counting unique values\n",
    "print(host_counts)\n",
    "\n",
    "print(\"\\nTherefore, there are 4326 unique star systems being explored in this data.\")"
   ]
  },
  {
   "cell_type": "markdown",
   "id": "b913643b",
   "metadata": {},
   "source": [
    "Create one graph to quickly visualize your data using matplotlib. <br>\n",
    "Matplotlib color guide: https://i.sstatic.net/lFZum.png <br><br>\n",
    "It's okay if it is not visualy appealing or contains outliers, because we have not cleaned our data yet! Did you get any errors? If so, what were they? Would the errors have been avoided if you had cleaned the data first?<br>\n",
    "\n",
    "<b>A:</b> I did not get any errors in exploring with visualizing, although I do not think I found any worthwhile trends yet. "
   ]
  },
  {
   "cell_type": "code",
   "execution_count": 12,
   "id": "f944fe78-56d8-43af-9677-819b6ead3c10",
   "metadata": {
    "tags": []
   },
   "outputs": [
    {
     "data": {
      "image/png": "[encoded data removed]",
      "text/plain": [
       "<Figure size 640x480 with 1 Axes>"
      ]
     },
     "metadata": {},
     "output_type": "display_data"
    }
   ],
   "source": [
    "# Eccentricity is a messure of how squashed an object's orbital path is. Its influenced by gravitational\n",
    "# forces (aka nearby masses), so I want to see if the mass of the star it is orbiting affects this in any \n",
    "# sort of pattern. The lower the eccentricity, the more circular the orbit. Earth's eccentricity is 0.0167\n",
    "# and is almost circular. :)\n",
    "\n",
    "plt.style.use('dark_background') # Dark background so it looks like ~space~\n",
    "plt.scatter(df['stellar_mass_solar_mass'], df['eccentricity'], marker = \".\", color = 'gold') # Create a scatterplot\n",
    "plt.xlabel('Stellar Mass') # Label\n",
    "plt.ylabel('Eccentricity') # Label\n",
    "plt.title('Stellar Mass and Eccentricity') # Title\n",
    "plt.show() # Display plot cleanly"
   ]
  },
  {
   "cell_type": "code",
   "execution_count": 13,
   "id": "0b7c5040-0da2-4c7a-8877-faec68d16c5a",
   "metadata": {
    "tags": []
   },
   "outputs": [
    {
     "data": {
      "image/png": "[encoded data removed]",
      "text/plain": [
       "<Figure size 640x480 with 1 Axes>"
      ]
     },
     "metadata": {},
     "output_type": "display_data"
    }
   ],
   "source": [
    "# Further exploration of the columns revealed a surface gravity (measured in log10(cm/s^2)). This means the gravitational\n",
    "# acceleration, commonly denoted as 'g', is changing by tenfold the original g.\n",
    "\n",
    "plt.style.use('dark_background') # Dark background so it looks like ~space~\n",
    "plt.scatter(df['stellar_surface_gravity_log10_cms2'], df['eccentricity'], marker = \".\", color = 'white') # Plot scatter\n",
    "plt.xlabel('Stellar Surface Gravity (log10)') # Label\n",
    "plt.ylabel('Eccentricity') # Label\n",
    "plt.title('Stellar Surface Gravity and Eccentricity') # label\n",
    "plt.show() # Display plot\n",
    "\n",
    "# I am seeing no correlation here! I also think my plot colors go against everything I learned in data viz..\n"
   ]
  },
  {
   "cell_type": "markdown",
   "id": "251688bc-3597-4eec-b1e1-c1e24e090b93",
   "metadata": {},
   "source": [
    "## Dataset #2"
   ]
  },
  {
   "cell_type": "markdown",
   "id": "17ba6fbf-6c3e-469e-bf3a-49fb9d16fc84",
   "metadata": {},
   "source": [
    "<b>Dataset name: </b> Data on Exonerees<br>\n",
    "<b>Company/Government Organization:</b> National Registry of Exonerations<br>\n",
    "Download link: https://www.law.umich.edu/special/exoneration/Pages/AgreementThankYou.aspx <br>\n",
    "Date of Access: 2/5/2025"
   ]
  },
  {
   "cell_type": "code",
   "execution_count": 14,
   "id": "b4f74168-7ca6-4c93-8f2b-2b6892c7a8cb",
   "metadata": {},
   "outputs": [],
   "source": [
    "df2 = pd.read_excel('exons.xlsx') # Read in the file"
   ]
  },
  {
   "cell_type": "code",
   "execution_count": 15,
   "id": "4efa3d9f-e6ae-4c62-8517-1ef603939315",
   "metadata": {},
   "outputs": [
    {
     "data": {
      "text/html": [
       "<div>\n",
       "<style scoped>\n",
       "    .dataframe tbody tr th:only-of-type {\n",
       "        vertical-align: middle;\n",
       "    }\n",
       "\n",
       "    .dataframe tbody tr th {\n",
       "        vertical-align: top;\n",
       "    }\n",
       "\n",
       "    .dataframe thead th {\n",
       "        text-align: right;\n",
       "    }\n",
       "</style>\n",
       "<table border=\"1\" class=\"dataframe\">\n",
       "  <thead>\n",
       "    <tr style=\"text-align: right;\">\n",
       "      <th></th>\n",
       "      <th>Last Name</th>\n",
       "      <th>First Name</th>\n",
       "      <th>Age</th>\n",
       "      <th>Race</th>\n",
       "      <th>Sex</th>\n",
       "      <th>State</th>\n",
       "      <th>County</th>\n",
       "      <th>Tags</th>\n",
       "      <th>Worst Crime Display</th>\n",
       "      <th>Sentence</th>\n",
       "      <th>...</th>\n",
       "      <th>Exonerated</th>\n",
       "      <th>Posting Date</th>\n",
       "      <th>OM Tags</th>\n",
       "      <th>F/MFE</th>\n",
       "      <th>FC</th>\n",
       "      <th>ILD</th>\n",
       "      <th>P/FA</th>\n",
       "      <th>DNA</th>\n",
       "      <th>MWID</th>\n",
       "      <th>OM</th>\n",
       "    </tr>\n",
       "  </thead>\n",
       "  <tbody>\n",
       "    <tr>\n",
       "      <th>0</th>\n",
       "      <td>Abbitt</td>\n",
       "      <td>Joseph</td>\n",
       "      <td>31.0</td>\n",
       "      <td>Black</td>\n",
       "      <td>Male</td>\n",
       "      <td>North Carolina</td>\n",
       "      <td>Forsyth</td>\n",
       "      <td>CV;#IO;#SA</td>\n",
       "      <td>Child Sex Abuse</td>\n",
       "      <td>Life</td>\n",
       "      <td>...</td>\n",
       "      <td>2009</td>\n",
       "      <td>2011-09-01</td>\n",
       "      <td>NaN</td>\n",
       "      <td>NaN</td>\n",
       "      <td>NaN</td>\n",
       "      <td>NaN</td>\n",
       "      <td>NaN</td>\n",
       "      <td>DNA</td>\n",
       "      <td>MWID</td>\n",
       "      <td>NaN</td>\n",
       "    </tr>\n",
       "    <tr>\n",
       "      <th>1</th>\n",
       "      <td>Abbott</td>\n",
       "      <td>Cinque</td>\n",
       "      <td>19.0</td>\n",
       "      <td>Black</td>\n",
       "      <td>Male</td>\n",
       "      <td>Illinois</td>\n",
       "      <td>Cook</td>\n",
       "      <td>CIU;#IO;#NC;#P</td>\n",
       "      <td>Drug Possession or Sale</td>\n",
       "      <td>Probation</td>\n",
       "      <td>...</td>\n",
       "      <td>2022</td>\n",
       "      <td>2022-02-14</td>\n",
       "      <td>OF;#WH;#NW</td>\n",
       "      <td>NaN</td>\n",
       "      <td>NaN</td>\n",
       "      <td>NaN</td>\n",
       "      <td>P/FA</td>\n",
       "      <td>NaN</td>\n",
       "      <td>NaN</td>\n",
       "      <td>OM</td>\n",
       "    </tr>\n",
       "    <tr>\n",
       "      <th>2</th>\n",
       "      <td>Abdal</td>\n",
       "      <td>Warith Habib</td>\n",
       "      <td>43.0</td>\n",
       "      <td>Black</td>\n",
       "      <td>Male</td>\n",
       "      <td>New York</td>\n",
       "      <td>Erie</td>\n",
       "      <td>IO;#SA</td>\n",
       "      <td>Sexual Assault</td>\n",
       "      <td>20 to Life</td>\n",
       "      <td>...</td>\n",
       "      <td>1999</td>\n",
       "      <td>2011-08-29</td>\n",
       "      <td>OF;#WH;#NW;#WT</td>\n",
       "      <td>F/MFE</td>\n",
       "      <td>NaN</td>\n",
       "      <td>NaN</td>\n",
       "      <td>NaN</td>\n",
       "      <td>DNA</td>\n",
       "      <td>MWID</td>\n",
       "      <td>OM</td>\n",
       "    </tr>\n",
       "    <tr>\n",
       "      <th>3</th>\n",
       "      <td>Abernathy</td>\n",
       "      <td>Christopher</td>\n",
       "      <td>17.0</td>\n",
       "      <td>White</td>\n",
       "      <td>Male</td>\n",
       "      <td>Illinois</td>\n",
       "      <td>Cook</td>\n",
       "      <td>CIU;#CV;#H;#IO;#JV;#SA</td>\n",
       "      <td>Murder</td>\n",
       "      <td>Life without parole</td>\n",
       "      <td>...</td>\n",
       "      <td>2015</td>\n",
       "      <td>2015-02-13</td>\n",
       "      <td>OF;#WH;#NW;#INT</td>\n",
       "      <td>NaN</td>\n",
       "      <td>FC</td>\n",
       "      <td>NaN</td>\n",
       "      <td>P/FA</td>\n",
       "      <td>DNA</td>\n",
       "      <td>NaN</td>\n",
       "      <td>OM</td>\n",
       "    </tr>\n",
       "    <tr>\n",
       "      <th>4</th>\n",
       "      <td>Abney</td>\n",
       "      <td>Quentin</td>\n",
       "      <td>32.0</td>\n",
       "      <td>Black</td>\n",
       "      <td>Male</td>\n",
       "      <td>New York</td>\n",
       "      <td>New York</td>\n",
       "      <td>CV</td>\n",
       "      <td>Robbery</td>\n",
       "      <td>20 to Life</td>\n",
       "      <td>...</td>\n",
       "      <td>2012</td>\n",
       "      <td>2019-05-13</td>\n",
       "      <td>NaN</td>\n",
       "      <td>NaN</td>\n",
       "      <td>NaN</td>\n",
       "      <td>NaN</td>\n",
       "      <td>NaN</td>\n",
       "      <td>NaN</td>\n",
       "      <td>MWID</td>\n",
       "      <td>NaN</td>\n",
       "    </tr>\n",
       "  </tbody>\n",
       "</table>\n",
       "<p>5 rows × 21 columns</p>\n",
       "</div>"
      ],
      "text/plain": [
       "   Last Name    First Name   Age   Race   Sex           State    County  \\\n",
       "0     Abbitt        Joseph  31.0  Black  Male  North Carolina   Forsyth   \n",
       "1     Abbott        Cinque  19.0  Black  Male        Illinois      Cook   \n",
       "2      Abdal  Warith Habib  43.0  Black  Male        New York      Erie   \n",
       "3  Abernathy   Christopher  17.0  White  Male        Illinois      Cook   \n",
       "4      Abney       Quentin  32.0  Black  Male        New York  New York   \n",
       "\n",
       "                     Tags      Worst Crime Display             Sentence  ...  \\\n",
       "0              CV;#IO;#SA          Child Sex Abuse                 Life  ...   \n",
       "1          CIU;#IO;#NC;#P  Drug Possession or Sale            Probation  ...   \n",
       "2                  IO;#SA           Sexual Assault           20 to Life  ...   \n",
       "3  CIU;#CV;#H;#IO;#JV;#SA                   Murder  Life without parole  ...   \n",
       "4                      CV                  Robbery           20 to Life  ...   \n",
       "\n",
       "   Exonerated  Posting Date          OM Tags  F/MFE   FC  ILD  P/FA  DNA  \\\n",
       "0        2009    2011-09-01              NaN    NaN  NaN  NaN   NaN  DNA   \n",
       "1        2022    2022-02-14       OF;#WH;#NW    NaN  NaN  NaN  P/FA  NaN   \n",
       "2        1999    2011-08-29   OF;#WH;#NW;#WT  F/MFE  NaN  NaN   NaN  DNA   \n",
       "3        2015    2015-02-13  OF;#WH;#NW;#INT    NaN   FC  NaN  P/FA  DNA   \n",
       "4        2012    2019-05-13              NaN    NaN  NaN  NaN   NaN  NaN   \n",
       "\n",
       "   MWID   OM  \n",
       "0  MWID  NaN  \n",
       "1   NaN   OM  \n",
       "2  MWID   OM  \n",
       "3   NaN   OM  \n",
       "4  MWID  NaN  \n",
       "\n",
       "[5 rows x 21 columns]"
      ]
     },
     "execution_count": 15,
     "metadata": {},
     "output_type": "execute_result"
    }
   ],
   "source": [
    "df2.head() # First 5 rows (incl header)"
   ]
  },
  {
   "cell_type": "code",
   "execution_count": 16,
   "id": "4ddf3b8b-b39a-4785-952b-f271b226c8c3",
   "metadata": {},
   "outputs": [
    {
     "name": "stdout",
     "output_type": "stream",
     "text": [
      "Index(['Last Name', 'First Name', 'Age', 'Race', 'Sex', 'State', 'County',\n",
      "       'Tags', 'Worst Crime Display', 'Sentence', 'Convicted', 'Exonerated',\n",
      "       'Posting Date', 'OM Tags', 'F/MFE', 'FC', 'ILD', 'P/FA', 'DNA', 'MWID',\n",
      "       'OM'],\n",
      "      dtype='object')\n"
     ]
    }
   ],
   "source": [
    "unique_columns2 = pd.Index(df2.columns).unique() # Unique column titles\n",
    "print(unique_columns2) # Print the results"
   ]
  },
  {
   "cell_type": "code",
   "execution_count": 17,
   "id": "3fbfba8d-8065-4def-978d-0d5cf33b825f",
   "metadata": {},
   "outputs": [
    {
     "name": "stdout",
     "output_type": "stream",
     "text": [
      "21\n"
     ]
    }
   ],
   "source": [
    "length_cols2 = len(unique_columns2) # Find the length of the unique_cols var (which is how many cols we have, assuming they are\n",
    "# all unique\n",
    "print(length_cols2) #Print the results"
   ]
  },
  {
   "cell_type": "code",
   "execution_count": 18,
   "id": "50932d62-30f3-4ed6-9d80-af56240bec7a",
   "metadata": {},
   "outputs": [
    {
     "name": "stdout",
     "output_type": "stream",
     "text": [
      "3615\n"
     ]
    }
   ],
   "source": [
    "length_rows2 = len(df2) # Find the lenght of the df which is the number of rows\n",
    "print(length_rows2) #Print the results"
   ]
  },
  {
   "cell_type": "code",
   "execution_count": 19,
   "id": "8a4d3430-3001-4a06-a7e6-2a9728fa0b0d",
   "metadata": {},
   "outputs": [
    {
     "data": {
      "text/html": [
       "<div>\n",
       "<style scoped>\n",
       "    .dataframe tbody tr th:only-of-type {\n",
       "        vertical-align: middle;\n",
       "    }\n",
       "\n",
       "    .dataframe tbody tr th {\n",
       "        vertical-align: top;\n",
       "    }\n",
       "\n",
       "    .dataframe thead th {\n",
       "        text-align: right;\n",
       "    }\n",
       "</style>\n",
       "<table border=\"1\" class=\"dataframe\">\n",
       "  <thead>\n",
       "    <tr style=\"text-align: right;\">\n",
       "      <th></th>\n",
       "      <th>Age</th>\n",
       "      <th>Convicted</th>\n",
       "      <th>Exonerated</th>\n",
       "    </tr>\n",
       "  </thead>\n",
       "  <tbody>\n",
       "    <tr>\n",
       "      <th>count</th>\n",
       "      <td>3588.000000</td>\n",
       "      <td>3615.000000</td>\n",
       "      <td>3615.000000</td>\n",
       "    </tr>\n",
       "    <tr>\n",
       "      <th>mean</th>\n",
       "      <td>28.374861</td>\n",
       "      <td>1999.154357</td>\n",
       "      <td>2011.482711</td>\n",
       "    </tr>\n",
       "    <tr>\n",
       "      <th>std</th>\n",
       "      <td>10.263286</td>\n",
       "      <td>11.184718</td>\n",
       "      <td>9.304072</td>\n",
       "    </tr>\n",
       "    <tr>\n",
       "      <th>min</th>\n",
       "      <td>11.000000</td>\n",
       "      <td>1956.000000</td>\n",
       "      <td>1989.000000</td>\n",
       "    </tr>\n",
       "    <tr>\n",
       "      <th>25%</th>\n",
       "      <td>20.000000</td>\n",
       "      <td>1991.000000</td>\n",
       "      <td>2004.000000</td>\n",
       "    </tr>\n",
       "    <tr>\n",
       "      <th>50%</th>\n",
       "      <td>26.000000</td>\n",
       "      <td>1999.000000</td>\n",
       "      <td>2014.000000</td>\n",
       "    </tr>\n",
       "    <tr>\n",
       "      <th>75%</th>\n",
       "      <td>34.000000</td>\n",
       "      <td>2008.000000</td>\n",
       "      <td>2019.000000</td>\n",
       "    </tr>\n",
       "    <tr>\n",
       "      <th>max</th>\n",
       "      <td>83.000000</td>\n",
       "      <td>2023.000000</td>\n",
       "      <td>2024.000000</td>\n",
       "    </tr>\n",
       "  </tbody>\n",
       "</table>\n",
       "</div>"
      ],
      "text/plain": [
       "               Age    Convicted   Exonerated\n",
       "count  3588.000000  3615.000000  3615.000000\n",
       "mean     28.374861  1999.154357  2011.482711\n",
       "std      10.263286    11.184718     9.304072\n",
       "min      11.000000  1956.000000  1989.000000\n",
       "25%      20.000000  1991.000000  2004.000000\n",
       "50%      26.000000  1999.000000  2014.000000\n",
       "75%      34.000000  2008.000000  2019.000000\n",
       "max      83.000000  2023.000000  2024.000000"
      ]
     },
     "execution_count": 19,
     "metadata": {},
     "output_type": "execute_result"
    }
   ],
   "source": [
    "# Describe our numerical cols\n",
    "df2.describe()\n",
    "# Exonerations are from 1989 to present. Convictions are from 1956 to last year (usually exonerations take time to process)\n",
    "# The average age being below 30 years is heartbreaking. Many relatively young people have been wrongfully convicted. \n",
    "# Standout value is the 11 year age as the minimum age during conviction. 83 is less surprising because it isn't the age when\n",
    "# they committed the crime, but the age they were convicted by the courts. "
   ]
  },
  {
   "cell_type": "code",
   "execution_count": 20,
   "id": "9ce986ef-0427-41d8-8e7f-edccc11fef22",
   "metadata": {},
   "outputs": [
    {
     "name": "stdout",
     "output_type": "stream",
     "text": [
      "Life                       506\n",
      "Life without parole        299\n",
      "Probation                  203\n",
      "Death                      142\n",
      "Not sentenced              135\n",
      "                          ... \n",
      "19 years and 6 months        1\n",
      "3 years and four months      1\n",
      "22 to 56 years               1\n",
      "32 to 43 years               1\n",
      "38 months                    1\n",
      "Name: Sentence, Length: 500, dtype: int64\n"
     ]
    }
   ],
   "source": [
    "# Explore the values of a category column:\n",
    "sentence_counts = df2['Sentence'].value_counts() # Exploring the column host_star_name and printing and counting unique values\n",
    "print(sentence_counts)\n",
    "\n",
    "# A good portion of sentences are life sentences at 506 + 299 = 805. There are also other sentences that are essentially a life\n",
    "# sentence (100 years, for example). 142 death sentences is actually lower than I expected. "
   ]
  },
  {
   "cell_type": "code",
   "execution_count": 21,
   "id": "fd7f937a-70fc-4b92-9a2a-2402a09b9d24",
   "metadata": {},
   "outputs": [],
   "source": [
    "counts = df2['Convicted'].value_counts().sort_index() # Pull Convicted column, which is the year of the conviction.\n",
    "# value_counts() counts the unique values, sort_index() sorts them by index, which in this case is the year "
   ]
  },
  {
   "cell_type": "code",
   "execution_count": 22,
   "id": "4fce6b1d-9b2a-4f48-84b6-8ee79d89f94e",
   "metadata": {},
   "outputs": [
    {
     "data": {
      "image/png": "[encoded data removed]",
      "text/plain": [
       "<Figure size 640x480 with 1 Axes>"
      ]
     },
     "metadata": {},
     "output_type": "display_data"
    }
   ],
   "source": [
    "plt.plot(counts.index, counts.values, color='darkorange') # plot the index (aka years) by the values (aka counts)\n",
    "plt.xlabel('Year of Conviction') # Label x axis\n",
    "plt.ylabel('Case Count') # Label y axis\n",
    "plt.title('Wrongful Convictions Over Time') # Title\n",
    "plt.show() # Display plot"
   ]
  },
  {
   "cell_type": "markdown",
   "id": "34a3ca65-2098-48c5-ad26-0a7d087a35a4",
   "metadata": {},
   "source": [
    "It makes sense that the convictions are slow to come in the 60s and 70s. That does not mean there were necessarily less wrongful convictions, but rather that cases from that long ago are less likely to be appealed and the conviction exonerated. Exonerations themselves began in full force with DNA (around the 90's), so it makes sense that cases in the 80's and onwards are looked at. It also makes sense that recent years have less conviction dates, as they have not had the chance to be re-evaluated yet. "
   ]
  },
  {
   "cell_type": "markdown",
   "id": "8ce67fcf",
   "metadata": {},
   "source": [
    "# Assignment #2 - Data Gathering and Warehousing - DSSA-5102\n",
    "\n",
    "Instructor: Melissa Laurino</br>\n",
    "Spring 2025</br>\n",
    "\n",
    "Our next objective is to choose <b>ONE</b> of the datasets from our previous assignment to explore further. The datasets we have chose for Assignment #1 can be cleaned by practicing our Python skills. Depending on your data, and especially the size of it, it may be more beneficial to clean in a language you are comfortable working in already instead of cleaning our data with a new language like SQL. SQL may be needed for cleaning of databases that are very large or hundreds of terabytes in size. We will clean our datasets first before we attempt to load them into our SQL databases. </br>\n",
    "Not only is data everywhere, but it can also be messy. Messy data can originate in the data collection process, whether this is occurring with manual data entry and typos, or with outdated collection forms that hold multiple variables that mean the same thing. For example, while collecting data on marine mammals, it is important to note who the observer is. With Python and R, reading excel or csv files, these languages will take the same variable written as, \"Melissa Laurino\" and \"melissa laurino\" as two separate observers because they are case sensitive. However, this is not accurate because they are meant to be the same person within the observer column or category.</br>\n",
    "Clean data is important for consistency that leads to accurate results and analysis. If we are using our data to make informed decisions in our field, we need it to be clean. We do not want to omit rows that may make a difference to our dataset because they do not fit a certain criteria due to typos, but how much should the original dataset be altered? Depending on your field, there may be regulations and compliance standards regarding data quality. Protocols may state if the data does not read exactly how it should be, then it should be ommitted. </br>\n",
    "For our learning objectives in this class, we will clean our data. Our first assignment in our warehousing journey was important because it allowed us to gain a better understanding of a dataset that we personally did not collect. Now that we have that understanding, we can explore it in greater depth and clean it as necessary.<br>\n",
    "<br>\n",
    "For Assignment #2, our objective is to clean one of the datasets explored above using Python to prepare for our future database from scratch. Include at a minimum:\n",
    "\n",
    "- The chosen dataset name, company/organization resonsible for data collection, the download link, and date of access.\n",
    "- Load neccessary packages and data (Only if you start a new session in Jupyter, not if you are continuing from above).\n",
    "- Make all column names lower case, contain no spaces, and no special characters (SQL will not like this otherwise).\n",
    "- *Make detailed comments with your code* <br>\n",
    "- *Record EVERYTHING ommitted and changed if necessary* <br>\n",
    "- Since we are exploring and learning without a specific organization policy, use your best judgement when ommitting records. If you have chosen to ommit data, please explain why.</br>\n",
    "- Save your new CLEAN data as a .csv file. \n",
    "\n",
    "\n",
    "Comment ALL code to recieve full credit. The above bullet points are to help guide you in your process, but extensive cleaning is expected for your data set (This will also save you a lot of time down the line!). \n",
    "<br>\n",
    "\n",
    "<br>\n",
    "<b>The code that I have written below is just to give you ideas on exploring and cleaning data. It is encouraged that you explore and clean it in greater detail than what I have written below for full credit.</b><br>"
   ]
  },
  {
   "cell_type": "markdown",
   "id": "b07cb638-34d9-4342-92bb-f405ae1789cd",
   "metadata": {},
   "source": [
    "<b>Dataset name:</b> Confirmed Exoplanets 2024<br>\n",
    "<b>Company/Government Organization:</b> NASA, compiled by Kaggle User JamesKYChoi <br>\n",
    "<b>Download link:</b> https://www.kaggle.com/datasets/jameskychoi/confirmed-exoplanet-latest-update-dataset?select=confirmed_exoplanents_2024_December.csv  <br>\n",
    "<b>Date of Access:</b> 1/30/2025"
   ]
  },
  {
   "cell_type": "markdown",
   "id": "a707f9e0-68fe-4304-8bbe-a13921b7bf78",
   "metadata": {},
   "source": [
    "Why did you choose to continue working with this dataset? <br>\n",
    "<b>A:</b>I have already worked previously with the Exoneree data and cleaned it in R and would like to try something new. The explanet data is also very big and will be fun to attempt to clean. \n",
    "<br>"
   ]
  },
  {
   "cell_type": "markdown",
   "id": "671734a8-46a4-4d71-81e7-ce3c62f716b4",
   "metadata": {},
   "source": [
    "Make all column names lowercase, with no spaces or special characters:"
   ]
  },
  {
   "cell_type": "code",
   "execution_count": 23,
   "id": "79bf2359",
   "metadata": {
    "scrolled": true
   },
   "outputs": [],
   "source": [
    "# Working in previous file, so no need to reimport libraries. File is already read in as variable df\n",
    "df = pd.read_csv(\"exoplanets.csv\")\n",
    "# Make column names lowercase. This df already have all lowercase columns, but in case I missed one. \n",
    "df.columns = df.columns.str.lower() \n",
    "\n",
    "#Replace any spaces in column names with underscores\n",
    "df.columns = df.columns.str.replace(' ', '_') "
   ]
  },
  {
   "cell_type": "code",
   "execution_count": 24,
   "id": "e6ab7e05",
   "metadata": {},
   "outputs": [
    {
     "data": {
      "text/plain": [
       "0"
      ]
     },
     "execution_count": 24,
     "metadata": {},
     "output_type": "execute_result"
    }
   ],
   "source": [
    "# Check for duplicates \n",
    "df.duplicated().sum()\n",
    "\n",
    "# There are none"
   ]
  },
  {
   "cell_type": "code",
   "execution_count": 25,
   "id": "96de4afc",
   "metadata": {},
   "outputs": [],
   "source": [
    "# Change any columns with dates to datetime \n",
    "# df['discovery_publication_date'] = pd.to_datetime(df['discovery_publication_date'])\n",
    "# ERROR: Some months are 00, which is not allowed. That must be changed first. \n",
    "\n",
    "df['discovery_publication_date'] = df['discovery_publication_date'].str.replace(r'-00', '-01', regex=True) # Change the 00 months\n",
    "# to January. I am not sure what else to do besides changing it to Jan or Dec. \n",
    "\n",
    "\n",
    "df['discovery_publication_date'] = pd.to_datetime(df['discovery_publication_date']) # Change dates to datetimes"
   ]
  },
  {
   "cell_type": "code",
   "execution_count": 26,
   "id": "eb86068e",
   "metadata": {},
   "outputs": [
    {
     "data": {
      "text/plain": [
       "5788"
      ]
     },
     "execution_count": 26,
     "metadata": {},
     "output_type": "execute_result"
    }
   ],
   "source": [
    "na_count = df['angular_separation_lower_unc_mas'].isna().sum() # Count NAs in this uncertainty column\n",
    "na_count # 5788, so that is all the rows. We can remove this column"
   ]
  },
  {
   "cell_type": "code",
   "execution_count": 27,
   "id": "57e6e8b1",
   "metadata": {},
   "outputs": [],
   "source": [
    "del df['angular_separation_lower_unc_mas']"
   ]
  },
  {
   "cell_type": "code",
   "execution_count": 28,
   "id": "cb333a28-a23b-40d6-b273-b2b6e2549179",
   "metadata": {},
   "outputs": [
    {
     "data": {
      "text/plain": [
       "5788"
      ]
     },
     "execution_count": 28,
     "metadata": {},
     "output_type": "execute_result"
    }
   ],
   "source": [
    "na_count = df['angular_separation_upper_unc_mas'].isna().sum() # Count NAs in this uncertainty column\n",
    "na_count # 5788, that is all the rows. We can remove this column"
   ]
  },
  {
   "cell_type": "code",
   "execution_count": 29,
   "id": "738acfbc-9371-4eb2-89f6-377d56bc0e69",
   "metadata": {},
   "outputs": [],
   "source": [
    "del df['angular_separation_upper_unc_mas']"
   ]
  },
  {
   "cell_type": "code",
   "execution_count": 30,
   "id": "f1fb688b-a75b-4c29-a085-21b2507e10d1",
   "metadata": {},
   "outputs": [
    {
     "data": {
      "text/plain": [
       "occultation_depth_lower_unc_percent    5757\n",
       "occultation_depth_upper_unc_percent    5757\n",
       "occultation_depth_limit_flag           5755\n",
       "occultation_depth_percent              5755\n",
       "true_obliquity_lower_unc_deg           5752\n",
       "                                       ... \n",
       "dec_deg                                   0\n",
       "galactic_latitude_deg                     0\n",
       "galactic_longitude_deg                    0\n",
       "ecliptic_latitude_deg                     0\n",
       "planet_name                               0\n",
       "Length: 208, dtype: int64"
      ]
     },
     "execution_count": 30,
     "metadata": {},
     "output_type": "execute_result"
    }
   ],
   "source": [
    "na_count = df.isna().sum() # Sum the NA values in each column\n",
    "\n",
    "na_count.sort_values(ascending=False) # Order these NA values from greatest to least. This will help me further check if\n",
    "# there are any other columns which I may want to delete. There are 5788 rows. "
   ]
  },
  {
   "cell_type": "code",
   "execution_count": 31,
   "id": "ea083254-a65e-4ebe-b136-b18961266f7b",
   "metadata": {},
   "outputs": [],
   "source": [
    "# There is mostly no data for occulation-related values. I am going to make the decision to remove them. \n",
    "# Occulation depth only has 33 values of our 5788 rows. "
   ]
  },
  {
   "cell_type": "code",
   "execution_count": 32,
   "id": "c8dd64aa-42a0-49f5-adc5-2fac9e4d105e",
   "metadata": {},
   "outputs": [],
   "source": [
    "del df['occultation_depth_lower_unc_percent'] # Delete this column\n",
    "del df['occultation_depth_upper_unc_percent'] # Delete this column\n",
    "del df['occultation_depth_limit_flag'] # Delete this column\n",
    "del df['occultation_depth_percent'] # Delete this column"
   ]
  },
  {
   "cell_type": "code",
   "execution_count": 33,
   "id": "33d4e3eb-23de-4239-a8ad-48c565077c32",
   "metadata": {
    "tags": []
   },
   "outputs": [
    {
     "data": {
      "text/plain": [
       "true_obliquity_lower_unc_deg         5752\n",
       "true_obliquity_upper_unc_deg         5752\n",
       "true_obliquity_limit_flag            5747\n",
       "true_obliquity_deg                   5747\n",
       "projected_obliquity_lower_unc_deg    5603\n",
       "                                     ... \n",
       "dec_deg                                 0\n",
       "galactic_latitude_deg                   0\n",
       "galactic_longitude_deg                  0\n",
       "ecliptic_latitude_deg                   0\n",
       "planet_name                             0\n",
       "Length: 204, dtype: int64"
      ]
     },
     "execution_count": 33,
     "metadata": {},
     "output_type": "execute_result"
    }
   ],
   "source": [
    "na_count = df.isna().sum() # Sum the NA values in each column again\n",
    "\n",
    "na_count.sort_values(ascending=False) # Check again for the next round of columns to investigate"
   ]
  },
  {
   "cell_type": "code",
   "execution_count": 34,
   "id": "13f7f760-3380-4dd1-bae1-41c87a737414",
   "metadata": {
    "tags": []
   },
   "outputs": [],
   "source": [
    "# True obliquity will be kept. Despite few values, it can be useful for the planets which do have information. "
   ]
  },
  {
   "cell_type": "code",
   "execution_count": 35,
   "id": "ebb21a0a-a6b0-45ef-aba9-285645df9184",
   "metadata": {
    "tags": []
   },
   "outputs": [
    {
     "data": {
      "text/plain": [
       "projected_obliquity_lower_unc_deg           5603\n",
       "projected_obliquity_upper_unc_deg           5603\n",
       "projected_obliquity_limit_flag              5601\n",
       "projected_obliquity_deg                     5601\n",
       "stellar_rotational_period_upper_unc_days    5212\n",
       "                                            ... \n",
       "dec_deg                                        0\n",
       "galactic_latitude_deg                          0\n",
       "galactic_longitude_deg                         0\n",
       "ecliptic_latitude_deg                          0\n",
       "planet_name                                    0\n",
       "Length: 200, dtype: int64"
      ]
     },
     "execution_count": 35,
     "metadata": {},
     "output_type": "execute_result"
    }
   ],
   "source": [
    "na_count = df.isna().sum() # Sum the NA values in each column again\n",
    "na_count.sort_values(ascending=False).iloc[4:]"
   ]
  },
  {
   "cell_type": "code",
   "execution_count": 36,
   "id": "c0bbad38-48f2-48de-8833-e0d9c72d71c5",
   "metadata": {
    "tags": []
   },
   "outputs": [],
   "source": [
    "# I am going to keep the projected obliquity. The obliquity can be useful when analyzing habitability of a planet, which \n",
    "# may be what I plan to do with this data. Projected obliquity has 187 more values. This is what gives Earth its seasons, so \n",
    "# if this value is too large, the climates are likely too extreme throughout a planet's year to be habitable. "
   ]
  },
  {
   "cell_type": "code",
   "execution_count": 37,
   "id": "5f91cfb6-8e2e-44af-a470-da4bf16a4143",
   "metadata": {
    "tags": []
   },
   "outputs": [
    {
     "data": {
      "text/plain": [
       "275.8"
      ]
     },
     "execution_count": 37,
     "metadata": {},
     "output_type": "execute_result"
    }
   ],
   "source": [
    "df['projected_obliquity_deg'].max() # 275.8 degrees is extreme and likely unhabitable. "
   ]
  },
  {
   "cell_type": "code",
   "execution_count": 38,
   "id": "36335a06-8126-4503-ac1a-f1206db66663",
   "metadata": {
    "tags": []
   },
   "outputs": [
    {
     "data": {
      "text/plain": [
       "-179.7"
      ]
     },
     "execution_count": 38,
     "metadata": {},
     "output_type": "execute_result"
    }
   ],
   "source": [
    "df['projected_obliquity_deg'].min() # Same with -179.7. The uncertainties will be valuable here, too, because they will\n",
    "# determine how valuable the data is. "
   ]
  },
  {
   "cell_type": "code",
   "execution_count": 39,
   "id": "5682beb3-dd33-4120-9f0a-93c8ad5f6b54",
   "metadata": {
    "tags": []
   },
   "outputs": [
    {
     "data": {
      "text/plain": [
       "stellar_rotational_period_upper_unc_days    5212\n",
       "stellar_rotational_period_lower_unc_days    5212\n",
       "stellar_rotational_period_limit_flag        5069\n",
       "stellar_rotational_period_days              5069\n",
       "epoch_of_periastron_upper_unc_days          4812\n",
       "                                            ... \n",
       "dec_deg                                        0\n",
       "galactic_latitude_deg                          0\n",
       "galactic_longitude_deg                         0\n",
       "ecliptic_latitude_deg                          0\n",
       "planet_name                                    0\n",
       "Length: 196, dtype: int64"
      ]
     },
     "execution_count": 39,
     "metadata": {},
     "output_type": "execute_result"
    }
   ],
   "source": [
    "na_count = df.isna().sum() # Sum the NA values in each column again\n",
    "na_count.sort_values(ascending=False).iloc[8:]"
   ]
  },
  {
   "cell_type": "code",
   "execution_count": 40,
   "id": "66919e28-6013-4ab4-a7b7-512cf028767e",
   "metadata": {
    "tags": []
   },
   "outputs": [],
   "source": [
    "# The stellar rotational period is not something I want to remove. Now, we are starting to get into less and less Nas. I will stop here. "
   ]
  },
  {
   "cell_type": "code",
   "execution_count": 41,
   "id": "136f3c17-523c-4199-b6bb-bcd8ec6a432b",
   "metadata": {},
   "outputs": [],
   "source": [
    "df = df.applymap(lambda x: x.lower() if isinstance(x, str) else x) # Check for strings in dataframe and make them all lowercase. Skip over non-strings"
   ]
  },
  {
   "cell_type": "code",
   "execution_count": 42,
   "id": "f78b5a56-7a38-4121-acb9-8e5060348e0e",
   "metadata": {
    "tags": []
   },
   "outputs": [],
   "source": [
    "# This data now looks clean to me. "
   ]
  },
  {
   "cell_type": "code",
   "execution_count": 43,
   "id": "e989321c-02e3-490a-bd36-b6c734334fc7",
   "metadata": {
    "tags": []
   },
   "outputs": [],
   "source": [
    "df.to_csv('exoplanets_clean.csv', index=False) # Save clean data to csv"
   ]
  },
  {
   "cell_type": "code",
   "execution_count": null,
   "id": "17a3c119-1342-4448-87a6-ebbae5bd3f81",
   "metadata": {},
   "outputs": [],
   "source": []
  }
 ],
 "metadata": {
  "kernelspec": {
   "display_name": "Python 3 (ipykernel)",
   "language": "python",
   "name": "python3"
  },
  "language_info": {
   "codemirror_mode": {
    "name": "ipython",
    "version": 3
   },
   "file_extension": ".py",
   "mimetype": "text/x-python",
   "name": "python",
   "nbconvert_exporter": "python",
   "pygments_lexer": "ipython3",
   "version": "3.11.4"
  },
  "toc-autonumbering": false
 },
 "nbformat": 4,
 "nbformat_minor": 5
}
