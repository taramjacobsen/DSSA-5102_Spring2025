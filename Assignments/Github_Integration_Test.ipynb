{
 "cells": [
  {
   "cell_type": "markdown",
   "id": "5ea6f388-d5ba-4397-9e50-7cf38ad19017",
   "metadata": {},
   "source": [
    "I followed the Blackboard tutorial for integrating Jupyter notebook with Github, and now I am publishing my first .ipynb via the terminal :) "
   ]
  },
  {
   "cell_type": "markdown",
   "id": "71044053",
   "metadata": {},
   "source": [
    "Include all of the following information on your README.md file for full credit. Be specific!:<br>\n",
    "More research may be needed on your dataset, besides general exploration, to answer the different types of metadata questions. If you are exploring your data at a greater depth to answer these questions, you can explore on this new document or continue working in Assignment #2.<br>\n",
    "(Refer to the Powerpoint notes on Blackboard for examples and guidance.)"
   ]
  },
  {
   "cell_type": "markdown",
   "id": "a3948dda",
   "metadata": {},
   "source": [
    "Where is the data from? ​\n",
    "\n",
    "How was it collected?​\n",
    "\n",
    "How was it extracted?​\n",
    "\n",
    "What program was used to clean the data?​\n",
    "\n",
    "How was the data cleaned or transformed? Be specific.​\n",
    "\n",
    "What are the units of the numeric data?​\n",
    "\n",
    "What were the formulas used in column creation?​\n",
    "\n",
    "How is the data validated to ensure consistency?​\n",
    "\n",
    "What are the definitions for the column names? Include all columns in your dataset.​\n",
    "\n",
    "If there are set variable options in your dataset, what are thier definitions? ​\n",
    "\n",
    "What are the regulations to using the data? \n",
    "\n",
    "If you are referencing sources, be sure to include citations/references as needed."
   ]
  },
  {
   "cell_type": "markdown",
   "id": "4ca19ef3",
   "metadata": {},
   "source": [
    "<b>Link to Github account:<b><br>\n",
    "<b>Link to README.md for our class repository:<b><br>"
   ]
  },
  {
   "cell_type": "code",
   "execution_count": null,
   "id": "c9126cac",
   "metadata": {},
   "outputs": [],
   "source": []
  }
 ],
 "metadata": {
  "kernelspec": {
   "display_name": "Python [conda env:base] *",
   "language": "python",
   "name": "conda-base-py"
  },
  "language_info": {
   "codemirror_mode": {
    "name": "ipython",
    "version": 3
   },
   "file_extension": ".py",
   "mimetype": "text/x-python",
   "name": "python",
   "nbconvert_exporter": "python",
   "pygments_lexer": "ipython3",
   "version": "3.9.21"
  }
 },
 "nbformat": 4,
 "nbformat_minor": 5
}
